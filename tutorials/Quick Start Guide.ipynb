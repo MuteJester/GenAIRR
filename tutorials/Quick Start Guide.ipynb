{
 "cells": [
  {
   "cell_type": "markdown",
   "source": [
    "# Quick Start Guide to GenAIRR\n",
    "\n",
    "Welcome to the Quick Start Guide for GenAIRR, a Python module designed for generating synthetic Adaptive Immune Receptor Repertoire (AIRR) sequences. This guide will walk you through the basic usage of GenAIRR, including setting up your environment, simulating heavy and light chain sequences, and customizing your simulations.\n"
   ],
   "metadata": {
    "collapsed": false
   },
   "id": "83e2c6a8384477e1"
  },
  {
   "cell_type": "markdown",
   "source": [
    "## Installation\n",
    "\n",
    "Before you begin, ensure that you have Python 3.x installed on your system. GenAIRR can be installed using pip, Python's package installer. Execute the following command in your terminal:\n"
   ],
   "metadata": {
    "collapsed": false
   },
   "id": "ed61a724084ddd1b"
  },
  {
   "cell_type": "code",
   "outputs": [],
   "source": [
    "import pandas as pd\n",
    "# Install GenAIRR using pip\n",
    "!pip install GenAIRR"
   ],
   "metadata": {
    "collapsed": false
   },
   "id": "4d9291702dd20ea2"
  },
  {
   "cell_type": "markdown",
   "source": [
    "## Setting Up\n",
    "\n",
    "To start using GenAIRR, you need to import the necessary classes from the module. We'll also set up a `DataConfig` object to specify our configuration.\n"
   ],
   "metadata": {
    "collapsed": false
   },
   "id": "6fbbb7fe05f8830b"
  },
  {
   "cell_type": "code",
   "outputs": [],
   "source": [
    "# Importing GenAIRR classes\n",
    "from GenAIRR.simulation import HeavyChainSequenceAugmentor, LightChainSequenceAugmentor, SequenceAugmentorArguments\n",
    "from GenAIRR.utilities import DataConfig\n",
    "from GenAIRR.data import builtin_heavy_chain_data_config,builtin_kappa_chain_data_config,builtin_lambda_chain_data_config\n",
    "# Initialize DataConfig with the path to your configuration\n",
    "data_config = DataConfig('/path/to/your/config')\n",
    "# Or Use one of Our Builtin Data Configs\n",
    "data_config_builtin = builtin_heavy_chain_data_config()\n",
    "\n",
    "\n",
    "# Set up augmentation arguments (if you have specific requirements)\n",
    "args = SequenceAugmentorArguments()\n"
   ],
   "metadata": {
    "collapsed": false
   },
   "id": "508742ea562446bc",
   "execution_count": null
  },
  {
   "cell_type": "markdown",
   "source": [
    "## Simulating Heavy Chain Sequences\n",
    "\n",
    "Let's simulate a heavy chain sequence using `HeavyChainSequenceAugmentor`. This example demonstrates a simple simulation with default settings.\n"
   ],
   "metadata": {
    "collapsed": false
   },
   "id": "b9f9c421437b8021"
  },
  {
   "cell_type": "code",
   "outputs": [],
   "source": [
    "# Initialize the HeavyChainSequenceAugmentor\n",
    "heavy_augmentor = HeavyChainSequenceAugmentor(data_config_builtin, args)\n",
    "\n",
    "# Simulate a heavy chain sequence\n",
    "heavy_sequence = heavy_augmentor.simulate_augmented_sequence\n",
    "\n",
    "# Print the simulated heavy chain sequence\n",
    "print(\"Simulated Heavy Chain Sequence:\", heavy_sequence)\n"
   ],
   "metadata": {
    "collapsed": false
   },
   "id": "166552dbc6c87aa1",
   "execution_count": null
  },
  {
   "cell_type": "markdown",
   "source": [
    "## Customizing Simulations\n",
    "\n",
    "GenAIRR allows for extensive customization to closely mimic the natural diversity of immune sequences. Below is an example of how to customize mutation rates and indel simulations.\n"
   ],
   "metadata": {
    "collapsed": false
   },
   "id": "dc2fb81c8ffec80f"
  },
  {
   "cell_type": "code",
   "outputs": [],
   "source": [
    "# Customize augmentation arguments\n",
    "custom_args = SequenceAugmentorArguments(min_mutation_rate=0.01, max_mutation_rate=0.05, simulate_indels=True, max_indels=3,\n",
    "                                         corrupt_proba=0.7,save_ns_record=True,save_mutations_record=True)\n",
    "\n",
    "# Use custom arguments to simulate a heavy chain sequence\n",
    "custom_heavy_augmentor = HeavyChainSequenceAugmentor(data_config_builtin, custom_args)\n",
    "custom_heavy_sequence = custom_heavy_augmentor.simulate_augmented_sequence()\n",
    "\n",
    "# Print the customized heavy chain sequence\n",
    "print(\"Customized Simulated Heavy Chain Sequence:\", custom_heavy_sequence)\n"
   ],
   "metadata": {
    "collapsed": false
   },
   "id": "dc899faeda4820c6",
   "execution_count": null
  },
  {
   "cell_type": "markdown",
   "source": [
    "## Generating Naïve Sequences\n",
    "\n",
    "In immunogenetics, a naïve sequence refers to an antibody sequence that has not undergone the process of somatic hypermutation. GenAIRR allows you to simulate such naïve sequences using the `HeavyChainSequence` class. Let's start by generating a naïve heavy chain sequence.\n"
   ],
   "metadata": {
    "collapsed": false
   },
   "id": "3e9677c49f998f6e"
  },
  {
   "cell_type": "code",
   "outputs": [],
   "source": [
    "from GenAIRR.sequence import HeavyChainSequence\n",
    "\n",
    "# Create a naive heavy chain sequence\n",
    "naive_heavy_sequence = HeavyChainSequence.create_random(data_config_builtin)\n",
    "\n",
    "# Access the generated naive sequence\n",
    "naive_sequence = naive_heavy_sequence\n",
    "\n",
    "print(\"Naïve Heavy Chain Sequence:\", naive_sequence)\n",
    "print('Ungapped Sequence: ')\n",
    "print(naive_sequence.ungapped_seq)\n"
   ],
   "metadata": {
    "collapsed": false
   },
   "id": "16de2d6c937f79e",
   "execution_count": null
  },
  {
   "cell_type": "markdown",
   "source": [
    "## Applying Mutations\n",
    "\n",
    "To mimic the natural diversity and evolution of immune sequences, GenAIRR supports the simulation of mutations through various models. Here, we demonstrate how to apply mutations to a naïve sequence using the `S5F` and `Uniform` mutation models from the mutations submodule.\n"
   ],
   "metadata": {
    "collapsed": false
   },
   "id": "fc1b9914d8e8366a"
  },
  {
   "cell_type": "markdown",
   "source": [
    "### Using the S5F Mutation Model\n",
    "\n",
    "The `S5F` model is a sophisticated mutation model that considers context-dependent mutation probabilities. It's particularly useful for simulating realistic somatic hypermutations.\n"
   ],
   "metadata": {
    "collapsed": false
   },
   "id": "fe2c0067f2ec7dc3"
  },
  {
   "cell_type": "code",
   "outputs": [],
   "source": [
    "from GenAIRR.mutation import S5F\n",
    "\n",
    "# Initialize the S5F mutation model with custom mutation rates\n",
    "s5f_model = S5F(min_mutation_rate=0.01, max_mutation_rate=0.05)\n",
    "\n",
    "# Apply mutations to the naive sequence using the S5F model\n",
    "s5f_mutated_sequence, mutations, mutation_rate = s5f_model.apply_mutation(naive_heavy_sequence)\n",
    "\n",
    "print(\"S5F Mutated Heavy Chain Sequence:\", s5f_mutated_sequence)\n",
    "print(\"S5F Mutation Details:\", mutations)\n",
    "print(\"S5F Mutation Rate:\", mutation_rate)\n"
   ],
   "metadata": {
    "collapsed": false
   },
   "id": "d6e8d59addc75159",
   "execution_count": null
  },
  {
   "cell_type": "markdown",
   "source": [
    "### Using the Uniform Mutation Model\n",
    "\n",
    "The `Uniform` mutation model applies mutations at a uniform rate across the sequence, providing a simpler alternative to the context-dependent models.\n"
   ],
   "metadata": {
    "collapsed": false
   },
   "id": "2be1586a5cef8f37"
  },
  {
   "cell_type": "code",
   "outputs": [],
   "source": [
    "from GenAIRR.mutation import Uniform\n",
    "\n",
    "# Initialize the Uniform mutation model with custom mutation rates\n",
    "uniform_model = Uniform(min_mutation_rate=0.01, max_mutation_rate=0.05)\n",
    "\n",
    "# Apply mutations to the naive sequence using the Uniform model\n",
    "uniform_mutated_sequence, mutations, mutation_rate = uniform_model.apply_mutation(naive_heavy_sequence)\n",
    "\n",
    "print(\"Uniform Mutated Heavy Chain Sequence:\", uniform_mutated_sequence)\n",
    "print(\"Uniform Mutation Details:\", mutations)\n",
    "print(\"Uniform Mutation Rate:\", mutation_rate)\n"
   ],
   "metadata": {
    "collapsed": false
   },
   "id": "8c077e1172ba16e4",
   "execution_count": null
  },
  {
   "cell_type": "markdown",
   "source": [
    "## Common Use Cases\n",
    "\n",
    "GenAIRR is a versatile tool designed to meet a broad range of needs in immunogenetics research. This section provides examples and explanations for some common use cases, including generating multiple sequences, simulating specific allele combinations, and more.\n"
   ],
   "metadata": {
    "collapsed": false
   },
   "id": "4441a709b198ed43"
  },
  {
   "cell_type": "markdown",
   "source": [
    "### Generating Many Sequences\n",
    "\n",
    "One common requirement is to generate a large dataset of synthetic AIRR sequences for analysis or benchmarking. Below is an example of how to generate multiple sequences using GenAIRR in a loop.\n"
   ],
   "metadata": {
    "collapsed": false
   },
   "id": "9fda30883909be54"
  },
  {
   "cell_type": "code",
   "outputs": [],
   "source": [
    "num_sequences = 5  # Number of sequences to generate\n",
    "\n",
    "heavy_sequences = []\n",
    "for _ in range(num_sequences):\n",
    "    # Simulate a heavy chain sequence\n",
    "    heavy_sequence = heavy_augmentor.simulate_augmented_sequence()\n",
    "    heavy_sequences.append(heavy_sequence)\n",
    "\n",
    "# Display the generated sequences\n",
    "for i, seq in enumerate(heavy_sequences, start=1):\n",
    "    print(f\"Heavy Chain Sequence {i}: {seq}\")\n"
   ],
   "metadata": {
    "collapsed": false
   },
   "id": "8e11eb63c589589c",
   "execution_count": null
  },
  {
   "cell_type": "code",
   "outputs": [],
   "source": [
    "import pandas as pd\n",
    "pd.DataFrame(heavy_sequences)"
   ],
   "metadata": {
    "collapsed": false
   },
   "id": "c6e596c6d66fe79",
   "execution_count": null
  },
  {
   "cell_type": "markdown",
   "source": [
    "### Generating a Specific Allele Combination Sequence\n",
    "\n",
    "In some cases, you might want to simulate sequences with specific V, D, and J allele combinations. Here's how to specify alleles for your simulations.\n"
   ],
   "metadata": {
    "collapsed": false
   },
   "id": "6602fbb859b7c053"
  },
  {
   "cell_type": "code",
   "outputs": [],
   "source": [
    "# Define your specific alleles\n",
    "v_allele = 'IGHVF6-G21*01'\n",
    "d_allele = 'IGHD5-18*01'\n",
    "j_allele = 'IGHJ6*03'\n",
    "\n",
    "# Extract the allele objects from data_config\n",
    "v_allele = next((allele for family in data_config_builtin.v_alleles.values() for allele in family if allele.name == v_allele), None)\n",
    "d_allele = next((allele for family in data_config_builtin.d_alleles.values() for allele in family if allele.name == d_allele), None)\n",
    "j_allele = next((allele for family in data_config_builtin.j_alleles.values() for allele in family if allele.name == j_allele), None)\n",
    "\n",
    "# Check if all alleles were found\n",
    "if not v_allele or not d_allele or not j_allele:\n",
    "    raise ValueError(\"One or more specified alleles could not be found in the data config.\")\n",
    "\n",
    "\n",
    "# Generate a sequence with the specified allele combination\n",
    "specific_allele_sequence = HeavyChainSequence([v_allele, d_allele, j_allele], data_config_builtin)\n",
    "specific_allele_sequence.mutate(s5f_model)\n",
    "\n",
    "\n",
    "\n",
    "print(\"Specific Allele Combination Sequence:\", specific_allele_sequence.mutated_seq)\n"
   ],
   "metadata": {
    "collapsed": false
   },
   "id": "742db83ce86050e2",
   "execution_count": null
  },
  {
   "cell_type": "markdown",
   "source": [
    "### Simulating Sequences with Custom Mutation Rates\n",
    "\n",
    "Adjusting mutation rates allows for the simulation of sequences at various stages of affinity maturation. Here's how to customize mutation rates in your simulations.\n"
   ],
   "metadata": {
    "collapsed": false
   },
   "id": "5dacc8b4f75f6263"
  },
  {
   "cell_type": "code",
   "outputs": [],
   "source": [
    "# Customize augmentation arguments with your desired mutation rates\n",
    "custom_args = SequenceAugmentorArguments(min_mutation_rate=0.15, max_mutation_rate=0.3)\n",
    "\n",
    "# Initialize the augmentor with custom arguments\n",
    "custom_augmentor = HeavyChainSequenceAugmentor(data_config_builtin, custom_args)\n",
    "\n",
    "# Generate a sequence with the custom mutation rates\n",
    "custom_mutation_sequence = custom_augmentor.simulate_augmented_sequence()\n",
    "\n",
    "print(\"Custom Mutation Rate Sequence:\", custom_mutation_sequence)\n"
   ],
   "metadata": {
    "collapsed": false
   },
   "id": "38baba664200ddbe",
   "execution_count": null
  },
  {
   "cell_type": "markdown",
   "source": [
    "### Generating Naïve vs. Mutated Sequence Pairs\n",
    "\n",
    "Comparing naïve and mutated versions of the same sequence can be useful for studying somatic hypermutation effects. Here's how to generate such pairs with GenAIRR.\n"
   ],
   "metadata": {
    "collapsed": false
   },
   "id": "e995d61b194da97d"
  },
  {
   "cell_type": "code",
   "outputs": [],
   "source": [
    "# Generate a naive sequence\n",
    "sequence_object = HeavyChainSequence.create_random(data_config_builtin)\n",
    "sequence_object.mutate(s5f_model)\n",
    "\n",
    "print(\"Naïve Sequence:\", sequence_object.ungapped_seq)\n",
    "print(\"Mutated Sequence:\", sequence_object.mutated_seq)\n"
   ],
   "metadata": {
    "collapsed": false
   },
   "id": "dbff7d10ebd89616",
   "execution_count": null
  },
  {
   "cell_type": "markdown",
   "source": [],
   "metadata": {
    "collapsed": false
   },
   "id": "5c62ac28908a74f0"
  },
  {
   "cell_type": "markdown",
   "source": [
    "## Conclusion\n",
    "\n",
    "This section highlighted some common use cases for GenAIRR, demonstrating its flexibility in simulating AIRR sequences for various research purposes. Whether you need large datasets, specific allele combinations, custom mutation rates, or comparative analyses of naïve and mutated sequences, GenAIRR provides the necessary tools to achieve your objectives.\n"
   ],
   "metadata": {
    "collapsed": false
   },
   "id": "e68d3e618c5a3aeb"
  },
  {
   "cell_type": "code",
   "outputs": [],
   "source": [],
   "metadata": {
    "collapsed": false
   },
   "id": "9db652be953661cf"
  }
 ],
 "metadata": {
  "kernelspec": {
   "display_name": "Python 3",
   "language": "python",
   "name": "python3"
  },
  "language_info": {
   "codemirror_mode": {
    "name": "ipython",
    "version": 2
   },
   "file_extension": ".py",
   "mimetype": "text/x-python",
   "name": "python",
   "nbconvert_exporter": "python",
   "pygments_lexer": "ipython2",
   "version": "2.7.6"
  }
 },
 "nbformat": 4,
 "nbformat_minor": 5
}

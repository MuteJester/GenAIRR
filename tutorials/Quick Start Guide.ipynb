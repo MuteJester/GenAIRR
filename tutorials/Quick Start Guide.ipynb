{
 "cells": [
  {
   "cell_type": "markdown",
   "source": [
    "# Quick Start Guide to GenAIRR\n",
    "\n",
    "Welcome to the Quick Start Guide for GenAIRR, a Python module designed for generating synthetic Adaptive Immune Receptor Repertoire (AIRR) sequences. This guide will walk you through the basic usage of GenAIRR, including setting up your environment, simulating heavy and light chain sequences, and customizing your simulations.\n"
   ],
   "metadata": {
    "collapsed": false
   },
   "id": "83e2c6a8384477e1"
  },
  {
   "cell_type": "markdown",
   "source": [
    "## Installation\n",
    "\n",
    "Before you begin, ensure that you have Python 3.x installed on your system. GenAIRR can be installed using pip, Python's package installer. Execute the following command in your terminal:\n"
   ],
   "metadata": {
    "collapsed": false
   },
   "id": "ed61a724084ddd1b"
  },
  {
   "cell_type": "code",
   "outputs": [],
   "source": [
    "import pandas as pd\n",
    "# Install GenAIRR using pip\n",
    "#!pip install GenAIRR"
   ],
   "metadata": {
    "collapsed": false,
    "is_executing": true
   },
   "id": "null",
   "execution_count": null
  },
  {
   "cell_type": "markdown",
   "source": [
    "## Setting Up\n",
    "\n",
    "To start using GenAIRR, you need to import the necessary classes from the module. We'll also set up a `DataConfig` object to specify our configuration.\n"
   ],
   "metadata": {
    "collapsed": false
   },
   "id": "6fbbb7fe05f8830b"
  },
  {
   "cell_type": "code",
   "outputs": [],
   "source": [
    "# Importing GenAIRR classes\n",
    "from GenAIRR.simulation import HeavyChainSequenceAugmentor, LightChainSequenceAugmentor, SequenceAugmentorArguments\n",
    "from GenAIRR.utilities import DataConfig\n",
    "from GenAIRR.data import builtin_heavy_chain_data_config,builtin_kappa_chain_data_config,builtin_lambda_chain_data_config\n",
    "# Initialize DataConfig with the path to your configuration\n",
    "#data_config = DataConfig('/path/to/your/config')\n",
    "# Or Use one of Our Builtin Data Configs\n",
    "data_config_builtin = builtin_heavy_chain_data_config()\n",
    "\n",
    "\n",
    "# Set up augmentation arguments (if you have specific requirements)\n",
    "args = SequenceAugmentorArguments()\n"
   ],
   "metadata": {
    "collapsed": false,
    "ExecuteTime": {
     "end_time": "2024-03-10T10:40:21.127700Z",
     "start_time": "2024-03-10T10:40:20.268172Z"
    }
   },
   "id": "508742ea562446bc",
   "execution_count": 49
  },
  {
   "cell_type": "markdown",
   "source": [
    "## Simulating Heavy Chain Sequences\n",
    "\n",
    "Let's simulate a heavy chain sequence using `HeavyChainSequenceAugmentor`. This example demonstrates a simple simulation with default settings.\n"
   ],
   "metadata": {
    "collapsed": false
   },
   "id": "b9f9c421437b8021"
  },
  {
   "cell_type": "code",
   "outputs": [
    {
     "name": "stdout",
     "output_type": "stream",
     "text": [
      "Simulated Heavy Chain Sequence: <bound method HeavyChainSequenceAugmentor.simulate_augmented_sequence of <GenAIRR.simulation.heavy_chain_sequence_augmentor.HeavyChainSequenceAugmentor object at 0x000001FD56378D90>>\n"
     ]
    }
   ],
   "source": [
    "# Initialize the HeavyChainSequenceAugmentor\n",
    "heavy_augmentor = HeavyChainSequenceAugmentor(data_config_builtin, args)\n",
    "\n",
    "# Simulate a heavy chain sequence\n",
    "heavy_sequence = heavy_augmentor.simulate_augmented_sequence\n",
    "\n",
    "# Print the simulated heavy chain sequence\n",
    "print(\"Simulated Heavy Chain Sequence:\", heavy_sequence)\n"
   ],
   "metadata": {
    "collapsed": false,
    "ExecuteTime": {
     "end_time": "2024-03-10T10:40:21.143739Z",
     "start_time": "2024-03-10T10:40:21.128777Z"
    }
   },
   "id": "166552dbc6c87aa1",
   "execution_count": 50
  },
  {
   "cell_type": "markdown",
   "source": [
    "## Customizing Simulations\n",
    "\n",
    "GenAIRR allows for extensive customization to closely mimic the natural diversity of immune sequences. Below is an example of how to customize mutation rates and indel simulations.\n"
   ],
   "metadata": {
    "collapsed": false
   },
   "id": "dc2fb81c8ffec80f"
  },
  {
   "cell_type": "code",
   "outputs": [
    {
     "name": "stdout",
     "output_type": "stream",
     "text": [
      "Customized Simulated Heavy Chain Sequence: {'sequence': 'GTGTTGGAGTACGAACGCGGAGTTCTGTTGTGAATTGGGCGGTGAGGTGCAGCTGGTGGAGTCTGGGGGAGGCTTGGTCCAGCCTGGGGGGCCCCTGNGACTCTCCTGTGCAGCCTCTGGANTCACCTTTAGTAGCTATTGGNTGAGGTGNGTCCGCCAGGCTCCAGGGAAGGGACTGGAGTGGGTGGCCAACATAAAACAAGATGGAAGTGAGAAATACTATGTNGACTCTGTGAAGGGCCGATTCACCATCTCCAGAGACAACGCCAAGAACTCACTGTATCTGCAAATGAACAGCCTGAGAGCCGAGGACNCGGCNGTGTATTACTGTGCGAGAGTCCGACAGGAGCAGCCAAATCGTCTCTTCGGCTACTCAGGGACCCTTTCTGGTTNGACCCCTGGGGCCAGGGAACCCTGGTCACCGTCTCCTCAG', 'v_sequence_start': 43, 'v_sequence_end': 338, 'd_sequence_start': 347, 'd_sequence_end': 353, 'j_sequence_start': 386, 'j_sequence_end': 433, 'v_call': 'IGHVF10-G49*03,IGHVF10-G49*04', 'd_call': 'IGHD6-13*01,IGHD6-25*01,IGHD6-6*01', 'j_call': 'IGHJ5*02', 'mutation_rate': 0.02771362586605081, 'v_trim_5': 0, 'v_trim_3': 1, 'd_trim_5': 6, 'd_trim_3': 6, 'j_trim_5': 4, 'j_trim_3': 0, 'corruption_event': 'add', 'corruption_add_amount': 43, 'corruption_remove_amount': 0, 'mutations': b'ezkxOiAnVD5DJywgMTQ3OiAnQz5HJywgMTc0OiAnRz5BJywgMTk4OiAnRz5BJ30=', 'Ns': b'ezk3OiAnQT5OJywgMTIxOiAnVD5OJywgMTQyOiAnQT5OJywgMTUwOiAnRz5OJywgMjI1OiAnRz5OJywgMzEzOiAnQT5OJywgMzE4OiAnVD5OJywgMzkyOiAnQz5OJ30=', 'indels': {}}\n"
     ]
    }
   ],
   "source": [
    "# Customize augmentation arguments\n",
    "custom_args = SequenceAugmentorArguments(min_mutation_rate=0.01, max_mutation_rate=0.05, simulate_indels=True, max_indels=3,\n",
    "                                         corrupt_proba=0.7,save_ns_record=True,save_mutations_record=True)\n",
    "\n",
    "# Use custom arguments to simulate a heavy chain sequence\n",
    "custom_heavy_augmentor = HeavyChainSequenceAugmentor(data_config_builtin, custom_args)\n",
    "custom_heavy_sequence = custom_heavy_augmentor.simulate_augmented_sequence()\n",
    "\n",
    "# Print the customized heavy chain sequence\n",
    "print(\"Customized Simulated Heavy Chain Sequence:\", custom_heavy_sequence)\n"
   ],
   "metadata": {
    "collapsed": false,
    "ExecuteTime": {
     "end_time": "2024-03-10T10:40:21.179017Z",
     "start_time": "2024-03-10T10:40:21.144803Z"
    }
   },
   "id": "dc899faeda4820c6",
   "execution_count": 51
  },
  {
   "cell_type": "markdown",
   "source": [
    "## Generating Naïve Sequences\n",
    "\n",
    "In immunogenetics, a naïve sequence refers to an antibody sequence that has not undergone the process of somatic hypermutation. GenAIRR allows you to simulate such naïve sequences using the `HeavyChainSequence` class. Let's start by generating a naïve heavy chain sequence.\n"
   ],
   "metadata": {
    "collapsed": false
   },
   "id": "3e9677c49f998f6e"
  },
  {
   "cell_type": "code",
   "outputs": [
    {
     "name": "stdout",
     "output_type": "stream",
     "text": [
      "Naïve Heavy Chain Sequence: 0|-----------------------------------------------------------------------------V(IGHVF3-G8*01)|294|296|----D(IGHD2-8*02)|312|332|------------J(IGHJ2*01)|381\n",
      "Ungapped Sequence: \n",
      "CAGGTGCAGCTGCAGGAGTCGGGCCCAGGACTGGTGAAGCCTCCGGGGACCCTGTCCCTCACCTGCGCTGTCTCTGGTGGCTCCATCAGCAGTAGTAACTGGTGGAGTTGGGTCCGCCAGCCCCCAGGGAAGGGGCTGGAGTGGATTGGGGAAATCTATCATAGTGGGAGCACCAACTACAACCCGTCCCTCAAGAGTCGAGTCACCATATCAGTAGACAAGTCCAAGAACCAGTTCTCCCTGAAGCTGAGCTCTGTGACCGCCGCGGACACGGCCGTGTATTGCTGTGCGAGAAAACTGGTGGTGTATGCTCCTATCTCCCACATAGGGCTTGGTACTTCGATCTCTGGGGCCGTGGCACCCTGGTCACTGTCTCCTCAG\n"
     ]
    }
   ],
   "source": [
    "from GenAIRR.sequence import HeavyChainSequence\n",
    "\n",
    "# Create a naive heavy chain sequence\n",
    "naive_heavy_sequence = HeavyChainSequence.create_random(data_config_builtin)\n",
    "\n",
    "# Access the generated naive sequence\n",
    "naive_sequence = naive_heavy_sequence\n",
    "\n",
    "print(\"Naïve Heavy Chain Sequence:\", naive_sequence)\n",
    "print('Ungapped Sequence: ')\n",
    "print(naive_sequence.ungapped_seq)\n"
   ],
   "metadata": {
    "collapsed": false,
    "ExecuteTime": {
     "end_time": "2024-03-10T10:40:21.185725Z",
     "start_time": "2024-03-10T10:40:21.181191Z"
    }
   },
   "id": "16de2d6c937f79e",
   "execution_count": 52
  },
  {
   "cell_type": "markdown",
   "source": [
    "## Applying Mutations\n",
    "\n",
    "To mimic the natural diversity and evolution of immune sequences, GenAIRR supports the simulation of mutations through various models. Here, we demonstrate how to apply mutations to a naïve sequence using the `S5F` and `Uniform` mutation models from the mutations submodule.\n"
   ],
   "metadata": {
    "collapsed": false
   },
   "id": "fc1b9914d8e8366a"
  },
  {
   "cell_type": "markdown",
   "source": [
    "### Using the S5F Mutation Model\n",
    "\n",
    "The `S5F` model is a sophisticated mutation model that considers context-dependent mutation probabilities. It's particularly useful for simulating realistic somatic hypermutations.\n"
   ],
   "metadata": {
    "collapsed": false
   },
   "id": "fe2c0067f2ec7dc3"
  },
  {
   "cell_type": "code",
   "outputs": [
    {
     "name": "stdout",
     "output_type": "stream",
     "text": [
      "S5F Mutated Heavy Chain Sequence: CAGGTGCAGCTGCAGGAGTCGGGCCCAGGACTGGTGAAGCCTCCGGGGACCCTGTCCCTCACCTGCGCTGTCTCTGCTGGCTCCATCAGCAGTAGTAACTGGTGGAGTTGGGTCCGCCAGCCCCCAGGGAAGGGGCTGGAGTGGATTGGGGAAATCTATCATAGTGGGAGCACCAACTACAACCCGTCCCTCTAGAGTCGAGTCACCATATCAGTAGACAAGTCCAAGAACCAGTTCTCCCTGAAGCAGAGCTCTGTGACCGCCGCGGACTCGGCCGTGTATTGCTGTGCGAGAAAACTGGTGGTGTATGCTCCTATCTCCCACATAGGGCTTGGTACTTCGATCTCTGGGGCCGTGGCACCCTGGTCACTGTCTCCTCAG\n",
      "S5F Mutation Details: {270: 'A>T', 192: 'A>T', 247: 'T>A', 76: 'G>C'}\n",
      "S5F Mutation Rate: 0.011222406361310347\n"
     ]
    }
   ],
   "source": [
    "from GenAIRR.mutation import S5F\n",
    "\n",
    "# Initialize the S5F mutation model with custom mutation rates\n",
    "s5f_model = S5F(min_mutation_rate=0.01, max_mutation_rate=0.05)\n",
    "\n",
    "# Apply mutations to the naive sequence using the S5F model\n",
    "s5f_mutated_sequence, mutations, mutation_rate = s5f_model.apply_mutation(naive_heavy_sequence)\n",
    "\n",
    "print(\"S5F Mutated Heavy Chain Sequence:\", s5f_mutated_sequence)\n",
    "print(\"S5F Mutation Details:\", mutations)\n",
    "print(\"S5F Mutation Rate:\", mutation_rate)\n"
   ],
   "metadata": {
    "collapsed": false,
    "ExecuteTime": {
     "end_time": "2024-03-10T10:40:21.209833Z",
     "start_time": "2024-03-10T10:40:21.187730Z"
    }
   },
   "id": "d6e8d59addc75159",
   "execution_count": 53
  },
  {
   "cell_type": "markdown",
   "source": [
    "### Using the Uniform Mutation Model\n",
    "\n",
    "The `Uniform` mutation model applies mutations at a uniform rate across the sequence, providing a simpler alternative to the context-dependent models.\n"
   ],
   "metadata": {
    "collapsed": false
   },
   "id": "2be1586a5cef8f37"
  },
  {
   "cell_type": "code",
   "outputs": [
    {
     "name": "stdout",
     "output_type": "stream",
     "text": [
      "Uniform Mutated Heavy Chain Sequence: CAGGTGCACCTGCAGGAGTCGGGCCGAGGAGTGGTGAAGCCTCCGGGGACCCTGTCCCTCACCTGCGCTGTCTCTGGTGGCTCCATCAGCAGTAGTTACTTGTGGAGTTGGGTCCGCCAGCCACCAGGGAAGGGGCTGGAGTGGATTGGGGAAATCTATCATAGTGGGAGCACCAACTACAACCCGTCCCTCAAGAGTCGAGTCACCATATCAGTAGACAAGTCCAAGAACCAGTTCTCCCTGAAGCTGAGCTCTGTGACCGCCGCGGACACGGCCGTGTATTGCTGTGCGAGAAAACTGGTGGTGTATGCTCCTATCTCCCACATAGGGCTTGGTACTTCGATCTGTGGGGCCGTGGCACCCTGGTCACTGTCTCCTCAG\n",
      "Uniform Mutation Details: {122: 'C>A', 8: 'G>C', 100: 'G>T', 96: 'A>T', 25: 'C>G', 346: 'C>G', 30: 'C>G'}\n",
      "Uniform Mutation Rate: 0.019802269687583134\n"
     ]
    }
   ],
   "source": [
    "from GenAIRR.mutation import Uniform\n",
    "\n",
    "# Initialize the Uniform mutation model with custom mutation rates\n",
    "uniform_model = Uniform(min_mutation_rate=0.01, max_mutation_rate=0.05)\n",
    "\n",
    "# Apply mutations to the naive sequence using the Uniform model\n",
    "uniform_mutated_sequence, mutations, mutation_rate = uniform_model.apply_mutation(naive_heavy_sequence)\n",
    "\n",
    "print(\"Uniform Mutated Heavy Chain Sequence:\", uniform_mutated_sequence)\n",
    "print(\"Uniform Mutation Details:\", mutations)\n",
    "print(\"Uniform Mutation Rate:\", mutation_rate)\n"
   ],
   "metadata": {
    "collapsed": false,
    "ExecuteTime": {
     "end_time": "2024-03-10T10:40:21.217823Z",
     "start_time": "2024-03-10T10:40:21.210912Z"
    }
   },
   "id": "8c077e1172ba16e4",
   "execution_count": 54
  },
  {
   "cell_type": "markdown",
   "source": [
    "## Common Use Cases\n",
    "\n",
    "GenAIRR is a versatile tool designed to meet a broad range of needs in immunogenetics research. This section provides examples and explanations for some common use cases, including generating multiple sequences, simulating specific allele combinations, and more.\n"
   ],
   "metadata": {
    "collapsed": false
   },
   "id": "4441a709b198ed43"
  },
  {
   "cell_type": "markdown",
   "source": [
    "### Generating Many Sequences\n",
    "\n",
    "One common requirement is to generate a large dataset of synthetic AIRR sequences for analysis or benchmarking. Below is an example of how to generate multiple sequences using GenAIRR in a loop.\n"
   ],
   "metadata": {
    "collapsed": false
   },
   "id": "9fda30883909be54"
  },
  {
   "cell_type": "code",
   "outputs": [
    {
     "name": "stdout",
     "output_type": "stream",
     "text": [
      "Heavy Chain Sequence 1: {'sequence': 'TTGGNAAGCCAGGCCCTGGAGTGACTTTCACACACTGATCGGTGCGANGCTGAACTCCACAACGCCTCCCTCAAAACCTGACCCACCACGTCCAGGGACCCGTCCGGTAGTCACATGGTCCTGACACTGTCGAACATGGACCCTGTGGACACAGTCACACATTACTGTGCACCGATNCCCCCCCCTACGANGATTCCGGCCGGGCCCTGGCTAATCCAATCACTTGTTGGAGGTCTGGGGCAAAGGGACCACGGCCACCGACTCNTAAG', 'v_sequence_start': 9, 'v_sequence_end': 176, 'd_sequence_start': 185, 'd_sequence_end': 199, 'j_sequence_start': 207, 'j_sequence_end': 269, 'v_call': 'IGHVF1-G3*06,IGHVF1-G3*05,IGHVF1-G3*04', 'd_call': 'IGHD3-10*03', 'j_call': 'IGHJ6*03', 'mutation_rate': 0.241635687732342, 'v_trim_5': 0, 'v_trim_3': 2, 'd_trim_5': 4, 'd_trim_3': 13, 'j_trim_5': 2, 'j_trim_3': 0, 'corruption_event': 'remove_before_add', 'corruption_add_amount': 9, 'corruption_remove_amount': 132, 'indels': {}}\n",
      "Heavy Chain Sequence 2: {'sequence': 'CAGCTGCAGTTGCAGGAGTCGGGCCCNGGACTGGTGAAGCCTTTGGAGGCCCAGTCCCTCTCGTACCCTGTCTCTGGTGACTCCATCAGCAATAGTGGTTACTCCTGGGGCTGAATCCGTCCCCCCNCAGGGAAGGGGCTGGAGTGGATNGCGACTATANATTATAGGGGCAGCTCCTGCTACAACCCGTCCCTCAAGAGTCGAGTCACCATCTCCACAGACACGTCCAAGAAGCAGGTCTCCCTGATGCTGAGCTCTATGACCGCCGCANACACGACTGTNTATTACTGTGCGAGAGTCATGGTTCTGATGTTTTGGAGCAACTGGTTCGACCCCTGGGACCAGGGAAGCCTGGTCACCCTCTCCTCAN', 'v_sequence_start': 0, 'v_sequence_end': 297, 'd_sequence_start': 308, 'd_sequence_end': 317, 'j_sequence_start': 320, 'j_sequence_end': 370, 'v_call': 'IGHVF3-G10*06', 'd_call': 'IGHD3-9*01', 'j_call': 'IGHJ5*02', 'mutation_rate': 0.11621621621621622, 'v_trim_5': 0, 'v_trim_3': 2, 'd_trim_5': 8, 'd_trim_3': 15, 'j_trim_5': 1, 'j_trim_3': 0, 'corruption_event': 'no-corruption', 'corruption_add_amount': 0, 'corruption_remove_amount': 0, 'indels': {}}\n",
      "Heavy Chain Sequence 3: {'sequence': 'CAGAAGAGACTGGTGCAGTCTGGGGTTGACATGAAGACGACTGGGTCGTAATTGAAACTTTCACGAAAGACTTCTGAATACACTCGCACANACCGCTATCTGCACTGGGTCCGACAGGCCCCCAGACGGGCGTTTGAGTGGGTGGGGNGGATCACGCCTTTCAGTGGTAACACCCACTACGTGCAGACGTCCCAGGACAGAGTCCCCATTACCAGGNACAAGTNTACGAGTCCAGCCTATATAGAACTGAACACCCTNAAATGCGAGGACACAGACATATATTAATGCGCANGATCCACGGGAACCCCAGCNGAGAACTGGTACTTCGATCTTTGGGGCCGTGGCCCCCTGATCACCGTCTACTCTG', 'v_sequence_start': 0, 'v_sequence_end': 295, 'd_sequence_start': 295, 'd_sequence_end': 305, 'j_sequence_start': 316, 'j_sequence_end': 367, 'v_call': 'IGHVF6-G20*02', 'd_call': 'IGHD4-11*01,IGHD4-4*01', 'j_call': 'IGHJ2*01', 'mutation_rate': 0.1989100817438692, 'v_trim_5': 0, 'v_trim_3': 1, 'd_trim_5': 3, 'd_trim_3': 3, 'j_trim_5': 3, 'j_trim_3': 0, 'corruption_event': 'no-corruption', 'corruption_add_amount': 0, 'corruption_remove_amount': 0, 'indels': {}}\n",
      "Heavy Chain Sequence 4: {'sequence': 'CAGTTTCAGCTGGTGCCGTCTGGAGCTGAGGTGAAGAAGNCTGNGGCCTCAGTGAAGGTCTCCTGCAAGGCTTCTGANTACACCTTCACCAGGTATGATATNAGCTNGGTTCGACAGGCCCCTGGACAAGGGCTTGAGTGGGTGGGATGGATCAGCGCTTACAAGGGTAACACAAACTATGAACAGAAGCTCCAGGGCAGAGTCACCATGACCACTGACACATCCACGAGCACAGCCTACATAGAGCTGAGGAGTCTGAGATCTGACGACACGGCCGTGTATCACTGTGCGAGAATCGGCGGCAGGGACGAGTCCGCAGATATCTCGCATCCCTATTGCTACTCCGGTATGGACGTCTGGGGCCAAGNNACCACGGTCACCGTCTCCTCAG', 'v_sequence_start': 0, 'v_sequence_end': 294, 'd_sequence_start': 316, 'd_sequence_end': 323, 'j_sequence_start': 332, 'j_sequence_end': 391, 'v_call': 'IGHVF6-G25*02', 'd_call': 'IGHD5-18*01,IGHD5-5*01', 'j_call': 'IGHJ6*02', 'mutation_rate': 0.0639386189258312, 'v_trim_5': 0, 'v_trim_3': 2, 'd_trim_5': 8, 'd_trim_3': 6, 'j_trim_5': 4, 'j_trim_3': 0, 'corruption_event': 'no-corruption', 'corruption_add_amount': 0, 'corruption_remove_amount': 0, 'indels': {}}\n",
      "Heavy Chain Sequence 5: {'sequence': 'GAGGTGCAACTGCTGCAGACCGGGTCAGACTTGATACAGCCAGGGGAGTCCCTCANACTGCCCTGTGCAGCCTCTGGATTCACCTGGTGAANGNATGCCGTGAATTGGGGCCGGCGGCCTCCAGGGATGGGACTTGATTGGGTCTCAGTTCTNAGTGCTAGTGGTGAGAGAACNTTCTCCATAGACTCCATGAAGGGCCGGGTCACCACCTCCAGGGTCAATTGCAAGAGTACGCTGTATCTGAAAATGAAGGGCCTGAGAGCCGAGGACGCGGCTGTTTATTATTGAGCGAGAGAGGCCTTAGGGTCGGATTACTACTCCTTTTACATGGACGTCTGGGGCACAGGGACCGCGGNCACCGTCTCGTCAC', 'v_sequence_start': 0, 'v_sequence_end': 296, 'd_sequence_start': 302, 'd_sequence_end': 306, 'j_sequence_start': 310, 'j_sequence_end': 370, 'v_call': 'IGHVF10-G41*02', 'd_call': 'Short-D', 'j_call': 'IGHJ6*03', 'mutation_rate': 0.1972972972972973, 'v_trim_5': 0, 'v_trim_3': 0, 'd_trim_5': 7, 'd_trim_3': 6, 'j_trim_5': 4, 'j_trim_3': 0, 'corruption_event': 'no-corruption', 'corruption_add_amount': 0, 'corruption_remove_amount': 0, 'indels': {}}\n"
     ]
    }
   ],
   "source": [
    "num_sequences = 5  # Number of sequences to generate\n",
    "\n",
    "heavy_sequences = []\n",
    "for _ in range(num_sequences):\n",
    "    # Simulate a heavy chain sequence\n",
    "    heavy_sequence = heavy_augmentor.simulate_augmented_sequence()\n",
    "    heavy_sequences.append(heavy_sequence)\n",
    "\n",
    "# Display the generated sequences\n",
    "for i, seq in enumerate(heavy_sequences, start=1):\n",
    "    print(f\"Heavy Chain Sequence {i}: {seq}\")\n"
   ],
   "metadata": {
    "collapsed": false,
    "ExecuteTime": {
     "end_time": "2024-03-10T10:40:21.338573Z",
     "start_time": "2024-03-10T10:40:21.220839Z"
    }
   },
   "id": "8e11eb63c589589c",
   "execution_count": 55
  },
  {
   "cell_type": "code",
   "outputs": [
    {
     "data": {
      "text/plain": "                                            sequence  v_sequence_start  \\\n0  TTGGNAAGCCAGGCCCTGGAGTGACTTTCACACACTGATCGGTGCG...                 9   \n1  CAGCTGCAGTTGCAGGAGTCGGGCCCNGGACTGGTGAAGCCTTTGG...                 0   \n2  CAGAAGAGACTGGTGCAGTCTGGGGTTGACATGAAGACGACTGGGT...                 0   \n3  CAGTTTCAGCTGGTGCCGTCTGGAGCTGAGGTGAAGAAGNCTGNGG...                 0   \n4  GAGGTGCAACTGCTGCAGACCGGGTCAGACTTGATACAGCCAGGGG...                 0   \n\n   v_sequence_end  d_sequence_start  d_sequence_end  j_sequence_start  \\\n0             176               185             199               207   \n1             297               308             317               320   \n2             295               295             305               316   \n3             294               316             323               332   \n4             296               302             306               310   \n\n   j_sequence_end                                  v_call  \\\n0             269  IGHVF1-G3*06,IGHVF1-G3*05,IGHVF1-G3*04   \n1             370                           IGHVF3-G10*06   \n2             367                           IGHVF6-G20*02   \n3             391                           IGHVF6-G25*02   \n4             370                          IGHVF10-G41*02   \n\n                   d_call    j_call  ...  v_trim_5  v_trim_3  d_trim_5  \\\n0             IGHD3-10*03  IGHJ6*03  ...         0         2         4   \n1              IGHD3-9*01  IGHJ5*02  ...         0         2         8   \n2  IGHD4-11*01,IGHD4-4*01  IGHJ2*01  ...         0         1         3   \n3  IGHD5-18*01,IGHD5-5*01  IGHJ6*02  ...         0         2         8   \n4                 Short-D  IGHJ6*03  ...         0         0         7   \n\n   d_trim_3  j_trim_5  j_trim_3   corruption_event corruption_add_amount  \\\n0        13         2         0  remove_before_add                     9   \n1        15         1         0      no-corruption                     0   \n2         3         3         0      no-corruption                     0   \n3         6         4         0      no-corruption                     0   \n4         6         4         0      no-corruption                     0   \n\n   corruption_remove_amount  indels  \n0                       132      {}  \n1                         0      {}  \n2                         0      {}  \n3                         0      {}  \n4                         0      {}  \n\n[5 rows x 21 columns]",
      "text/html": "<div>\n<style scoped>\n    .dataframe tbody tr th:only-of-type {\n        vertical-align: middle;\n    }\n\n    .dataframe tbody tr th {\n        vertical-align: top;\n    }\n\n    .dataframe thead th {\n        text-align: right;\n    }\n</style>\n<table border=\"1\" class=\"dataframe\">\n  <thead>\n    <tr style=\"text-align: right;\">\n      <th></th>\n      <th>sequence</th>\n      <th>v_sequence_start</th>\n      <th>v_sequence_end</th>\n      <th>d_sequence_start</th>\n      <th>d_sequence_end</th>\n      <th>j_sequence_start</th>\n      <th>j_sequence_end</th>\n      <th>v_call</th>\n      <th>d_call</th>\n      <th>j_call</th>\n      <th>...</th>\n      <th>v_trim_5</th>\n      <th>v_trim_3</th>\n      <th>d_trim_5</th>\n      <th>d_trim_3</th>\n      <th>j_trim_5</th>\n      <th>j_trim_3</th>\n      <th>corruption_event</th>\n      <th>corruption_add_amount</th>\n      <th>corruption_remove_amount</th>\n      <th>indels</th>\n    </tr>\n  </thead>\n  <tbody>\n    <tr>\n      <th>0</th>\n      <td>TTGGNAAGCCAGGCCCTGGAGTGACTTTCACACACTGATCGGTGCG...</td>\n      <td>9</td>\n      <td>176</td>\n      <td>185</td>\n      <td>199</td>\n      <td>207</td>\n      <td>269</td>\n      <td>IGHVF1-G3*06,IGHVF1-G3*05,IGHVF1-G3*04</td>\n      <td>IGHD3-10*03</td>\n      <td>IGHJ6*03</td>\n      <td>...</td>\n      <td>0</td>\n      <td>2</td>\n      <td>4</td>\n      <td>13</td>\n      <td>2</td>\n      <td>0</td>\n      <td>remove_before_add</td>\n      <td>9</td>\n      <td>132</td>\n      <td>{}</td>\n    </tr>\n    <tr>\n      <th>1</th>\n      <td>CAGCTGCAGTTGCAGGAGTCGGGCCCNGGACTGGTGAAGCCTTTGG...</td>\n      <td>0</td>\n      <td>297</td>\n      <td>308</td>\n      <td>317</td>\n      <td>320</td>\n      <td>370</td>\n      <td>IGHVF3-G10*06</td>\n      <td>IGHD3-9*01</td>\n      <td>IGHJ5*02</td>\n      <td>...</td>\n      <td>0</td>\n      <td>2</td>\n      <td>8</td>\n      <td>15</td>\n      <td>1</td>\n      <td>0</td>\n      <td>no-corruption</td>\n      <td>0</td>\n      <td>0</td>\n      <td>{}</td>\n    </tr>\n    <tr>\n      <th>2</th>\n      <td>CAGAAGAGACTGGTGCAGTCTGGGGTTGACATGAAGACGACTGGGT...</td>\n      <td>0</td>\n      <td>295</td>\n      <td>295</td>\n      <td>305</td>\n      <td>316</td>\n      <td>367</td>\n      <td>IGHVF6-G20*02</td>\n      <td>IGHD4-11*01,IGHD4-4*01</td>\n      <td>IGHJ2*01</td>\n      <td>...</td>\n      <td>0</td>\n      <td>1</td>\n      <td>3</td>\n      <td>3</td>\n      <td>3</td>\n      <td>0</td>\n      <td>no-corruption</td>\n      <td>0</td>\n      <td>0</td>\n      <td>{}</td>\n    </tr>\n    <tr>\n      <th>3</th>\n      <td>CAGTTTCAGCTGGTGCCGTCTGGAGCTGAGGTGAAGAAGNCTGNGG...</td>\n      <td>0</td>\n      <td>294</td>\n      <td>316</td>\n      <td>323</td>\n      <td>332</td>\n      <td>391</td>\n      <td>IGHVF6-G25*02</td>\n      <td>IGHD5-18*01,IGHD5-5*01</td>\n      <td>IGHJ6*02</td>\n      <td>...</td>\n      <td>0</td>\n      <td>2</td>\n      <td>8</td>\n      <td>6</td>\n      <td>4</td>\n      <td>0</td>\n      <td>no-corruption</td>\n      <td>0</td>\n      <td>0</td>\n      <td>{}</td>\n    </tr>\n    <tr>\n      <th>4</th>\n      <td>GAGGTGCAACTGCTGCAGACCGGGTCAGACTTGATACAGCCAGGGG...</td>\n      <td>0</td>\n      <td>296</td>\n      <td>302</td>\n      <td>306</td>\n      <td>310</td>\n      <td>370</td>\n      <td>IGHVF10-G41*02</td>\n      <td>Short-D</td>\n      <td>IGHJ6*03</td>\n      <td>...</td>\n      <td>0</td>\n      <td>0</td>\n      <td>7</td>\n      <td>6</td>\n      <td>4</td>\n      <td>0</td>\n      <td>no-corruption</td>\n      <td>0</td>\n      <td>0</td>\n      <td>{}</td>\n    </tr>\n  </tbody>\n</table>\n<p>5 rows × 21 columns</p>\n</div>"
     },
     "execution_count": 56,
     "metadata": {},
     "output_type": "execute_result"
    }
   ],
   "source": [
    "import pandas as pd\n",
    "pd.DataFrame(heavy_sequences)"
   ],
   "metadata": {
    "collapsed": false,
    "ExecuteTime": {
     "end_time": "2024-03-10T10:40:21.358691Z",
     "start_time": "2024-03-10T10:40:21.339647Z"
    }
   },
   "id": "c6e596c6d66fe79",
   "execution_count": 56
  },
  {
   "cell_type": "markdown",
   "source": [
    "### Generating a Specific Allele Combination Sequence\n",
    "\n",
    "In some cases, you might want to simulate sequences with specific V, D, and J allele combinations. Here's how to specify alleles for your simulations.\n"
   ],
   "metadata": {
    "collapsed": false
   },
   "id": "6602fbb859b7c053"
  },
  {
   "cell_type": "code",
   "outputs": [
    {
     "name": "stdout",
     "output_type": "stream",
     "text": [
      "Specific Allele Combination Sequence: CAGGTGCAGTTGGTGCAGTCTGGGACTGAGTTGAAGACGCCTGGGTCCTCGGTGAAGGTCTCCTGCAAGGCTTCTAGAGGCACCTTCAGCAGCTCTGCTATCAGCTGGGTGCGACAGGCCCCTGGACAAGGGCTTGAGTGGATGGGAGGGATCATCCCTATCTTTGGTACAGCAAACTACGCACAGAAGTTCCAGGGCAGAGTCACGATTACCGCGGATAAATCCACGAGCACAGCCTACATGGAGCTGAGCAGCCTGAGATCTGAGGATACGGCCGTGTATTACTGTGCGAGAGAGGATGGGTCCGGATCCCACCCCATTTACTATTACTACTACTACATGGACGTCTGGGGCAAAGGGACCACGGTCACCGTCTCCTCAG\n"
     ]
    }
   ],
   "source": [
    "# Define your specific alleles\n",
    "v_allele = 'IGHVF6-G21*01'\n",
    "d_allele = 'IGHD5-18*01'\n",
    "j_allele = 'IGHJ6*03'\n",
    "\n",
    "# Extract the allele objects from data_config\n",
    "v_allele = next((allele for family in data_config_builtin.v_alleles.values() for allele in family if allele.name == v_allele), None)\n",
    "d_allele = next((allele for family in data_config_builtin.d_alleles.values() for allele in family if allele.name == d_allele), None)\n",
    "j_allele = next((allele for family in data_config_builtin.j_alleles.values() for allele in family if allele.name == j_allele), None)\n",
    "\n",
    "# Check if all alleles were found\n",
    "if not v_allele or not d_allele or not j_allele:\n",
    "    raise ValueError(\"One or more specified alleles could not be found in the data config.\")\n",
    "\n",
    "\n",
    "# Generate a sequence with the specified allele combination\n",
    "specific_allele_sequence = HeavyChainSequence([v_allele, d_allele, j_allele], data_config_builtin)\n",
    "specific_allele_sequence.mutate(s5f_model)\n",
    "\n",
    "\n",
    "\n",
    "print(\"Specific Allele Combination Sequence:\", specific_allele_sequence.mutated_seq)\n"
   ],
   "metadata": {
    "collapsed": false,
    "ExecuteTime": {
     "end_time": "2024-03-10T10:40:21.371960Z",
     "start_time": "2024-03-10T10:40:21.360839Z"
    }
   },
   "id": "742db83ce86050e2",
   "execution_count": 57
  },
  {
   "cell_type": "markdown",
   "source": [
    "### Simulating Sequences with Custom Mutation Rates\n",
    "\n",
    "Adjusting mutation rates allows for the simulation of sequences at various stages of affinity maturation. Here's how to customize mutation rates in your simulations.\n"
   ],
   "metadata": {
    "collapsed": false
   },
   "id": "5dacc8b4f75f6263"
  },
  {
   "cell_type": "code",
   "outputs": [
    {
     "name": "stdout",
     "output_type": "stream",
     "text": [
      "Custom Mutation Rate Sequence: {'sequence': 'GGTTGGAGCTCATTGGGAGCTNCTATTCTAGTGGGACTACCTAGTACAACCTGTCCCTCAAGAATCGCGTCACCATATCAGTCGACACGTCCAAGAATCANTCCTCCCTGGAGCTGAGCTCCGTGACCGCAGCGGACACGGCCGTGCCTNGTTGNGCGGGAAAGTTGAATATAGTGGCTAACTCTGCCTTTTGCTCTCTGGGGCCAGGGGACAGTGGCCACTGTTTTTTCAG', 'v_sequence_start': 0, 'v_sequence_end': 161, 'd_sequence_start': 165, 'd_sequence_end': 180, 'j_sequence_start': 186, 'j_sequence_end': 232, 'v_call': 'IGHVF3-G10*04', 'd_call': 'IGHD5-12*01,IGHD5-18*02', 'j_call': 'IGHJ3*02', 'mutation_rate': 0.15517241379310345, 'v_trim_5': 0, 'v_trim_3': 1, 'd_trim_5': 4, 'd_trim_3': 8, 'j_trim_5': 4, 'j_trim_3': 0, 'corruption_event': 'remove', 'corruption_add_amount': 0, 'corruption_remove_amount': 136, 'indels': {}}\n"
     ]
    }
   ],
   "source": [
    "# Customize augmentation arguments with your desired mutation rates\n",
    "custom_args = SequenceAugmentorArguments(min_mutation_rate=0.15, max_mutation_rate=0.3)\n",
    "\n",
    "# Initialize the augmentor with custom arguments\n",
    "custom_augmentor = HeavyChainSequenceAugmentor(data_config_builtin, custom_args)\n",
    "\n",
    "# Generate a sequence with the custom mutation rates\n",
    "custom_mutation_sequence = custom_augmentor.simulate_augmented_sequence()\n",
    "\n",
    "print(\"Custom Mutation Rate Sequence:\", custom_mutation_sequence)\n"
   ],
   "metadata": {
    "collapsed": false,
    "ExecuteTime": {
     "end_time": "2024-03-10T10:40:21.424082Z",
     "start_time": "2024-03-10T10:40:21.376458Z"
    }
   },
   "id": "38baba664200ddbe",
   "execution_count": 58
  },
  {
   "cell_type": "markdown",
   "source": [
    "### Generating Naïve vs. Mutated Sequence Pairs\n",
    "\n",
    "Comparing naïve and mutated versions of the same sequence can be useful for studying somatic hypermutation effects. Here's how to generate such pairs with GenAIRR.\n"
   ],
   "metadata": {
    "collapsed": false
   },
   "id": "e995d61b194da97d"
  },
  {
   "cell_type": "code",
   "outputs": [
    {
     "name": "stdout",
     "output_type": "stream",
     "text": [
      "Naïve Sequence: CAGGTGCAGCTGCAGGAGTCGGGCCCAGGACTGGTGAAGCCTTCGGACACCCTGTCCCTCACCTGCGCTGTCTCTGGTTACTCCATCAGCAGTAGTAACTGGTGGGGCTGGATCCGGCAGCCCCCAGGGAAGGGACTGGAGTGGATTGGGTACATCTATTATAGTGGGAGCATCTACTACAACCCGTCCCTCAAGAGTCGAGTCACCATGTCAGTAGACACGTCCAAGAACCAGTTCTCCCTGAAGCTGAGCTCTGTGACCGCCGTGGACACGGCCGTGTATTACTGTGCGAGAAAGCCACTCGGTCACACTACGGTGGTAACTCATGCTTTTGATATCTGGGGCCAAGGGACAATGGTCACCGTCTCTTCAG\n",
      "Mutated Sequence: CAGGTGCAGCTGCAGGAGTCGGGCCCAGGACTGGTGAAGCCTTCGGACACCCTGTCCCTCACCTGCGCTGTCTCTGGTTACTCCATCAGCAGTAGTAACTGGTGGGGCTGGATCCGGCAGCCCCCAGGGAAGGGACTGGAGTGGATTGGGAACATCCATTATAGTGGGAGCATCTACTACAACCCGTCCCTCAAGAGTCGAGTCACCATGTCACTAGACACGTCCAAGAACCAGTTCTCCCTGAAACTGAGCTCTGTGGCCGCCGTGGACACGGCCGTGTATTACTGTGCGAGAACGCCACTCGGTCACACTACGGTGGTAATTCATGCTTTTGATATCTGGGGCCAAGGGACAATGGTCACCGTCTCTTCAG\n"
     ]
    }
   ],
   "source": [
    "# Generate a naive sequence\n",
    "sequence_object = HeavyChainSequence.create_random(data_config_builtin)\n",
    "sequence_object.mutate(s5f_model)\n",
    "\n",
    "print(\"Naïve Sequence:\", sequence_object.ungapped_seq)\n",
    "print(\"Mutated Sequence:\", sequence_object.mutated_seq)\n"
   ],
   "metadata": {
    "collapsed": false,
    "ExecuteTime": {
     "end_time": "2024-03-10T10:40:21.434293Z",
     "start_time": "2024-03-10T10:40:21.425151Z"
    }
   },
   "id": "dbff7d10ebd89616",
   "execution_count": 59
  },
  {
   "cell_type": "markdown",
   "source": [],
   "metadata": {
    "collapsed": false
   },
   "id": "5c62ac28908a74f0"
  },
  {
   "cell_type": "markdown",
   "source": [
    "## Conclusion\n",
    "\n",
    "This section highlighted some common use cases for GenAIRR, demonstrating its flexibility in simulating AIRR sequences for various research purposes. Whether you need large datasets, specific allele combinations, custom mutation rates, or comparative analyses of naïve and mutated sequences, GenAIRR provides the necessary tools to achieve your objectives.\n"
   ],
   "metadata": {
    "collapsed": false
   },
   "id": "e68d3e618c5a3aeb"
  }
 ],
 "metadata": {
  "kernelspec": {
   "display_name": "Python 3",
   "language": "python",
   "name": "python3"
  },
  "language_info": {
   "codemirror_mode": {
    "name": "ipython",
    "version": 2
   },
   "file_extension": ".py",
   "mimetype": "text/x-python",
   "name": "python",
   "nbconvert_exporter": "python",
   "pygments_lexer": "ipython2",
   "version": "2.7.6"
  }
 },
 "nbformat": 4,
 "nbformat_minor": 5
}

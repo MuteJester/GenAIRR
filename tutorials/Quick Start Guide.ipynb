{
 "cells": [
  {
   "cell_type": "markdown",
   "source": [
    "# Quick Start Guide to GenAIRR\n",
    "\n",
    "Welcome to the Quick Start Guide for GenAIRR, a Python module designed for generating synthetic Adaptive Immune Receptor Repertoire (AIRR) sequences. This guide will walk you through the basic usage of GenAIRR, including setting up your environment, simulating heavy and light chain sequences, and customizing your simulations.\n"
   ],
   "metadata": {
    "collapsed": false
   },
   "id": "83e2c6a8384477e1"
  },
  {
   "cell_type": "markdown",
   "source": [
    "## Installation\n",
    "\n",
    "Before you begin, ensure that you have Python 3.x installed on your system. GenAIRR can be installed using pip, Python's package installer. Execute the following command in your terminal:\n"
   ],
   "metadata": {
    "collapsed": false
   },
   "id": "ed61a724084ddd1b"
  },
  {
   "cell_type": "code",
   "outputs": [],
   "source": [
    "import pandas as pd\n",
    "# Install GenAIRR using pip\n",
    "!pip install GenAIRR\n"
   ],
   "metadata": {
    "collapsed": false
   },
   "id": "4d9291702dd20ea2"
  },
  {
   "cell_type": "markdown",
   "source": [
    "## Setting Up\n",
    "\n",
    "To start using GenAIRR, you need to import the necessary classes from the module. We'll also set up a `DataConfig` object to specify our configuration.\n"
   ],
   "metadata": {
    "collapsed": false
   },
   "id": "6fbbb7fe05f8830b"
  },
  {
   "cell_type": "code",
   "outputs": [],
   "source": [
    "# Importing GenAIRR classes\n",
    "from GenAIRR.simulation import HeavyChainSequenceAugmentor, LightChainSequenceAugmentor, SequenceAugmentorArguments\n",
    "from GenAIRR.utilities import DataConfig\n",
    "from GenAIRR.data import builtin_heavy_chain_data_config,builtin_kappa_chain_data_config,builtin_lambda_chain_data_config\n",
    "# Initialize DataConfig with the path to your configuration\n",
    "data_config = DataConfig('/path/to/your/config')\n",
    "# Or Use one of Our Builtin Data Configs\n",
    "data_config_builtin = builtin_heavy_chain_data_config()\n",
    "\n",
    "\n",
    "# Set up augmentation arguments (if you have specific requirements)\n",
    "args = SequenceAugmentorArguments()\n"
   ],
   "metadata": {
    "collapsed": false,
    "ExecuteTime": {
     "end_time": "2024-03-10T10:16:54.512013Z",
     "start_time": "2024-03-10T10:16:54.261104Z"
    }
   },
   "id": "508742ea562446bc",
   "execution_count": 4
  },
  {
   "cell_type": "markdown",
   "source": [
    "## Simulating Heavy Chain Sequences\n",
    "\n",
    "Let's simulate a heavy chain sequence using `HeavyChainSequenceAugmentor`. This example demonstrates a simple simulation with default settings.\n"
   ],
   "metadata": {
    "collapsed": false
   },
   "id": "b9f9c421437b8021"
  },
  {
   "cell_type": "code",
   "outputs": [
    {
     "name": "stdout",
     "output_type": "stream",
     "text": [
      "Simulated Heavy Chain Sequence: {'sequence': 'GCGTTGCTGGTGGTGAAATCTGGAGGAGGCTTGGTCCAGCCGGNGGGGTCTCTGAGACTCTCCTGTGCAGCCTCTGGCCTCATTGTCCAAGGCACCCACATGAGTTGGGTCCGCCAGCTTCCAGNGNAGGGGCTGGATTGGGCCTGAGCCATCATTACCGCTAATAACACATTTTACGAAGACTGCGTGAAGGGCCGCTTCACCACCTCCAAAGACAATTCCTNGAATGCACTGCCTCTTCACACGGACAGTTTGAGAGTTGACGACACGGCCATATATAAATGTGCGACGCCTCGGTGCGAAACAGTCCCCGNTATTCTCTGACCGGCCNACTGACTGCTGGGGACNGGGTTCCCGGATCACCGTCTCCTCCT', 'v_sequence_start': 0, 'v_sequence_end': 290, 'd_sequence_start': 311, 'd_sequence_end': 321, 'j_sequence_start': 332, 'j_sequence_end': 374, 'v_call': 'IGHVF10-G40*04', 'd_call': 'IGHD3-9*01', 'j_call': 'IGHJ4*02', 'mutation_rate': 0.20855614973262032, 'v_trim_5': 0, 'v_trim_3': 3, 'd_trim_5': 6, 'd_trim_3': 15, 'j_trim_5': 6, 'j_trim_3': 0, 'corruption_event': 'no-corruption', 'corruption_add_amount': 0, 'corruption_remove_amount': 0, 'indels': {}}\n"
     ]
    }
   ],
   "source": [
    "# Initialize the HeavyChainSequenceAugmentor\n",
    "heavy_augmentor = HeavyChainSequenceAugmentor(data_config_builtin, args)\n",
    "\n",
    "# Simulate a heavy chain sequence\n",
    "heavy_sequence = heavy_augmentor.simulate_augmented_sequence\n",
    "\n",
    "# Print the simulated heavy chain sequence\n",
    "print(\"Simulated Heavy Chain Sequence:\", heavy_sequence)\n"
   ],
   "metadata": {
    "collapsed": false,
    "ExecuteTime": {
     "end_time": "2024-03-10T10:17:33.105723Z",
     "start_time": "2024-03-10T10:17:33.029728Z"
    }
   },
   "id": "166552dbc6c87aa1",
   "execution_count": 5
  },
  {
   "cell_type": "markdown",
   "source": [
    "## Customizing Simulations\n",
    "\n",
    "GenAIRR allows for extensive customization to closely mimic the natural diversity of immune sequences. Below is an example of how to customize mutation rates and indel simulations.\n"
   ],
   "metadata": {
    "collapsed": false
   },
   "id": "dc2fb81c8ffec80f"
  },
  {
   "cell_type": "code",
   "outputs": [
    {
     "name": "stdout",
     "output_type": "stream",
     "text": [
      "Customized Simulated Heavy Chain Sequence: {'sequence': 'GACTGGGTCCNCCAGGCTCCAGGCAAGGGGCTNGAGTGGGTGGCAGTTATATGGTATGATGGAAGTAATAAATACTATGCTGACTCCGTGAAGGNCCGATTCGCCATCTCCAGAAGACAATTCCAAGAACACTCTGTATCTGCAAATGAACAGCCTGAGAGCCGAGGACACGGGTGTGTATTACTGTGGGTGTACTGGTGGTATACTNNCTTGACACTGGGGCCAGGGAACCCGGGTCACCGTCTCCTCAG', 'v_sequence_start': 1, 'v_sequence_end': 188, 'd_sequence_start': 190, 'd_sequence_end': 205, 'j_sequence_start': 205, 'j_sequence_end': 251, 'v_call': 'IGHVF10-G37*10', 'd_call': 'IGHD2-8*02', 'j_call': 'IGHJ4*02', 'mutation_rate': 0.04780876494023904, 'v_trim_5': 0, 'v_trim_3': 8, 'd_trim_5': 7, 'd_trim_3': 9, 'j_trim_5': 2, 'j_trim_3': 0, 'corruption_event': 'remove_before_add', 'corruption_add_amount': 1, 'corruption_remove_amount': 103, 'mutations': b'ezgwOiAnQT5UJywgMTAyOiAnQT5HJywgMTMyOiAnRz5UJywgMTczOiAnQz5HJywgMjAyOiAnRz5BJywgMjA5OiAnVD5DJywgMjMzOiAnVD5HJ30=', 'Ns': b'ezEwOiAnRz5OJywgMzI6ICdHPk4nLCA5NDogJ0c+TicsIDIwNzogJ0E+TicsIDIwODogJ0M+Tid9', 'indels': {214: 'D > T', 113: 'I < A'}}\n"
     ]
    }
   ],
   "source": [
    "# Customize augmentation arguments\n",
    "custom_args = SequenceAugmentorArguments(min_mutation_rate=0.01, max_mutation_rate=0.05, simulate_indels=True, max_indels=3,\n",
    "                                         corrupt_proba=0.7,save_ns_record=True,save_mutations_record=True)\n",
    "\n",
    "# Use custom arguments to simulate a heavy chain sequence\n",
    "custom_heavy_augmentor = HeavyChainSequenceAugmentor(data_config_builtin, custom_args)\n",
    "custom_heavy_sequence = custom_heavy_augmentor.simulate_augmented_sequence()\n",
    "\n",
    "# Print the customized heavy chain sequence\n",
    "print(\"Customized Simulated Heavy Chain Sequence:\", custom_heavy_sequence)\n"
   ],
   "metadata": {
    "collapsed": false,
    "ExecuteTime": {
     "end_time": "2024-03-10T10:20:06.565868Z",
     "start_time": "2024-03-10T10:20:06.539078Z"
    }
   },
   "id": "dc899faeda4820c6",
   "execution_count": 9
  },
  {
   "cell_type": "markdown",
   "source": [
    "## Generating Naïve Sequences\n",
    "\n",
    "In immunogenetics, a naïve sequence refers to an antibody sequence that has not undergone the process of somatic hypermutation. GenAIRR allows you to simulate such naïve sequences using the `HeavyChainSequence` class. Let's start by generating a naïve heavy chain sequence.\n"
   ],
   "metadata": {
    "collapsed": false
   },
   "id": "3e9677c49f998f6e"
  },
  {
   "cell_type": "code",
   "outputs": [
    {
     "name": "stdout",
     "output_type": "stream",
     "text": [
      "Naïve Heavy Chain Sequence: 0|---------------------------------------------------------------------------------V(IGHVF9-G32*04)|294|305|-D(IGHD5-24*01)|312|313|-------------J(IGHJ4*02)|360\n",
      "Ungapped Sequence: \n",
      "GAGATGCAGCTGGTGGAGTCTGGGGGAGGCTTGGCAAAGCCTGCGTGGTCCCCGAGACTCTCCTGTGCAGCCTCTCAATTCACCTTCAGTAGCTACTACATGAACTGTGTCCGCCAGGCTCCAGGGAATGGGCTGGAGTTGGTTGGACAAGTTAATCCTAATGGGGGTAGCACATACCTCATAGACTCCGGTAAGGACCGATTCAATACCTCCAGAGATAACGCCAAGAACACACTTCATCTGCAAATGAACAGCCTGAAAACCGAGGACACGGCCCTCTATTAGTGTACCAGATAGGACTAGGGATGGCTACCTACTTTGACTACTGGGGCCAGGGAACCCTGGTCACCGTCTCCTCAG\n"
     ]
    }
   ],
   "source": [
    "from GenAIRR.sequence import HeavyChainSequence\n",
    "\n",
    "# Create a naive heavy chain sequence\n",
    "naive_heavy_sequence = HeavyChainSequence.create_random(data_config_builtin)\n",
    "\n",
    "# Access the generated naive sequence\n",
    "naive_sequence = naive_heavy_sequence\n",
    "\n",
    "print(\"Naïve Heavy Chain Sequence:\", naive_sequence)\n",
    "print('Ungapped Sequence: ')\n",
    "print(naive_sequence.ungapped_seq)\n"
   ],
   "metadata": {
    "collapsed": false,
    "ExecuteTime": {
     "end_time": "2024-03-10T10:22:32.353808Z",
     "start_time": "2024-03-10T10:22:32.345796Z"
    }
   },
   "id": "16de2d6c937f79e",
   "execution_count": 16
  },
  {
   "cell_type": "markdown",
   "source": [
    "## Applying Mutations\n",
    "\n",
    "To mimic the natural diversity and evolution of immune sequences, GenAIRR supports the simulation of mutations through various models. Here, we demonstrate how to apply mutations to a naïve sequence using the `S5F` and `Uniform` mutation models from the mutations submodule.\n"
   ],
   "metadata": {
    "collapsed": false
   },
   "id": "fc1b9914d8e8366a"
  },
  {
   "cell_type": "markdown",
   "source": [
    "### Using the S5F Mutation Model\n",
    "\n",
    "The `S5F` model is a sophisticated mutation model that considers context-dependent mutation probabilities. It's particularly useful for simulating realistic somatic hypermutations.\n"
   ],
   "metadata": {
    "collapsed": false
   },
   "id": "fe2c0067f2ec7dc3"
  },
  {
   "cell_type": "code",
   "outputs": [
    {
     "name": "stdout",
     "output_type": "stream",
     "text": [
      "S5F Mutated Heavy Chain Sequence: GAGATGCAGCTGGTGGAGTCTGGGGGAGGCTTGGCAAAGCCTGCGTGGTCCCCGAGACTCCCCTGAGAAGCCCCTCAATTCACCTTCAGTGGCTATTACCTGAACTGTGTCCGCCAGGCTCCAGCGAATGGGCTGGAGTTGCTTGGACAAGTTAATCCTAATGGGGGTAGCACATACCTCATAGACTCCGGTAAGGACCGATTCAATACCTCCAGAGATAACGCCAAGAACACACTTCATCTGCAAATGAACAGCCTGAAAACCGAGGACACGGCCCTCCATTAGTGTACCAGATAGGGCTAGGGATGGCTACCTACTTTGACTACTGGGGCCAGGGAACCCTGGTCACCGTCTCCTCAG\n",
      "S5F Mutation Details: {65: 'T>A', 72: 'T>C', 141: 'G>C', 95: 'C>T', 67: 'C>A', 298: 'A>G', 124: 'G>C', 90: 'A>G', 99: 'A>C', 279: 'T>C', 60: 'T>C'}\n",
      "S5F Mutation Rate: 0.03146889269801437\n"
     ]
    }
   ],
   "source": [
    "from GenAIRR.mutation import S5F\n",
    "\n",
    "# Initialize the S5F mutation model with custom mutation rates\n",
    "s5f_model = S5F(min_mutation_rate=0.01, max_mutation_rate=0.05)\n",
    "\n",
    "# Apply mutations to the naive sequence using the S5F model\n",
    "s5f_mutated_sequence, mutations, mutation_rate = s5f_model.apply_mutation(naive_heavy_sequence)\n",
    "\n",
    "print(\"S5F Mutated Heavy Chain Sequence:\", s5f_mutated_sequence)\n",
    "print(\"S5F Mutation Details:\", mutations)\n",
    "print(\"S5F Mutation Rate:\", mutation_rate)\n"
   ],
   "metadata": {
    "collapsed": false,
    "ExecuteTime": {
     "end_time": "2024-03-10T10:23:13.424949Z",
     "start_time": "2024-03-10T10:23:13.409291Z"
    }
   },
   "id": "d6e8d59addc75159",
   "execution_count": 17
  },
  {
   "cell_type": "markdown",
   "source": [
    "### Using the Uniform Mutation Model\n",
    "\n",
    "The `Uniform` mutation model applies mutations at a uniform rate across the sequence, providing a simpler alternative to the context-dependent models.\n"
   ],
   "metadata": {
    "collapsed": false
   },
   "id": "2be1586a5cef8f37"
  },
  {
   "cell_type": "code",
   "outputs": [
    {
     "name": "stdout",
     "output_type": "stream",
     "text": [
      "Uniform Mutated Heavy Chain Sequence: GAGATGCAGCTGGTGGAGTCTGGGGGAGGCTTGGCTAAGCCTGCGTGGTCCCCGAGACTCTCCTGTGCAGCCTCTCAATTCACCTTCAGTAGCTACTACATGAACTGTGTCCGCCAGGCTCCAGGGAATGGGCTGGAGTTGGTTGCACAAGTTAATCCTAATGGGGGTAGCACATAGCTCATAGACTCCGGTAAGGACCGATTCAATACCTCCAGAGATAACGCCAAGAACACACTTCATGTGCAAATGAACAGCCTGAAAACCGAGGACACGGTTCTCTATTAGTGTACCAGATAGGACTAGGGATGGCTACCTACTTTGACTACTGGGGCCAGGGAACCCTGGTCACCGTCTCCTCAG\n",
      "Uniform Mutation Details: {145: 'G>C', 176: 'C>G', 275: 'C>T', 35: 'A>T', 274: 'C>T', 240: 'C>G'}\n",
      "Uniform Mutation Rate: 0.019256766367705007\n"
     ]
    }
   ],
   "source": [
    "from GenAIRR.mutation import Uniform\n",
    "\n",
    "# Initialize the Uniform mutation model with custom mutation rates\n",
    "uniform_model = Uniform(min_mutation_rate=0.01, max_mutation_rate=0.05)\n",
    "\n",
    "# Apply mutations to the naive sequence using the Uniform model\n",
    "uniform_mutated_sequence, mutations, mutation_rate = uniform_model.apply_mutation(naive_heavy_sequence)\n",
    "\n",
    "print(\"Uniform Mutated Heavy Chain Sequence:\", uniform_mutated_sequence)\n",
    "print(\"Uniform Mutation Details:\", mutations)\n",
    "print(\"Uniform Mutation Rate:\", mutation_rate)\n"
   ],
   "metadata": {
    "collapsed": false,
    "ExecuteTime": {
     "end_time": "2024-03-10T10:23:33.966902Z",
     "start_time": "2024-03-10T10:23:33.960240Z"
    }
   },
   "id": "8c077e1172ba16e4",
   "execution_count": 18
  },
  {
   "cell_type": "markdown",
   "source": [
    "## Common Use Cases\n",
    "\n",
    "GenAIRR is a versatile tool designed to meet a broad range of needs in immunogenetics research. This section provides examples and explanations for some common use cases, including generating multiple sequences, simulating specific allele combinations, and more.\n"
   ],
   "metadata": {
    "collapsed": false
   },
   "id": "4441a709b198ed43"
  },
  {
   "cell_type": "markdown",
   "source": [
    "### Generating Many Sequences\n",
    "\n",
    "One common requirement is to generate a large dataset of synthetic AIRR sequences for analysis or benchmarking. Below is an example of how to generate multiple sequences using GenAIRR in a loop.\n"
   ],
   "metadata": {
    "collapsed": false
   },
   "id": "9fda30883909be54"
  },
  {
   "cell_type": "code",
   "outputs": [
    {
     "name": "stdout",
     "output_type": "stream",
     "text": [
      "Heavy Chain Sequence 1: {'sequence': 'CACGGTAATCGCGAAGGCCTCCACTGGAACAGACTGNCTGGAACTNAGCTGACTGAGGTGTGAAGACACGGCCGTTTATTAATGCCCGCGAGCGGCCTAGGNCGCCTCTAGTCATTACTACTTCAGGGACATGGAAGCCTGGGTCAAAGGGACAACAATCAACTTCTCGTCAG', 'v_sequence_start': 0, 'v_sequence_end': 93, 'd_sequence_start': 102, 'd_sequence_end': 112, 'j_sequence_start': 113, 'j_sequence_end': 173, 'v_call': 'IGHVF6-G21*01', 'd_call': 'IGHD5-18*01,IGHD5-5*01', 'j_call': 'IGHJ6*03', 'mutation_rate': 0.27167630057803466, 'v_trim_5': 0, 'v_trim_3': 0, 'd_trim_5': 7, 'd_trim_3': 4, 'j_trim_5': 3, 'j_trim_3': 0, 'corruption_event': 'remove', 'corruption_add_amount': 0, 'corruption_remove_amount': 203, 'indels': {}}\n",
      "Heavy Chain Sequence 2: {'sequence': 'TTAGGTGCAGCCTTNGGATTGACCTTTGATAATCACGCCNTGCCCTCGGTCCGGCAAGCTCCAGTGAAAGGCCTGGAGTGGGTCTCAGGGACTAGNTGGAAAACTGCAAACATTGGCTAGANGGACTCTGTGAAGGGCCGATTAACCATCTCTAGAGACATCGCCTAGAACTCCCTGTGTCGGCAAGAGAACAGTCTGAGAGTTCAGGACACGGCCTTGTCTCACTGCGGAAGTCAGTGCGCGGATATNGTACCTGGGGGGCCAGATAGTAGTTCAATCTCTGGGGCCGAGAAATCCTGGTCANTATGTCCTCAA', 'v_sequence_start': 4, 'v_sequence_end': 232, 'd_sequence_start': 242, 'd_sequence_end': 254, 'j_sequence_start': 266, 'j_sequence_end': 315, 'v_call': 'IGHVF10-G44*01', 'd_call': 'IGHD2-8*01,IGHD2-8*02', 'j_call': 'IGHJ2*01', 'mutation_rate': 0.15555555555555556, 'v_trim_5': 0, 'v_trim_3': 3, 'd_trim_5': 1, 'd_trim_3': 18, 'j_trim_5': 5, 'j_trim_3': 0, 'corruption_event': 'remove_before_add', 'corruption_add_amount': 5, 'corruption_remove_amount': 64, 'indels': {}}\n",
      "Heavy Chain Sequence 3: {'sequence': 'ATTGGCCACTGGGTACGAAATGACCGTGTCAACACTGTAGGAAGCTTTACGGCCATTGCTAAGTGTCATTCCTGTCGACTCGTATCGAATAAGCCCCANAGTCCGGGGAGTTCCAGCGCATTTGAGTGGTTGTGTCCGCTTCTGTAAAGCAGATGNTGCTGGTGGAGTCTGGGGGAGGCGTGGTCCAGCCTGGGGAGTCCCTGAGACTCNCCTGTGCAGCGTCTGGNTTCACCTTCAGTAGCTATGGCATGCACTGGGGCCGCCAGGCCCCAGGCCAGGGGCTGGAGTAGGTCTCANTTATTTATAGTGGTGTTAGTAGCACATACTATGCANACTCCGTGAAGGGCNGATTCACCATCTCCAGAGACAATTCCAAGAACACGCTGTATCTGCAAATGAACAGCCTGAGAACTGAGGAAACCGCTGTATATTTCTGTGCAAAAGATCCCCCTACTACAATAACTACCTTAGAGTGCCCTGGGNCCAGGGAACNCGGATCACCGTCTCNTCAG', 'v_sequence_start': 149, 'v_sequence_end': 445, 'd_sequence_start': 452, 'd_sequence_end': 466, 'j_sequence_start': 475, 'j_sequence_end': 512, 'v_call': 'IGHVF10-G36*01', 'd_call': 'IGHD4-11*01,IGHD4-4*01', 'j_call': 'IGHJ5*02', 'mutation_rate': 0.056640625, 'v_trim_5': 0, 'v_trim_3': 0, 'd_trim_5': 3, 'd_trim_3': 0, 'j_trim_5': 14, 'j_trim_3': 0, 'corruption_event': 'add', 'corruption_add_amount': 149, 'corruption_remove_amount': 0, 'indels': {}}\n",
      "Heavy Chain Sequence 4: {'sequence': 'AATCCCGGAACACCCNCTGTCTGCAAAGGACTCCCCTGAGGGCCGAGGACACGGCTGTGTGTNACTGTCTGAGAACTAAGTTAGTCCCTGGGGCCAGGGAACCCTGGTCACCGTCTCCTCAG', 'v_sequence_start': 2, 'v_sequence_end': 75, 'd_sequence_start': 75, 'd_sequence_end': 81, 'j_sequence_start': 85, 'j_sequence_end': 122, 'v_call': 'IGHVF10-G48*02,IGHVF10-G48*01', 'd_call': 'IGHD7-27*01', 'j_call': 'IGHJ5*02', 'mutation_rate': 0.09836065573770492, 'v_trim_5': 0, 'v_trim_3': 1, 'd_trim_5': 0, 'd_trim_3': 5, 'j_trim_5': 14, 'j_trim_3': 0, 'corruption_event': 'remove_before_add', 'corruption_add_amount': 3, 'corruption_remove_amount': 222, 'indels': {}}\n",
      "Heavy Chain Sequence 5: {'sequence': 'GGCAGCCCCCCTCGAGAGGCCTTGAGTGGCTGGGAAGGACATAAAACAGGTCNAAGTGGGATTTTGGTTTTCCGCTNTCTCCGAGAAGTCGAATAACCGTCAATCCAGACACATCCACGAAAAAGTTCTCCCTGCACAAGAATCCTGTGACTTCCGAGGACACGTCTATGTATTACNGTGCCTGAAGAGACCTGAAGGGTACAACGAGTGGAGGACTGGTTCGACCCCTGGGGCCAGGGAAGCCNNGTCACCGTGCCCTCAG', 'v_sequence_start': 0, 'v_sequence_end': 186, 'd_sequence_start': 197, 'd_sequence_end': 205, 'j_sequence_start': 214, 'j_sequence_end': 262, 'v_call': 'IGHVF2-G4*01', 'd_call': 'IGHD1-1*01', 'j_call': 'IGHJ5*02', 'mutation_rate': 0.15267175572519084, 'v_trim_5': 0, 'v_trim_3': 1, 'd_trim_5': 1, 'd_trim_3': 9, 'j_trim_5': 3, 'j_trim_3': 0, 'corruption_event': 'remove', 'corruption_add_amount': 0, 'corruption_remove_amount': 118, 'indels': {}}\n"
     ]
    }
   ],
   "source": [
    "num_sequences = 5  # Number of sequences to generate\n",
    "\n",
    "heavy_sequences = []\n",
    "for _ in range(num_sequences):\n",
    "    # Simulate a heavy chain sequence\n",
    "    heavy_sequence = heavy_augmentor.simulate_augmented_sequence()\n",
    "    heavy_sequences.append(heavy_sequence)\n",
    "\n",
    "# Display the generated sequences\n",
    "for i, seq in enumerate(heavy_sequences, start=1):\n",
    "    print(f\"Heavy Chain Sequence {i}: {seq}\")\n"
   ],
   "metadata": {
    "collapsed": false,
    "ExecuteTime": {
     "end_time": "2024-03-10T10:25:43.500388Z",
     "start_time": "2024-03-10T10:25:43.389699Z"
    }
   },
   "id": "8e11eb63c589589c",
   "execution_count": 20
  },
  {
   "cell_type": "code",
   "outputs": [
    {
     "data": {
      "text/plain": "                                            sequence  v_sequence_start  \\\n0  CACGGTAATCGCGAAGGCCTCCACTGGAACAGACTGNCTGGAACTN...                 0   \n1  TTAGGTGCAGCCTTNGGATTGACCTTTGATAATCACGCCNTGCCCT...                 4   \n2  ATTGGCCACTGGGTACGAAATGACCGTGTCAACACTGTAGGAAGCT...               149   \n3  AATCCCGGAACACCCNCTGTCTGCAAAGGACTCCCCTGAGGGCCGA...                 2   \n4  GGCAGCCCCCCTCGAGAGGCCTTGAGTGGCTGGGAAGGACATAAAA...                 0   \n\n   v_sequence_end  d_sequence_start  d_sequence_end  j_sequence_start  \\\n0              93               102             112               113   \n1             232               242             254               266   \n2             445               452             466               475   \n3              75                75              81                85   \n4             186               197             205               214   \n\n   j_sequence_end                         v_call                  d_call  \\\n0             173                  IGHVF6-G21*01  IGHD5-18*01,IGHD5-5*01   \n1             315                 IGHVF10-G44*01   IGHD2-8*01,IGHD2-8*02   \n2             512                 IGHVF10-G36*01  IGHD4-11*01,IGHD4-4*01   \n3             122  IGHVF10-G48*02,IGHVF10-G48*01             IGHD7-27*01   \n4             262                   IGHVF2-G4*01              IGHD1-1*01   \n\n     j_call  ...  v_trim_5  v_trim_3  d_trim_5  d_trim_3  j_trim_5  j_trim_3  \\\n0  IGHJ6*03  ...         0         0         7         4         3         0   \n1  IGHJ2*01  ...         0         3         1        18         5         0   \n2  IGHJ5*02  ...         0         0         3         0        14         0   \n3  IGHJ5*02  ...         0         1         0         5        14         0   \n4  IGHJ5*02  ...         0         1         1         9         3         0   \n\n    corruption_event corruption_add_amount  corruption_remove_amount  indels  \n0             remove                     0                       203      {}  \n1  remove_before_add                     5                        64      {}  \n2                add                   149                         0      {}  \n3  remove_before_add                     3                       222      {}  \n4             remove                     0                       118      {}  \n\n[5 rows x 21 columns]",
      "text/html": "<div>\n<style scoped>\n    .dataframe tbody tr th:only-of-type {\n        vertical-align: middle;\n    }\n\n    .dataframe tbody tr th {\n        vertical-align: top;\n    }\n\n    .dataframe thead th {\n        text-align: right;\n    }\n</style>\n<table border=\"1\" class=\"dataframe\">\n  <thead>\n    <tr style=\"text-align: right;\">\n      <th></th>\n      <th>sequence</th>\n      <th>v_sequence_start</th>\n      <th>v_sequence_end</th>\n      <th>d_sequence_start</th>\n      <th>d_sequence_end</th>\n      <th>j_sequence_start</th>\n      <th>j_sequence_end</th>\n      <th>v_call</th>\n      <th>d_call</th>\n      <th>j_call</th>\n      <th>...</th>\n      <th>v_trim_5</th>\n      <th>v_trim_3</th>\n      <th>d_trim_5</th>\n      <th>d_trim_3</th>\n      <th>j_trim_5</th>\n      <th>j_trim_3</th>\n      <th>corruption_event</th>\n      <th>corruption_add_amount</th>\n      <th>corruption_remove_amount</th>\n      <th>indels</th>\n    </tr>\n  </thead>\n  <tbody>\n    <tr>\n      <th>0</th>\n      <td>CACGGTAATCGCGAAGGCCTCCACTGGAACAGACTGNCTGGAACTN...</td>\n      <td>0</td>\n      <td>93</td>\n      <td>102</td>\n      <td>112</td>\n      <td>113</td>\n      <td>173</td>\n      <td>IGHVF6-G21*01</td>\n      <td>IGHD5-18*01,IGHD5-5*01</td>\n      <td>IGHJ6*03</td>\n      <td>...</td>\n      <td>0</td>\n      <td>0</td>\n      <td>7</td>\n      <td>4</td>\n      <td>3</td>\n      <td>0</td>\n      <td>remove</td>\n      <td>0</td>\n      <td>203</td>\n      <td>{}</td>\n    </tr>\n    <tr>\n      <th>1</th>\n      <td>TTAGGTGCAGCCTTNGGATTGACCTTTGATAATCACGCCNTGCCCT...</td>\n      <td>4</td>\n      <td>232</td>\n      <td>242</td>\n      <td>254</td>\n      <td>266</td>\n      <td>315</td>\n      <td>IGHVF10-G44*01</td>\n      <td>IGHD2-8*01,IGHD2-8*02</td>\n      <td>IGHJ2*01</td>\n      <td>...</td>\n      <td>0</td>\n      <td>3</td>\n      <td>1</td>\n      <td>18</td>\n      <td>5</td>\n      <td>0</td>\n      <td>remove_before_add</td>\n      <td>5</td>\n      <td>64</td>\n      <td>{}</td>\n    </tr>\n    <tr>\n      <th>2</th>\n      <td>ATTGGCCACTGGGTACGAAATGACCGTGTCAACACTGTAGGAAGCT...</td>\n      <td>149</td>\n      <td>445</td>\n      <td>452</td>\n      <td>466</td>\n      <td>475</td>\n      <td>512</td>\n      <td>IGHVF10-G36*01</td>\n      <td>IGHD4-11*01,IGHD4-4*01</td>\n      <td>IGHJ5*02</td>\n      <td>...</td>\n      <td>0</td>\n      <td>0</td>\n      <td>3</td>\n      <td>0</td>\n      <td>14</td>\n      <td>0</td>\n      <td>add</td>\n      <td>149</td>\n      <td>0</td>\n      <td>{}</td>\n    </tr>\n    <tr>\n      <th>3</th>\n      <td>AATCCCGGAACACCCNCTGTCTGCAAAGGACTCCCCTGAGGGCCGA...</td>\n      <td>2</td>\n      <td>75</td>\n      <td>75</td>\n      <td>81</td>\n      <td>85</td>\n      <td>122</td>\n      <td>IGHVF10-G48*02,IGHVF10-G48*01</td>\n      <td>IGHD7-27*01</td>\n      <td>IGHJ5*02</td>\n      <td>...</td>\n      <td>0</td>\n      <td>1</td>\n      <td>0</td>\n      <td>5</td>\n      <td>14</td>\n      <td>0</td>\n      <td>remove_before_add</td>\n      <td>3</td>\n      <td>222</td>\n      <td>{}</td>\n    </tr>\n    <tr>\n      <th>4</th>\n      <td>GGCAGCCCCCCTCGAGAGGCCTTGAGTGGCTGGGAAGGACATAAAA...</td>\n      <td>0</td>\n      <td>186</td>\n      <td>197</td>\n      <td>205</td>\n      <td>214</td>\n      <td>262</td>\n      <td>IGHVF2-G4*01</td>\n      <td>IGHD1-1*01</td>\n      <td>IGHJ5*02</td>\n      <td>...</td>\n      <td>0</td>\n      <td>1</td>\n      <td>1</td>\n      <td>9</td>\n      <td>3</td>\n      <td>0</td>\n      <td>remove</td>\n      <td>0</td>\n      <td>118</td>\n      <td>{}</td>\n    </tr>\n  </tbody>\n</table>\n<p>5 rows × 21 columns</p>\n</div>"
     },
     "execution_count": 22,
     "metadata": {},
     "output_type": "execute_result"
    }
   ],
   "source": [
    "import pandas as pd\n",
    "pd.DataFrame(heavy_sequences)"
   ],
   "metadata": {
    "collapsed": false,
    "ExecuteTime": {
     "end_time": "2024-03-10T10:26:02.592137Z",
     "start_time": "2024-03-10T10:26:02.532700Z"
    }
   },
   "id": "c6e596c6d66fe79",
   "execution_count": 22
  },
  {
   "cell_type": "markdown",
   "source": [
    "### Generating a Specific Allele Combination Sequence\n",
    "\n",
    "In some cases, you might want to simulate sequences with specific V, D, and J allele combinations. Here's how to specify alleles for your simulations.\n"
   ],
   "metadata": {
    "collapsed": false
   },
   "id": "6602fbb859b7c053"
  },
  {
   "cell_type": "code",
   "outputs": [
    {
     "name": "stdout",
     "output_type": "stream",
     "text": [
      "Specific Allele Combination Sequence: CAGGTGCAGCTGGTGCAGTCTGGGGCTGAGGTGAAGAAGCCTGGGTCCTCGGTGAAGGTCTCCTGCCGGGCTTCTGGAGGCACCTTCAGCAGCTATGCAATCAACTGGGTGCGACAGGCCCCTGGACAAGGGCTTGAGTGGATGGGAGGGATCATCCCTATCTTTGGTACAGAAAACTACGCACAGAAGTTCCAGGGCAGAGTCACGATTACCGCGGATGAATCCACGAGCACAGCCTACATGCAGCTGAGCAGCCTGACATCTGAGGACACGGCCGTGTATTGCTGTGCGAGGTGGGTTGGATACAGCTAGGGTTCGAGCCGGTAACGGGCTACTATTACTATTACATGGACGTCTGGGGCACAGGGACCACGGTCACCGTCTCCTCAG\n"
     ]
    }
   ],
   "source": [
    "# Define your specific alleles\n",
    "v_allele = 'IGHVF6-G21*01'\n",
    "d_allele = 'IGHD5-18*01'\n",
    "j_allele = 'IGHJ6*03'\n",
    "\n",
    "# Extract the allele objects from data_config\n",
    "v_allele = next((allele for family in data_config_builtin.v_alleles.values() for allele in family if allele.name == v_allele), None)\n",
    "d_allele = next((allele for family in data_config_builtin.d_alleles.values() for allele in family if allele.name == d_allele), None)\n",
    "j_allele = next((allele for family in data_config_builtin.j_alleles.values() for allele in family if allele.name == j_allele), None)\n",
    "\n",
    "# Check if all alleles were found\n",
    "if not v_allele or not d_allele or not j_allele:\n",
    "    raise ValueError(\"One or more specified alleles could not be found in the data config.\")\n",
    "\n",
    "\n",
    "# Generate a sequence with the specified allele combination\n",
    "specific_allele_sequence = HeavyChainSequence([v_allele, d_allele, j_allele], data_config_builtin)\n",
    "specific_allele_sequence.mutate(s5f_model)\n",
    "\n",
    "\n",
    "\n",
    "print(\"Specific Allele Combination Sequence:\", specific_allele_sequence.mutated_seq)\n"
   ],
   "metadata": {
    "collapsed": false,
    "ExecuteTime": {
     "end_time": "2024-03-10T10:33:42.171487Z",
     "start_time": "2024-03-10T10:33:42.157366Z"
    }
   },
   "id": "742db83ce86050e2",
   "execution_count": 43
  },
  {
   "cell_type": "markdown",
   "source": [
    "### Simulating Sequences with Custom Mutation Rates\n",
    "\n",
    "Adjusting mutation rates allows for the simulation of sequences at various stages of affinity maturation. Here's how to customize mutation rates in your simulations.\n"
   ],
   "metadata": {
    "collapsed": false
   },
   "id": "5dacc8b4f75f6263"
  },
  {
   "cell_type": "code",
   "outputs": [
    {
     "name": "stdout",
     "output_type": "stream",
     "text": [
      "Custom Mutation Rate Sequence: {'sequence': 'CAGGTGCAACTGGCNTAGACTGAGGCTCAGGCTNTGGCGCCTGGGTCCCCGGTGAAGGTCTCCTGGAAGACTTCTGGAGGAGTACCTAACAGAAATGACATCAACTGGGTGTGTCAGGCCCCTGGGCAAGGGCTTGAGTGGATGGCAGGAACTGTCCCCATTTCTGGGGCGNCGAACTACACACAGAAATTNCAAGCCAGGGTCACGATTGCCACGGGCCAAGTCACGAAGACNGGCCCCAGTGATCTGATCACTCTGAAATCTGGGGCCACGGCNGAGTGTTAATATTCGAGACTTNATGTGATAACGTGGGGTCTCAGACTAATGGGGCCAGGGAGCTGGGGCTATAGTCTCCTCAG', 'v_sequence_start': 0, 'v_sequence_end': 295, 'd_sequence_start': 304, 'd_sequence_end': 318, 'j_sequence_start': 319, 'j_sequence_end': 359, 'v_call': 'IGHVF6-G21*02', 'd_call': 'IGHD4-23*01', 'j_call': 'IGHJ4*02', 'mutation_rate': 0.27019498607242337, 'v_trim_5': 0, 'v_trim_3': 0, 'd_trim_5': 4, 'd_trim_3': 1, 'j_trim_5': 9, 'j_trim_3': 0, 'corruption_event': 'no-corruption', 'corruption_add_amount': 0, 'corruption_remove_amount': 0, 'indels': {}}\n"
     ]
    }
   ],
   "source": [
    "# Customize augmentation arguments with your desired mutation rates\n",
    "custom_args = SequenceAugmentorArguments(min_mutation_rate=0.15, max_mutation_rate=0.3)\n",
    "\n",
    "# Initialize the augmentor with custom arguments\n",
    "custom_augmentor = HeavyChainSequenceAugmentor(data_config_builtin, custom_args)\n",
    "\n",
    "# Generate a sequence with the custom mutation rates\n",
    "custom_mutation_sequence = custom_augmentor.simulate_augmented_sequence()\n",
    "\n",
    "print(\"Custom Mutation Rate Sequence:\", custom_mutation_sequence)\n"
   ],
   "metadata": {
    "collapsed": false,
    "ExecuteTime": {
     "end_time": "2024-03-10T10:28:26.956809Z",
     "start_time": "2024-03-10T10:28:26.907849Z"
    }
   },
   "id": "38baba664200ddbe",
   "execution_count": 27
  },
  {
   "cell_type": "markdown",
   "source": [
    "### Generating Naïve vs. Mutated Sequence Pairs\n",
    "\n",
    "Comparing naïve and mutated versions of the same sequence can be useful for studying somatic hypermutation effects. Here's how to generate such pairs with GenAIRR.\n"
   ],
   "metadata": {
    "collapsed": false
   },
   "id": "e995d61b194da97d"
  },
  {
   "cell_type": "code",
   "outputs": [
    {
     "name": "stdout",
     "output_type": "stream",
     "text": [
      "Naïve Sequence: CAGGTGCAGCTGGTGCAGTCTGGGGCTGAGGTGAAGAAGCCTGGGGCCTCAGTGAAGGTCTCCTGCAAGGCTTCTGGATACACCTTCACCGGCTACTATATGCACTGGGTGCGACAGGCCCCTGGACAAGGGCTTGAGTGGATGGGATGGATCAACCCTAACAGTGGTGGCACAAACTATGCACAGAAGTTTCAGGGCTGGGTCACCATGACCAGGGACACGTCCATCAGCACAGCCTACATGGAGCTGAGCAGGCTGAGATCTGACGACACGGCCGTGTATTACTGTGCGAGACAGGATCCTGCCTGTATTACTATGGAATTGATACTTCCAGCACTGGGGCCAGGGCACCCTGGTCACCGTCTCCTCAG\n",
      "Mutated Sequence: CAGGTGCAGCTGGTGCAGTCTGGGGCTGAGGTGAAGAAGCCAGGGGCCTCAGTGAAGGTCTCCTGCAAGGCTTCTGGATACACCTTCACCGGCTACTATCTGCACTGGGTGCGACAGGCCCCTGGACAGGGGCTTGAGTGGATGGGATGGATCAACCCTAACAATGGTGGCACAAACTATGCACAGAAGTTTCGGGACTGGGTCACCATGACCAGGGACACGTCCATCAGCACAGCCTACATGGAGCTGAGCAGGCTGAGATCTGACGACACGGCCGTGTATTAGTGTGCGAGACAGGATCCTGCCTGTATTACTATGGAATTGATACTTCCAGCACTGGGGCCAGGGCACCCTGGTCACCGTCTCCTCAG\n"
     ]
    }
   ],
   "source": [
    "# Generate a naive sequence\n",
    "sequence_object = HeavyChainSequence.create_random(data_config_builtin)\n",
    "sequence_object.mutate(s5f_model)\n",
    "\n",
    "print(\"Naïve Sequence:\", sequence_object.ungapped_seq)\n",
    "print(\"Mutated Sequence:\", sequence_object.mutated_seq)\n"
   ],
   "metadata": {
    "collapsed": false,
    "ExecuteTime": {
     "end_time": "2024-03-10T10:30:42.456750Z",
     "start_time": "2024-03-10T10:30:42.445251Z"
    }
   },
   "id": "dbff7d10ebd89616",
   "execution_count": 36
  },
  {
   "cell_type": "markdown",
   "source": [],
   "metadata": {
    "collapsed": false
   },
   "id": "5c62ac28908a74f0"
  },
  {
   "cell_type": "markdown",
   "source": [
    "## Conclusion\n",
    "\n",
    "This section highlighted some common use cases for GenAIRR, demonstrating its flexibility in simulating AIRR sequences for various research purposes. Whether you need large datasets, specific allele combinations, custom mutation rates, or comparative analyses of naïve and mutated sequences, GenAIRR provides the necessary tools to achieve your objectives.\n"
   ],
   "metadata": {
    "collapsed": false
   },
   "id": "e68d3e618c5a3aeb"
  },
  {
   "cell_type": "code",
   "outputs": [],
   "source": [],
   "metadata": {
    "collapsed": false
   },
   "id": "9db652be953661cf"
  }
 ],
 "metadata": {
  "kernelspec": {
   "display_name": "Python 3",
   "language": "python",
   "name": "python3"
  },
  "language_info": {
   "codemirror_mode": {
    "name": "ipython",
    "version": 2
   },
   "file_extension": ".py",
   "mimetype": "text/x-python",
   "name": "python",
   "nbconvert_exporter": "python",
   "pygments_lexer": "ipython2",
   "version": "2.7.6"
  }
 },
 "nbformat": 4,
 "nbformat_minor": 5
}

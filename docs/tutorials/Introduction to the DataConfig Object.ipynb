{
 "cells": [
  {
   "metadata": {},
   "cell_type": "markdown",
   "source": [
    "# Introduction to the DataConfig Object\n",
    "\n",
    "The `DataConfig` class is a vital component of the GenAIRR package, designed to manage and organize the various configurations needed for immunoglobulin sequence generation, allele usage, trimming, and mutation simulations. This object serves as a centralized hub for storing and accessing all the essential data required during simulations and analyses.\n",
    "\n",
    "## Key Attributes of DataConfig\n",
    "- **family_use_dict**: Manages the usage frequencies of gene families, helping to simulate realistic gene family distributions. ( currently not used and uniform selection of each allele is prioritized)\n",
    "- **gene_use_dict**: Similar to `family_use_dict`, but focuses on individual gene usage frequencies.\n",
    "- **trim_dicts**: Contains information on how to trim gene segments (V, D, J) during sequence generation.\n",
    "- **NP_transitions & NP_first_bases**: These dictionaries define the transition probabilities and initial base probabilities for non-polymorphic (NP) regions, which are crucial for simulating realistic sequences.\n",
    "- **NP_lengths**: Provides the distribution of NP region lengths, adding another layer of realism to the sequence generation process.\n",
    "- **v_alleles, d_alleles, j_alleles, c_alleles**: These dictionaries store allele information for V, D, J, and C gene segments, respectively, organized by family.\n",
    "- **correction_maps**: Maps used for correcting or adjusting sequences or simulation parameters, ensuring that generated sequences meet specific criteria.\n",
    "- **asc_tables**: Stores allele sequence cluster (ASC) tables, which group alleles based on sequence similarity and other criteria, providing insights into allele relationships.\n",
    "\n",
    "The `DataConfig` object is integral to ensuring that simulations and sequence analyses are conducted with accurate and relevant data. Throughout this notebook, we will explore how to utilize `DataConfig` to configure and manage data effectively for your specific research needs.\n",
    "\n",
    "Note that for proper GenAIRR functionality in its various functions and capabilities, all of the above variables must be present and in the correct format in case you decide to modify an existing or create a custom DataConfig file.\n",
    "\n",
    "Let's begin by diving into the structure and examples of the `DataConfig` object!\n"
   ],
   "id": "554c545ce3d8f47b"
  },
  {
   "metadata": {
    "ExecuteTime": {
     "end_time": "2025-05-21T13:10:44.663636Z",
     "start_time": "2025-05-21T13:10:44.058413Z"
    }
   },
   "cell_type": "code",
   "source": [
    "from GenAIRR.data import builtin_heavy_chain_data_config\n",
    "from GenAIRR.dataconfig import DataConfig\n",
    "\n",
    "\n",
    "heavychain_dataconfig = builtin_heavy_chain_data_config()"
   ],
   "id": "ccb4b6e0df3b6327",
   "outputs": [],
   "execution_count": 1
  },
  {
   "metadata": {},
   "cell_type": "markdown",
   "source": [
    "## Trim Dictionary (trim_dicts)\n",
    "\n",
    "The Trim Dictionary is a multi-level dictionary housed within each `DataConfig` object. This structure organizes trimming information based on gene and side (e.g., 5' or 3'). The keys follow the format of `gene_side`, such as `V_3` for the 3' end of the V gene.\n",
    "\n",
    "For each `gene_side` key, there are sub-keys representing all the gene families available in the reference. Under each family sub-key, the dictionary lists the possible trimming lengths that can be applied to an allele within that family, along with the likelihood of each trimming length being selected.\n",
    "\n",
    "Modifying this dictionary within the `DataConfig` object allows you to control the trimming lengths applied to specific gene-side and family combinations during sequence generation.\n"
   ],
   "id": "fb6d36db03b49ad3"
  },
  {
   "metadata": {
    "ExecuteTime": {
     "end_time": "2025-05-21T13:10:46.097799Z",
     "start_time": "2025-05-21T13:10:46.086920Z"
    }
   },
   "cell_type": "code",
   "source": "heavychain_dataconfig.trim_dicts['V_3']['IGHVF1']",
   "id": "215c9eec0b259b79",
   "outputs": [
    {
     "data": {
      "text/plain": [
       "{'IGHVF1-G1': defaultdict(float,\n",
       "             {0: 0.2136996827285346,\n",
       "              1: 0.0882906999801705,\n",
       "              2: 0.2842987804878049,\n",
       "              3: 0.1517759766012294,\n",
       "              4: 0.1780314297045409,\n",
       "              5: 0.0283127602617489,\n",
       "              6: 0.0390206722189173,\n",
       "              7: 0.0038915328177672,\n",
       "              8: 0.0087621455482847,\n",
       "              9: 0.0017536684513186,\n",
       "              10: 0.00098527662105889,\n",
       "              11: 0.0007064247471743,\n",
       "              12: 4.9573666468372e-05,\n",
       "              13: 7.4360499702558e-05,\n",
       "              14: 3.09835415427325e-05,\n",
       "              15: 1.85901249256395e-05,\n",
       "              16: 4.33769581598255e-05,\n",
       "              17: 5.57703747769185e-05,\n",
       "              18: 4.33769581598255e-05,\n",
       "              19: 3.09835415427325e-05,\n",
       "              20: 6.1967083085465e-06,\n",
       "              21: 1.2393416617093e-05,\n",
       "              22: 2.4786833234186e-05,\n",
       "              23: 6.1967083085465e-06,\n",
       "              25: 6.1967083085465e-06,\n",
       "              28: 6.1967083085465e-06,\n",
       "              29: 6.1967083085465e-06,\n",
       "              30: 6.1967083085465e-06,\n",
       "              33: 6.1967083085465e-06,\n",
       "              38: 6.1967083085465e-06,\n",
       "              39: 6.1967083085465e-06,\n",
       "              48: 6.1967083085465e-06,\n",
       "              52: 6.1967083085465e-06,\n",
       "              66: 6.1967083085465e-06,\n",
       "              73: 6.1967083085465e-06,\n",
       "              76: 6.1967083085465e-06}),\n",
       " 'IGHVF1-G2': defaultdict(float,\n",
       "             {0: 0.2136996827285346,\n",
       "              1: 0.0882906999801705,\n",
       "              2: 0.2842987804878049,\n",
       "              3: 0.1517759766012294,\n",
       "              4: 0.1780314297045409,\n",
       "              5: 0.0283127602617489,\n",
       "              6: 0.0390206722189173,\n",
       "              7: 0.0038915328177672,\n",
       "              8: 0.0087621455482847,\n",
       "              9: 0.0017536684513186,\n",
       "              10: 0.00098527662105889,\n",
       "              11: 0.0007064247471743,\n",
       "              12: 4.9573666468372e-05,\n",
       "              13: 7.4360499702558e-05,\n",
       "              14: 3.09835415427325e-05,\n",
       "              15: 1.85901249256395e-05,\n",
       "              16: 4.33769581598255e-05,\n",
       "              17: 5.57703747769185e-05,\n",
       "              18: 4.33769581598255e-05,\n",
       "              19: 3.09835415427325e-05,\n",
       "              20: 6.1967083085465e-06,\n",
       "              21: 1.2393416617093e-05,\n",
       "              22: 2.4786833234186e-05,\n",
       "              23: 6.1967083085465e-06,\n",
       "              25: 6.1967083085465e-06,\n",
       "              28: 6.1967083085465e-06,\n",
       "              29: 6.1967083085465e-06,\n",
       "              30: 6.1967083085465e-06,\n",
       "              33: 6.1967083085465e-06,\n",
       "              38: 6.1967083085465e-06,\n",
       "              39: 6.1967083085465e-06,\n",
       "              48: 6.1967083085465e-06,\n",
       "              52: 6.1967083085465e-06,\n",
       "              66: 6.1967083085465e-06,\n",
       "              73: 6.1967083085465e-06,\n",
       "              76: 6.1967083085465e-06}),\n",
       " 'IGHVF1-G3': defaultdict(float,\n",
       "             {0: 0.2136996827285346,\n",
       "              1: 0.0882906999801705,\n",
       "              2: 0.2842987804878049,\n",
       "              3: 0.1517759766012294,\n",
       "              4: 0.1780314297045409,\n",
       "              5: 0.0283127602617489,\n",
       "              6: 0.0390206722189173,\n",
       "              7: 0.0038915328177672,\n",
       "              8: 0.0087621455482847,\n",
       "              9: 0.0017536684513186,\n",
       "              10: 0.00098527662105889,\n",
       "              11: 0.0007064247471743,\n",
       "              12: 4.9573666468372e-05,\n",
       "              13: 7.4360499702558e-05,\n",
       "              14: 3.09835415427325e-05,\n",
       "              15: 1.85901249256395e-05,\n",
       "              16: 4.33769581598255e-05,\n",
       "              17: 5.57703747769185e-05,\n",
       "              18: 4.33769581598255e-05,\n",
       "              19: 3.09835415427325e-05,\n",
       "              20: 6.1967083085465e-06,\n",
       "              21: 1.2393416617093e-05,\n",
       "              22: 2.4786833234186e-05,\n",
       "              23: 6.1967083085465e-06,\n",
       "              25: 6.1967083085465e-06,\n",
       "              28: 6.1967083085465e-06,\n",
       "              29: 6.1967083085465e-06,\n",
       "              30: 6.1967083085465e-06,\n",
       "              33: 6.1967083085465e-06,\n",
       "              38: 6.1967083085465e-06,\n",
       "              39: 6.1967083085465e-06,\n",
       "              48: 6.1967083085465e-06,\n",
       "              52: 6.1967083085465e-06,\n",
       "              66: 6.1967083085465e-06,\n",
       "              73: 6.1967083085465e-06,\n",
       "              76: 6.1967083085465e-06})}"
      ]
     },
     "execution_count": 2,
     "metadata": {},
     "output_type": "execute_result"
    }
   ],
   "execution_count": 2
  },
  {
   "metadata": {},
   "cell_type": "markdown",
   "source": [
    "## NP Region Generation Parameters\n",
    "\n",
    "The `DataConfig` object contains three crucial components that guide the generation of NP regions during sequence simulation.\n",
    "\n",
    "### 1. NP First Bases (`NP_first_bases`)\n",
    "\n",
    "The first component is `NP_first_bases`, which is a multi-level dictionary. The top-level key represents the specific NP region of interest, either `NP1` or `NP2`. In cases where there is no D allele, such as in light chains, only `NP1` exists. The inner dictionary provides the probabilities of the NP region starting with each of the four nucleotides (A, T, C, G).\n",
    "\n",
    "When simulating NP regions in GenAIRR, a first-order Markov chain is used. The `NP_first_bases` dictionary provides the initial state probabilities for this Markov chain. For example, when generating the `NP1` region, the first nucleotide is sampled based on the weights (likelihoods) defined in `dataconfig.NP_first_bases[\"NP1\"]`.\n",
    "\n",
    "### 2. Markov Chain Transition Matrix (`NP_transitions`)\n",
    "\n",
    "The second component is the Markov chain transition matrix, stored in the `NP_transitions` dictionary. This is also a multi-level dictionary with several layers that define how the NP region evolves as nucleotides are added.\n",
    "\n",
    "- **Top-Level Key**: Similar to `NP_first_bases`, the first key in `NP_transitions` specifies the NP region type (`NP1` or `NP2`). For instance, `dataconfig.NP_transitions['NP1']` retrieves the transition matrix used for generating the `NP1` region.\n",
    "  \n",
    "- **Second-Level Key**: The next level in the dictionary corresponds to the position within the NP region. For example, if you are generating the 5th nucleotide in the sequence, you would use `dataconfig.NP_transitions['NP1'][4]` to access the relevant transition probabilities.\n",
    "\n",
    "- **Third-Level Key**: At this level, the key corresponds to the current nucleotide observed at the specific position. If the 4th position in the generated NP region is a \"T\", you would query `dataconfig.NP_transitions['NP1'][4][\"T\"]`. This returns a distribution that allows you to sample the next nucleotide (5th in this case), continuing the process for the entire length of the NP region.\n",
    "\n",
    "This loop repeats until the NP region reaches its predetermined length.\n",
    "\n",
    "### 3. NP Region Length Distribution (`NP_lengths`)\n",
    "\n",
    "The third component is the NP region length distribution, stored in the `NP_lengths` dictionary. This is a two-level dictionary where the top-level key specifies the NP region (`NP1` or `NP2`). The value for each key is a distribution of likelihoods over the possible lengths for that NP region.\n",
    "\n",
    "This distribution defines the variety of lengths that can occur in the NP regions during simulation, allowing for more realistic sequence generation.\n"
   ],
   "id": "fed4fc9d78d693b7"
  },
  {
   "metadata": {
    "ExecuteTime": {
     "end_time": "2025-05-21T13:10:47.716892Z",
     "start_time": "2025-05-21T13:10:47.708644Z"
    }
   },
   "cell_type": "code",
   "source": "heavychain_dataconfig.NP_first_bases",
   "id": "cc0d0d557d59682b",
   "outputs": [
    {
     "data": {
      "text/plain": [
       "{'NP1': {'A': 0.11170254294101757,\n",
       "  'C': 0.24612237873865697,\n",
       "  'G': 0.28458098488427797,\n",
       "  'T': 0.3575940934360475},\n",
       " 'NP2': {'A': 0.16727374243138382,\n",
       "  'C': 0.3712668132552802,\n",
       "  'G': 0.27509575963731403,\n",
       "  'T': 0.18636368467602188}}"
      ]
     },
     "execution_count": 3,
     "metadata": {},
     "output_type": "execute_result"
    }
   ],
   "execution_count": 3
  },
  {
   "metadata": {
    "ExecuteTime": {
     "end_time": "2025-05-21T13:10:48.176156Z",
     "start_time": "2025-05-21T13:10:48.164130Z"
    }
   },
   "cell_type": "code",
   "source": "heavychain_dataconfig.NP_transitions['NP1'][0]['T']",
   "id": "165442cbe4c4ea1f",
   "outputs": [
    {
     "data": {
      "text/plain": [
       "{'A': 0.16940029106419394,\n",
       " 'C': 0.39025137900329543,\n",
       " 'G': 0.23279850358164553,\n",
       " 'T': 0.2075498263508651}"
      ]
     },
     "execution_count": 4,
     "metadata": {},
     "output_type": "execute_result"
    }
   ],
   "execution_count": 4
  },
  {
   "metadata": {
    "ExecuteTime": {
     "end_time": "2025-05-21T13:10:48.481490Z",
     "start_time": "2025-05-21T13:10:48.470167Z"
    }
   },
   "cell_type": "code",
   "source": "heavychain_dataconfig.NP_lengths['NP1']",
   "id": "506d694d00bee51a",
   "outputs": [
    {
     "data": {
      "text/plain": [
       "{0: 0.05265143785167222,\n",
       " 1: 0.04075110575704825,\n",
       " 2: 0.05608972515275564,\n",
       " 3: 0.07007809677350897,\n",
       " 4: 0.07858552952587226,\n",
       " 5: 0.07975324952254308,\n",
       " 6: 0.07758633439139435,\n",
       " 7: 0.07449997706055178,\n",
       " 8: 0.06841003801143569,\n",
       " 9: 0.05997446760685735,\n",
       " 10: 0.05486857812958784,\n",
       " 11: 0.04679214939837378,\n",
       " 12: 0.04113627082942587,\n",
       " 13: 0.034565642417839555,\n",
       " 14: 0.0284863084612022,\n",
       " 15: 0.024700616824390856,\n",
       " 16: 0.020714718727390977,\n",
       " 17: 0.01551780635633689,\n",
       " 18: 0.013459847504451441,\n",
       " 19: 0.010925362147151564,\n",
       " 20: 0.009099157910326753,\n",
       " 21: 0.007894751794817339,\n",
       " 22: 0.006256334057027708,\n",
       " 23: 0.005212570520841891,\n",
       " 24: 0.004889068681041339,\n",
       " 25: 0.003603860948874375,\n",
       " 26: 0.0031465202209132598,\n",
       " 27: 0.0026087014130785004,\n",
       " 28: 0.0022806267502488496,\n",
       " 29: 0.0018500272959719036,\n",
       " 30: 0.0017848341530929469,\n",
       " 31: 0.0014223901128996882,\n",
       " 32: 0.0012977542751098972,\n",
       " 33: 0.0008708713162783527,\n",
       " 34: 0.0013054161439008335,\n",
       " 35: 0.0007111989391616005,\n",
       " 36: 0.0005481891501906322,\n",
       " 37: 0.0006125581214754118,\n",
       " 38: 0.0005807192802702009,\n",
       " 39: 0.000407270072130761,\n",
       " 40: 0.0003821994072440937}"
      ]
     },
     "execution_count": 5,
     "metadata": {},
     "output_type": "execute_result"
    }
   ],
   "execution_count": 5
  }
 ],
 "metadata": {
  "kernelspec": {
   "display_name": "Python 3",
   "language": "python",
   "name": "python3"
  },
  "language_info": {
   "codemirror_mode": {
    "name": "ipython",
    "version": 2
   },
   "file_extension": ".py",
   "mimetype": "text/x-python",
   "name": "python",
   "nbconvert_exporter": "python",
   "pygments_lexer": "ipython2",
   "version": "2.7.6"
  }
 },
 "nbformat": 4,
 "nbformat_minor": 5
}

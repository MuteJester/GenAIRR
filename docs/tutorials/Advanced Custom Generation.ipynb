{
 "cells": [
  {
   "cell_type": "markdown",
   "id": "ec7e12c695fc50a0",
   "metadata": {},
   "source": [
    "# Advanced Guide to Using GenAIRR for Custom Sequence Generation and Manipulation\n",
    "\n"
   ]
  },
  {
   "cell_type": "markdown",
   "id": "4d79b26213d77f6d",
   "metadata": {},
   "source": [
    "# Advanced Guide to GenAIRR\n",
    "\n",
    "Welcome to the advanced guide on using the **GenAIRR** Python package. In this notebook, we'll explore how to generate custom sequences and perform various manipulations using GenAIRR. This guide assumes familiarity with the basic functionalities of GenAIRR, as covered in the [basic guide](https://github.com/MuteJester/GenAIRR/blob/master/tutorials/Quick%20Start%20Guide.ipynb).\n",
    "\n",
    "## What You'll Learn\n",
    "- Generating custom sequences.\n",
    "- Advanced manipulations of sequences.\n",
    "- Use cases and practical applications.\n",
    "\n",
    "Let's get started!\n"
   ]
  },
  {
   "metadata": {},
   "cell_type": "markdown",
   "source": [
    "### Loading the Built-in Heavy Chain Data Configuration\n",
    "In this section, we load the built-in heavy chain data configuration object from the GenAIRR package. This object contains predefined configurations, reference alleles and metadata which is essential for working with heavy chain sequence data."
   ],
   "id": "bd562475fed8fdfb"
  },
  {
   "cell_type": "code",
   "execution_count": 1,
   "id": "6beb75578f96f1bd",
   "metadata": {
    "ExecuteTime": {
     "end_time": "2024-08-11T12:17:33.942679Z",
     "start_time": "2024-08-11T12:17:28.524809Z"
    }
   },
   "outputs": [],
   "source": [
    "from GenAIRR.data import builtin_heavy_chain_data_config\n",
    "# loading the built in heavychain data config object\n",
    "dataconfig = builtin_heavy_chain_data_config()"
   ]
  },
  {
   "cell_type": "code",
   "execution_count": 2,
   "id": "31a0886801b5338d",
   "metadata": {
    "ExecuteTime": {
     "end_time": "2024-08-11T12:17:36.993695Z",
     "start_time": "2024-08-11T12:17:36.962887Z"
    }
   },
   "outputs": [
    {
     "data": {
      "text/plain": [
       "<Heavy Chain - Data Config>-<198 V Alleles>-<33 D Alleles>-<7 J Alleles>-<86 C Alleles>"
      ]
     },
     "execution_count": 2,
     "metadata": {},
     "output_type": "execute_result"
    }
   ],
   "source": [
    "dataconfig"
   ]
  },
  {
   "metadata": {},
   "cell_type": "markdown",
   "source": [
    "#### Extracting Allele Objects from the Data Configuration\n",
    "The alleles from the reference file are stored as Allele objects within a dictionary, where each gene family is mapped to a list of corresponding alleles. In this section, we extract each Allele object from these lists, converting them into a more accessible list format. This step simplifies access but is optional—if you know the specific allele you need, you can directly access it using key indexing."
   ],
   "id": "b6a2a1edcad152b6"
  },
  {
   "cell_type": "code",
   "execution_count": 13,
   "id": "ebdde12c7b294ac3",
   "metadata": {
    "ExecuteTime": {
     "end_time": "2024-08-11T12:25:50.995227Z",
     "start_time": "2024-08-11T12:25:50.979523Z"
    }
   },
   "outputs": [],
   "source": [
    "# the alleles from the reference file are kept as Allele objects as part of a gene family to allele list dictionary\n",
    "# here we extract each Allele object from each gene lists, so that we can access them via the list\n",
    "# this step is not required, if the specific desired allele is known it can be accessed using key indexing instead\n",
    "v_alleles = [i for j in dataconfig.v_alleles for i in dataconfig.v_alleles[j]]\n",
    "d_alleles = [i for j in dataconfig.d_alleles for i in dataconfig.d_alleles[j]]\n",
    "j_alleles = [i for j in dataconfig.j_alleles for i in dataconfig.j_alleles[j]]\n",
    "c_alleles = [i for j in dataconfig.c_alleles for i in dataconfig.c_alleles[j]]"
   ]
  },
  {
   "cell_type": "code",
   "execution_count": 14,
   "id": "41f738a531fa6377",
   "metadata": {
    "ExecuteTime": {
     "end_time": "2024-08-11T12:25:51.727803Z",
     "start_time": "2024-08-11T12:25:51.713283Z"
    }
   },
   "outputs": [
    {
     "data": {
      "text/plain": [
       "VAllele(name='IGHVF1-G1*01', sequence='...gcatggatac', length=301, ungapped_len=301, family='IGHVF1', gene='IGHVF1-G1')"
      ]
     },
     "execution_count": 14,
     "metadata": {},
     "output_type": "execute_result"
    }
   ],
   "source": [
    "    # example of the first Allele object in the V allele list\n",
    "v_alleles[0]"
   ]
  },
  {
   "metadata": {},
   "cell_type": "markdown",
   "source": [
    "#### Creating a Custom Naive Sequence\n",
    "In this section, we create a custom naive sequence by passing a list of selected V, D, J, and C (Constant) alleles to the `HeavyChainSequence` class. This allows us to generate a sequence based on specific alleles of interest.\n"
   ],
   "id": "7c284c09ab666ec9"
  },
  {
   "cell_type": "code",
   "execution_count": 17,
   "id": "a92c64a1cc5b09f",
   "metadata": {
    "ExecuteTime": {
     "end_time": "2024-08-11T12:26:09.728776Z",
     "start_time": "2024-08-11T12:26:09.713766Z"
    }
   },
   "outputs": [
    {
     "data": {
      "text/plain": [
       "0|---------------------------------------------------------------------------V(IGHVF1-G1*01)|297|301|--D(IGHD1-1*01)|309|319|-----------J(IGHJ1*01)|366|366|------C(IGHA1*01)|392"
      ]
     },
     "execution_count": 17,
     "metadata": {},
     "output_type": "execute_result"
    }
   ],
   "source": [
    "# Creating a custom naive sequence\n",
    "from GenAIRR.sequence import HeavyChainSequence\n",
    "\n",
    "selected_v_allele = v_alleles[0]\n",
    "selected_d_allele = d_alleles[0]\n",
    "selected_j_allele = j_alleles[0]\n",
    "selected_c_allele = c_alleles[0]\n",
    "\n",
    "# we pass to the HeavyChainSequence class, a list with a v,d,j and c (Constant) allele of our choice\n",
    "naive_sequence = HeavyChainSequence([selected_v_allele, selected_d_allele, selected_j_allele,selected_c_allele],dataconfig)\n",
    "naive_sequence"
   ]
  },
  {
   "metadata": {},
   "cell_type": "markdown",
   "source": [
    "#### Viewing the Naive Sequence\n",
    "The `HeavyChainSequence` object now contains the resulting naive sequence information. This sequence is free from mutations, corruption, or N nucleotides, representing a pure recombined sequence.\n"
   ],
   "id": "b5f525b006a4b2c7"
  },
  {
   "cell_type": "code",
   "execution_count": 25,
   "id": "4e34ad7167f95f98",
   "metadata": {
    "ExecuteTime": {
     "end_time": "2024-08-11T12:28:29.371836Z",
     "start_time": "2024-08-11T12:28:29.355860Z"
    }
   },
   "outputs": [
    {
     "name": "stdout",
     "output_type": "stream",
     "text": [
      "VAllele(name='IGHVF1-G1*01', sequence='...gcatggatac', length=301, ungapped_len=301, family='IGHVF1', gene='IGHVF1-G1')\n",
      "DAllele(name='IGHD1-1*01', sequence='...ctggaacgac', length=17, ungapped_len=17, family='IGHD1', gene='IGHD1-1')\n",
      "JAllele(name='IGHJ1*01', sequence='...gtctcctcag', length=52, ungapped_len=52, family='IGHJ1', gene='IGHJ1')\n",
      "CAllele(name='IGHA1*01', sequence='...ctgagcctct', length=40, ungapped_len=40, family='IGHA1', gene='IGHA1')\n"
     ]
    }
   ],
   "source": [
    "print(naive_sequence.v_allele)\n",
    "print(naive_sequence.d_allele)\n",
    "print(naive_sequence.j_allele)\n",
    "print(naive_sequence.c_allele)\n",
    "# we can see that we can go back and see inside the resulting naive sequence what Allele objects were used in the recombination process and \n",
    "# access all the various Allele object attributes"
   ]
  },
  {
   "cell_type": "code",
   "execution_count": 41,
   "id": "4406ca900353bde4",
   "metadata": {
    "ExecuteTime": {
     "end_time": "2024-08-11T12:32:45.105971Z",
     "start_time": "2024-08-11T12:32:45.090346Z"
    }
   },
   "outputs": [
    {
     "name": "stdout",
     "output_type": "stream",
     "text": [
      "V Allele 3' Trim Length =  4\n",
      "V Allele 5' Trim Length =  0\n",
      "D Allele 3' Trim Length =  5\n",
      "D Allele 5' Trim Length =  4\n",
      "J Allele 3' Trim Length =  0\n",
      "J Allele 5' Trim Length =  5\n",
      "C Allele 3' Trim Length =  14\n",
      "C Allele 5' Trim Length =  0\n"
     ]
    }
   ],
   "source": [
    "print(\"V Allele 3' Trim Length = \", naive_sequence.v_trim_3)\n",
    "print(\"V Allele 5' Trim Length = \", naive_sequence.v_trim_5)\n",
    "print(\"D Allele 3' Trim Length = \", naive_sequence.d_trim_3)\n",
    "print(\"D Allele 5' Trim Length = \", naive_sequence.d_trim_5)\n",
    "print(\"J Allele 3' Trim Length = \", naive_sequence.j_trim_3)\n",
    "print(\"J Allele 5' Trim Length = \", naive_sequence.j_trim_5)\n",
    "print(\"C Allele 3' Trim Length = \", naive_sequence.c_trim_3)\n",
    "print(\"C Allele 5' Trim Length = \", naive_sequence.c_trim_5)\n",
    "\n",
    "# Also the naive sequence object allows us to access the information regarding the different trimmings that were simulated \n",
    "# on each side of eahc allele\n"
   ]
  },
  {
   "cell_type": "code",
   "execution_count": 42,
   "id": "130e4d318b2e5452",
   "metadata": {
    "ExecuteTime": {
     "end_time": "2024-08-11T12:32:52.023392Z",
     "start_time": "2024-08-11T12:32:52.007749Z"
    }
   },
   "outputs": [
    {
     "name": "stdout",
     "output_type": "stream",
     "text": [
      "Junction:  TGTGCATGGTCGCCAACTGGAGAAGGGGATGATACTTCCAGCACTGG\n",
      "Is Functional: False\n"
     ]
    }
   ],
   "source": [
    "print('Junction: ',naive_sequence.junction)\n",
    "print('Is Functional:', naive_sequence.functional)\n",
    "# we can look at the junction sequence as well as the productivity status of the sequence "
   ]
  },
  {
   "cell_type": "code",
   "execution_count": 46,
   "id": "47f89dca4cfd1dff",
   "metadata": {
    "ExecuteTime": {
     "end_time": "2024-08-11T12:34:18.483978Z",
     "start_time": "2024-08-11T12:34:18.452688Z"
    }
   },
   "outputs": [
    {
     "name": "stdout",
     "output_type": "stream",
     "text": [
      "NP 1 Region Length:  4\n",
      "NP 1 Region Sequence:  tcgc\n",
      "NP 2 Region Length:  10\n",
      "NP 2 Region Sequence:  gaaggggatg\n"
     ]
    }
   ],
   "source": [
    "print('NP 1 Region Length: ',naive_sequence.NP1_length)\n",
    "print(\"NP 1 Region Sequence: \",naive_sequence.NP1_region)\n",
    "\n",
    "print('NP 2 Region Length: ',naive_sequence.NP2_length)\n",
    "print(\"NP 2 Region Sequence: \",naive_sequence.NP2_region)\n",
    "\n",
    "# we can look at the NP regions simulated"
   ]
  },
  {
   "cell_type": "code",
   "execution_count": 51,
   "id": "ffe5be6fb491370f",
   "metadata": {
    "ExecuteTime": {
     "end_time": "2024-08-11T12:35:21.828628Z",
     "start_time": "2024-08-11T12:35:21.814115Z"
    }
   },
   "outputs": [
    {
     "name": "stdout",
     "output_type": "stream",
     "text": [
      "Sequence:  CAGGTCACCTTGAAGGAGTCTGGTCCTGTGCTGGTGAAACCCACAGAGACCCTCACGCTGACCTGCACCGTCTCTGGGTTCTCACTCAGCAATGCTAGAATGGGTGTGAGCTGGATCCGTCAGCCCCCAGGGAAGGCCCTGGAGTGGCTTGCACACATTTTTTCGAATGACGAAAAATCCTACAGCACATCTCTGAAGAGCAGGCTCACCATCTCCAAGGACACCTCCAAAAGCCAGGTGGTCCTTACCATGACCAATATGGACCCTGTGGACACAGCCACATATTACTGTGCATGGTCGCCAACTGGAGAAGGGGATGATACTTCCAGCACTGGGGCCAGGGCACCCTGGTCACCGTCTCCTCAGGCATCCCCGACCAGCCCCAAGGTCTT\n"
     ]
    }
   ],
   "source": [
    "print('Sequence: ',naive_sequence.ungapped_seq)\n",
    "# and of course we can access the full simulated naive sequence"
   ]
  },
  {
   "metadata": {},
   "cell_type": "markdown",
   "source": [
    "### Introducing Mutations to the Sequence\n",
    "In this section, we introduce mutations into the heavy chain sequence. This allows us to simulate more realistic scenarios where sequences are not perfect, reflecting the natural variability found in biological systems.\n"
   ],
   "id": "bbad97bceee7105a"
  },
  {
   "cell_type": "code",
   "execution_count": 52,
   "id": "18a44b7c56d20eae",
   "metadata": {
    "ExecuteTime": {
     "end_time": "2024-08-11T12:37:27.342903Z",
     "start_time": "2024-08-11T12:37:27.335180Z"
    }
   },
   "outputs": [],
   "source": [
    "# now the next thing we would want to add to the naive sequence is mutations making it not naive anymore by simulating SHM\n",
    "# to do this you will need to choose a mutation model and apply it on the naive sequence\n",
    "# lets import the Uniform mutation model and apply it to our naive sequence\n",
    "from GenAIRR.mutation import Uniform\n",
    "mutation_model = Uniform(min_mutation_rate=0.03,max_mutation_rate=0.1) # where the mutation rate is the ratio of neuclitodes in the sequence that will be mutated\n",
    "\n",
    "# lets apply the mutations to the sequence\n",
    "naive_sequence.mutate(mutation_model)"
   ]
  },
  {
   "cell_type": "code",
   "execution_count": 54,
   "id": "2f3c1896175eb962",
   "metadata": {
    "ExecuteTime": {
     "end_time": "2024-08-11T12:38:05.708853Z",
     "start_time": "2024-08-11T12:38:05.699226Z"
    }
   },
   "outputs": [
    {
     "name": "stdout",
     "output_type": "stream",
     "text": [
      "Mutated Sequence:  CAGGTCACCTTGAAGGATTCTGCTCCTGTGCTGATTAAACCCACAGAGACCCTCACGCTGACCTGCACGCTCTCTGGGTTCTCACTCAGCAATGTTAGAATGGGTCTGAACTGGAACCGTCAGCCCCCAGCGAAGGCCCTGGAGTGGCTTGCACACCTTTTTTCCAATGGCGACAAATATTACAGCACAGCTCTGAAGAGCAGGCTGACCTACCCAACGGTCACCTCCAAACGCCAAGTGGTCCTTACCATGACCAATATGGACCCTGTCGACACAGCCACATATTACTGTGTATGTTCGCCAACTGGAGAAGGGGATGATACTTCCCGCACTGGAGCCAGGGCATCCTGGTCACCGTCTCCTCAGGCATCCCCGACCAGCCCCAAGGTCTT \n",
      "\n",
      "Simulated Mutations:  {231: 'A>C', 189: 'T>G', 22: 'G>C', 130: 'G>C', 169: 'A>G', 345: 'C>T', 173: 'A>C', 35: 'G>T', 17: 'G>T', 327: 'A>C', 94: 'C>T', 115: 'T>A', 109: 'G>A', 69: 'G>C', 33: 'G>A', 335: 'G>A', 68: 'C>G', 105: 'G>C', 296: 'G>T', 164: 'G>C', 213: 'T>C', 217: 'A>C', 220: 'A>T', 210: 'A>T', 292: 'C>T', 156: 'A>C', 269: 'G>C', 179: 'C>T', 206: 'C>G', 211: 'T>A', 215: 'C>A', 236: 'G>A', 178: 'C>A'}\n"
     ]
    }
   ],
   "source": [
    "print('Mutated Sequence: ',naive_sequence.mutated_seq,'\\n')\n",
    "\n",
    "print('Simulated Mutations: ',naive_sequence.mutations)\n",
    "# the above return a dictionary that shows what poisition in the naive sequence (still located in naive_sequence.ungapped_seq) were mutated \n",
    "# to way to read the dictionary is as following : the key is the position, and the value tells you what neuclitodie was present in the naive sequence, \">\" makrs that it was change to and the\n",
    "# neutlitode to the right of \">\" is what it was changed to, so 144:T>G means that a T neuclitode in the 144 position was changed to a G.\n"
   ]
  },
  {
   "metadata": {},
   "cell_type": "markdown",
   "source": "Note that rerunning this line naive_sequence.mutate(mutation_model) will keep generating new mutated sequence, without chaning any of the naive sequence properties the only variable in the object that will keep changing will be the `mutated_seq` variable",
   "id": "407504c8c09b558"
  },
  {
   "metadata": {},
   "cell_type": "markdown",
   "source": [
    "Now we will go over advanced noise and corruption simulation to do this we will have the leverage the Augmentor classes that facilitates both all the logic needed to generate a naive sequence add the noise and correct the ground truths parameters accordingly, lets try it out!\n",
    "\n",
    "#### Defining Simulation Arguments\n",
    "In this section, we define the arguments for the simulation using the `SequenceAugmentorArguments` class. You can use the default values provided by GenAIRR (as detailed in the GenAIRR paper) or customize the arguments to suit your specific requirements.\n",
    "\n",
    "For the purpose of this example, we'll reduce the probability of inserting \"N\" nucleotides into a sequence to 0.5 and increase the maximum number of indels allowed in a sequence to 10."
   ],
   "id": "610cd2116aa3f32c"
  },
  {
   "cell_type": "code",
   "execution_count": 56,
   "id": "9c8633171bd749c4",
   "metadata": {
    "ExecuteTime": {
     "end_time": "2024-08-11T12:48:41.344244Z",
     "start_time": "2024-08-11T12:48:41.328944Z"
    }
   },
   "outputs": [],
   "source": [
    "from GenAIRR.simulation import HeavyChainSequenceAugmentor,SequenceAugmentorArguments\n",
    "args = SequenceAugmentorArguments(n_proba=0.5,max_indels=10)"
   ]
  },
  {
   "cell_type": "code",
   "execution_count": 58,
   "id": "d53605f049377969",
   "metadata": {
    "ExecuteTime": {
     "end_time": "2024-08-11T12:49:15.532755Z",
     "start_time": "2024-08-11T12:49:15.524178Z"
    }
   },
   "outputs": [],
   "source": [
    "# now let's create the augmentor providing it our DataConfig object\n",
    "aug = HeavyChainSequenceAugmentor(dataconfig)"
   ]
  },
  {
   "cell_type": "code",
   "execution_count": 59,
   "id": "181ce191fc91a629",
   "metadata": {
    "ExecuteTime": {
     "end_time": "2024-08-11T12:49:16.826917Z",
     "start_time": "2024-08-11T12:49:16.818936Z"
    }
   },
   "outputs": [
    {
     "data": {
      "text/plain": [
       "<GenAIRR.simulation.heavy_chain_sequence_augmentor.HeavyChainSequenceAugmentor at 0x1a8b58aaaf0>"
      ]
     },
     "execution_count": 59,
     "metadata": {},
     "output_type": "execute_result"
    }
   ],
   "source": [
    "aug"
   ]
  },
  {
   "metadata": {},
   "cell_type": "markdown",
   "source": [
    "Now, we can run the `simulate_augmented_sequence` method as many times as needed. The augmentor will handle all the complexities for you, including selecting alleles, mutating the naive sequence, adding N nucleotides, and applying all the corruptions based on the `SequenceAugmentorArguments` object we defined earlier.\n",
    "\n",
    "The returned dictionary is structured in a way that makes it easy to transform into a pandas DataFrame. This is especially useful if you want to generate a list of such dictionaries and save them as a tabular file for further analysis.\n"
   ],
   "id": "71ba3e3962f1dfe"
  },
  {
   "cell_type": "code",
   "execution_count": 62,
   "id": "f39a3a6aabe1144c",
   "metadata": {
    "ExecuteTime": {
     "end_time": "2024-08-11T12:49:32.539144Z",
     "start_time": "2024-08-11T12:49:32.509279Z"
    }
   },
   "outputs": [
    {
     "name": "stdout",
     "output_type": "stream",
     "text": [
      "{'sequence': 'GGGGCATCACAGCGAGAGGACGGTTCGNCTCACCCTCCGAGAGATTCGGCTCTCTAGGCGAGATCCGCAGTCGAGCAGGTCGTATCTCAGGAGCCGTTGCACGAGTCGGGCCCAGGATTAATGAAGCCTTCACAGACCCTGTCCCTCACATGCGTTGCTCTCGTGTCTCTNTCAACTGGGGCGGTGACTCTTGGAACTNGATCCGCCAACTCCCTAAGAAGGGCCTGGACTANACTGGATTTATCTTTTGTAGTCGAGACGTCCATCACAAGTCNCCCCTCANGAGTCGAGTCACTATTTGAGCAGTCACGTCTTAGAATCCGGTCTCCCTGATGCTGCCTCGGTGACTGCCGCGGACACGGCCCTAAGTTATAGTGCGAGAGAGGAGCGGGAAGTGACGACAGTGGCCTGGTTCGACCCCGGGGGCCTGGGAACCCTGGTNACCGTCTCCTCAGACTTTNACCACGTGTNCATCGGTCCCCCCCCT', 'v_sequence_start': 87, 'v_sequence_end': 383, 'd_sequence_start': 395, 'd_sequence_end': 405, 'j_sequence_start': 408, 'j_sequence_end': 455, 'v_germline_start': 0, 'v_germline_end': 298, 'd_germline_start': 0, 'd_germline_end': 10, 'j_germline_start': 4, 'j_germline_end': 51, 'junction_sequence_start': 373, 'junction_sequence_end': 424, 'v_call': 'IGHVF3-G11*01', 'd_call': 'IGHD4-4*01,IGHD4-11*01,IGHD4-4*01', 'j_call': 'IGHJ5*02', 'c_call': 'IGHG3*11', 'mutation_rate': 0.17453798767967146, 'v_trim_5': 0, 'v_trim_3': 0, 'd_trim_5': 0, 'd_trim_3': 6, 'j_trim_5': 4, 'j_trim_3': 0, 'c_trim_3': 8, 'corruption_event': 'add', 'corruption_add_amount': 86, 'corruption_remove_amount': 0, 'mutations': {91: 'T>A', 94: 'A>C', 96: 'C>T', 101: 'G>T>C', 117: 'C>T', 119: 'G>A', 120: 'G>A', 149: 'C>A', 154: 'C>T', 161: 'G>A>C', 165: 'G>T', 169: 'C>T', 174: 'G>A', 176: 'A>T', 178: 'T>C>G', 181: 'T>C', 185: 'T>G', 189: 'A>C', 190: 'C>T', 195: 'G>A', 208: 'G>A', 210: 'A>T', 214: 'A>T', 215: 'G>A', 216: 'G>A', 229: 'G>C', 231: 'G>A', 234: 'T>C', 238: 'G>A', 240: 'A>G>C>T', 241: 'C>T', 246: 'A>G>T', 249: 'A>C>G', 250: 'C>T', 254: 'G>C', 256: 'G>A', 257: 'A>G', 258: 'G>C>A', 260: 'A>G', 261: 'C>T', 263: 'T>C', 265: 'C>T', 266: 'T>C', 271: 'C>G', 272: 'C>T', 274: 'G>C', 275: 'T>C', 292: 'T>C', 295: 'C>T', 298: 'A>T', 300: 'C>G', 303: 'T>C', 306: 'A>C>T', 314: 'A>T', 319: 'C>A>T', 321: 'A>C', 323: 'T>G', 333: 'A>T', 338: 'G>C', 342: 'T>G', 364: 'G>C', 366: 'G>A', 367: 'T>A', 368: 'A>G', 372: 'C>T', 373: 'T>A', 399: 'T>G', 421: 'T>G', 428: 'A>T', 455: 'G>A', 459: 'C>T', 465: 'A>T>C', 467: 'G>T', 469: 'C>T', 479: 'T>C', 480: 'T>C'}, 'Ns': {27: 'G>N', 170: 'A>N', 198: 'G>N', 232: 'G>N', 274: 'C>N', 282: 'A>N', 441: 'C>N', 460: 'C>N', 470: 'C>N'}, 'indels': {156: 'D > T', 337: 'D > A', 61: 'I < G'}, 'productive': False, 'stop_codon': True, 'vj_in_frame': False, 'note': 'Stop codon present.Stop codon present.'}\n"
     ]
    }
   ],
   "source": "print(aug.simulate_augmented_sequence())"
  },
  {
   "metadata": {},
   "cell_type": "markdown",
   "source": [
    "#### Controlling Allele Selection in Augmented Sequences\n",
    "\n",
    "In many cases, especially in benchmarking settings, you might want to control which alleles the augmentor uses. The `simulate_augmented_sequence` method allows you to specify a particular V, D, J allele, or any combination of them as parameters. This forces the augmentor to use the specified alleles.\n",
    "\n",
    "The `specific_v`, `specific_d`, and `specific_j` arguments are optional. If any of these parameters are not provided, the augmentor will randomly sample an allele for that gene from the `DataConfig` provided during its initialization.\n",
    "\n",
    "If none of the three alleles are specified, the method will generate a completely random sequence. However, if you provide specific V and J alleles and run the method in a loop, aggregating the results in a list, you'll obtain multiple sequences with varying D alleles (as they are randomly sampled). These sequences will share the same V and J alleles but will have different mutations, noise, and corruption levels.\n"
   ],
   "id": "8f04c2d887d341f2"
  },
  {
   "cell_type": "code",
   "execution_count": 64,
   "id": "c02eb7e7ff264a7f",
   "metadata": {
    "ExecuteTime": {
     "end_time": "2024-08-11T12:54:34.492582Z",
     "start_time": "2024-08-11T12:54:34.460925Z"
    }
   },
   "outputs": [
    {
     "data": {
      "text/plain": [
       "{'sequence': 'GAGGTGGATCCGCCAATCCCCAAAGAAGGCCCTGGATTGCCTCGAACACGTTTTCTCGAGTGTCCAAAAATGCTGCANCACGTCTCGGANGAAAAGGCTCACCTTCTCCAAGGCCACCTCCAGAAGACAGGTGGTCCCAATCATGAGCCGTGTGGATCCNGTGGACACACCGCATCTCACTGTACATGGAAACCACTGACTGTGCCTCAGGGAGTTCTCCCAGGNCCACTTCCAGCCCNCGGGCCAGGGCACCCTGCTCACCGTCTCCTCAGGCACCCGCTGTGACAGGACCGTCA',\n",
       " 'v_sequence_start': 0,\n",
       " 'v_sequence_end': 193,\n",
       " 'd_sequence_start': 196,\n",
       " 'd_sequence_end': 216,\n",
       " 'j_sequence_start': 227,\n",
       " 'j_sequence_end': 272,\n",
       " 'v_germline_start': 107,\n",
       " 'v_germline_end': 301,\n",
       " 'd_germline_start': 3,\n",
       " 'd_germline_end': 23,\n",
       " 'j_germline_start': 7,\n",
       " 'j_germline_end': 52,\n",
       " 'junction_sequence_start': 180,\n",
       " 'junction_sequence_end': 241,\n",
       " 'v_call': 'IGHVF1-G1*01',\n",
       " 'd_call': 'IGHD3-10*03,IGHD3-10*03',\n",
       " 'j_call': 'IGHJ1*01',\n",
       " 'c_call': 'IGHG2*16',\n",
       " 'mutation_rate': 0.1858108108108108,\n",
       " 'v_trim_5': 0,\n",
       " 'v_trim_3': 0,\n",
       " 'd_trim_5': 3,\n",
       " 'd_trim_3': 8,\n",
       " 'j_trim_5': 7,\n",
       " 'j_trim_3': 0,\n",
       " 'c_trim_3': 16,\n",
       " 'corruption_event': 'remove',\n",
       " 'corruption_add_amount': 0,\n",
       " 'corruption_remove_amount': 107,\n",
       " 'mutations': {3: 'C>G',\n",
       "  12: 'T>C',\n",
       "  15: 'G>A',\n",
       "  16: 'C>T',\n",
       "  22: 'G>A',\n",
       "  23: 'G>A',\n",
       "  36: 'G>T',\n",
       "  39: 'G>C',\n",
       "  42: 'T>C',\n",
       "  44: 'C>A',\n",
       "  49: 'A>G',\n",
       "  54: 'T>C',\n",
       "  59: 'A>G',\n",
       "  62: 'A>T',\n",
       "  64: 'G>C',\n",
       "  71: 'C>G',\n",
       "  74: 'A>G',\n",
       "  77: 'G>C',\n",
       "  81: 'A>G',\n",
       "  86: 'T>G',\n",
       "  89: 'A>G',\n",
       "  92: 'G>A',\n",
       "  93: 'C>A',\n",
       "  103: 'A>T',\n",
       "  113: 'A>C',\n",
       "  122: 'A>G',\n",
       "  126: 'C>T>A',\n",
       "  137: 'T>C',\n",
       "  138: 'T>A',\n",
       "  140: 'C>T',\n",
       "  146: 'C>G',\n",
       "  148: 'A>C',\n",
       "  149: 'A>G',\n",
       "  151: 'A>G',\n",
       "  156: 'C>T',\n",
       "  171: 'A>G',\n",
       "  175: 'A>C',\n",
       "  177: 'T>A>C',\n",
       "  183: 'G>A',\n",
       "  190: 'T>A',\n",
       "  197: 'T>G',\n",
       "  201: 'A>G',\n",
       "  204: 'G>C',\n",
       "  205: 'T>C',\n",
       "  236: 'A>T>C',\n",
       "  239: 'G>C',\n",
       "  256: 'G>C',\n",
       "  277: 'A>C',\n",
       "  278: 'C>G',\n",
       "  284: 'G>A'},\n",
       " 'Ns': {77: 'C>N', 89: 'G>N', 159: 'T>N', 224: 'C>N', 238: 'T>N'},\n",
       " 'indels': {168: 'D > G'},\n",
       " 'productive': False,\n",
       " 'stop_codon': True,\n",
       " 'vj_in_frame': False,\n",
       " 'note': 'Stop codon present.Junction length not divisible by 3.Stop codon present.Junction length not divisible by 3.'}"
      ]
     },
     "execution_count": 64,
     "metadata": {},
     "output_type": "execute_result"
    }
   ],
   "source": [
    "aug.simulate_augmented_sequence(specific_v=v_alleles[0])"
   ]
  }
 ],
 "metadata": {
  "kernelspec": {
   "display_name": "Python 3 (ipykernel)",
   "language": "python",
   "name": "python3"
  },
  "language_info": {
   "codemirror_mode": {
    "name": "ipython",
    "version": 3
   },
   "file_extension": ".py",
   "mimetype": "text/x-python",
   "name": "python",
   "nbconvert_exporter": "python",
   "pygments_lexer": "ipython3",
   "version": "3.9.13"
  }
 },
 "nbformat": 4,
 "nbformat_minor": 5
}

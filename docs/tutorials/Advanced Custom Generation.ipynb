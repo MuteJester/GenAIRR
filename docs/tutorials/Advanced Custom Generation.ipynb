{
 "cells": [
  {
   "cell_type": "markdown",
   "id": "ec7e12c695fc50a0",
   "metadata": {},
   "source": [
    "# Advanced Guide to Using GenAIRR for Custom Sequence Generation and Manipulation\n",
    "\n"
   ]
  },
  {
   "cell_type": "markdown",
   "id": "4d79b26213d77f6d",
   "metadata": {},
   "source": [
    "# Advanced Guide to GenAIRR\n",
    "\n",
    "Welcome to the advanced guide on using the **GenAIRR** Python package. In this notebook, we'll explore how to generate custom sequences and perform various manipulations using GenAIRR. This guide assumes familiarity with the basic functionalities of GenAIRR, as covered in the [basic guide](https://github.com/MuteJester/GenAIRR/blob/master/tutorials/Quick%20Start%20Guide.ipynb).\n",
    "\n",
    "## What You'll Learn\n",
    "- Generating custom sequences.\n",
    "- Advanced manipulations of sequences.\n",
    "- Use cases and practical applications.\n",
    "\n",
    "Let's get started!\n"
   ]
  },
  {
   "cell_type": "markdown",
   "id": "bd562475fed8fdfb",
   "metadata": {},
   "source": [
    "### Loading the Built-in Heavy Chain Data Configuration\n",
    "In this section, we load the built-in heavy chain data configuration object from the GenAIRR package. This object contains predefined configurations, reference alleles and metadata which is essential for working with heavy chain sequence data."
   ]
  },
  {
   "cell_type": "code",
   "execution_count": null,
   "id": "6beb75578f96f1bd",
   "metadata": {
    "ExecuteTime": {
     "end_time": "2025-05-21T13:09:14.141971Z",
     "start_time": "2025-05-21T13:09:13.139582Z"
    }
   },
   "outputs": [],
   "source": [
    "from GenAIRR.data import HUMAN_IGH_OGRDB\n",
    "# Load the built-in heavy chain data config object\n",
    "dataconfig = HUMAN_IGH_OGRDB"
   ]
  },
  {
   "cell_type": "code",
   "execution_count": 2,
   "id": "31a0886801b5338d",
   "metadata": {
    "ExecuteTime": {
     "end_time": "2025-05-21T13:09:14.171945Z",
     "start_time": "2025-05-21T13:09:14.155844Z"
    }
   },
   "outputs": [
    {
     "data": {
      "text/plain": [
       "<Heavy Chain - Data Config>-<198 V Alleles>-<33 D Alleles>-<7 J Alleles>-<86 C Alleles>"
      ]
     },
     "execution_count": 2,
     "metadata": {},
     "output_type": "execute_result"
    }
   ],
   "source": [
    "dataconfig"
   ]
  },
  {
   "cell_type": "markdown",
   "id": "b6a2a1edcad152b6",
   "metadata": {},
   "source": [
    "#### Extracting Allele Objects from the Data Configuration\n",
    "The alleles from the reference file are stored as Allele objects within a dictionary, where each gene family is mapped to a list of corresponding alleles. In this section, we extract each Allele object from these lists, converting them into a more accessible list format. This step simplifies access but is optional—if you know the specific allele you need, you can directly access it using key indexing."
   ]
  },
  {
   "cell_type": "code",
   "execution_count": 3,
   "id": "ebdde12c7b294ac3",
   "metadata": {
    "ExecuteTime": {
     "end_time": "2025-05-21T13:09:18.659751Z",
     "start_time": "2025-05-21T13:09:18.649012Z"
    }
   },
   "outputs": [],
   "source": [
    "# the alleles from the reference file are kept as Allele objects as part of a gene family to allele list dictionary\n",
    "# here we extract each Allele object from each gene lists, so that we can access them via the list\n",
    "# this step is not required, if the specific desired allele is known it can be accessed using key indexing instead\n",
    "v_alleles = [i for j in dataconfig.v_alleles for i in dataconfig.v_alleles[j]]\n",
    "d_alleles = [i for j in dataconfig.d_alleles for i in dataconfig.d_alleles[j]]\n",
    "j_alleles = [i for j in dataconfig.j_alleles for i in dataconfig.j_alleles[j]]\n",
    "c_alleles = [i for j in dataconfig.c_alleles for i in dataconfig.c_alleles[j]]"
   ]
  },
  {
   "cell_type": "code",
   "execution_count": 4,
   "id": "41f738a531fa6377",
   "metadata": {
    "ExecuteTime": {
     "end_time": "2025-05-21T13:09:19.373911Z",
     "start_time": "2025-05-21T13:09:19.362892Z"
    }
   },
   "outputs": [
    {
     "data": {
      "text/plain": [
       "VAllele(name='IGHVF1-G1*01', sequence='...gcatggatac', length=301, ungapped_len=301, family='IGHVF1', gene='IGHVF1-G1')"
      ]
     },
     "execution_count": 4,
     "metadata": {},
     "output_type": "execute_result"
    }
   ],
   "source": [
    "    # example of the first Allele object in the V allele list\n",
    "v_alleles[0]"
   ]
  },
  {
   "cell_type": "markdown",
   "id": "7c284c09ab666ec9",
   "metadata": {},
   "source": [
    "#### Creating a Custom Naive Sequence\n",
    "In this section, we create a custom naive sequence by passing a list of selected V, D, J, and C (Constant) alleles to the `HeavyChainSequence` class. This allows us to generate a sequence based on specific alleles of interest.\n"
   ]
  },
  {
   "cell_type": "code",
   "execution_count": 5,
   "id": "a92c64a1cc5b09f",
   "metadata": {
    "ExecuteTime": {
     "end_time": "2025-05-21T13:09:20.790085Z",
     "start_time": "2025-05-21T13:09:20.780839Z"
    }
   },
   "outputs": [
    {
     "data": {
      "text/plain": [
       "0|--------------------------------------------------------------------------V(IGHVF1-G1*01)|297316|------------J(IGHJ1*01)|367|367|-------C(IGHA1*01)|398"
      ]
     },
     "execution_count": 5,
     "metadata": {},
     "output_type": "execute_result"
    }
   ],
   "source": [
    "# Creating a custom naive sequence\n",
    "from GenAIRR.sequence import HeavyChainSequence\n",
    "\n",
    "selected_v_allele = v_alleles[0]\n",
    "selected_d_allele = d_alleles[0]\n",
    "selected_j_allele = j_alleles[0]\n",
    "selected_c_allele = c_alleles[0]\n",
    "\n",
    "# we pass to the HeavyChainSequence class, a list with a v,d,j and c (Constant) allele of our choice\n",
    "naive_sequence = HeavyChainSequence([selected_v_allele, selected_d_allele, selected_j_allele,selected_c_allele],dataconfig)\n",
    "naive_sequence"
   ]
  },
  {
   "cell_type": "markdown",
   "id": "b5f525b006a4b2c7",
   "metadata": {},
   "source": [
    "#### Viewing the Naive Sequence\n",
    "The `HeavyChainSequence` object now contains the resulting naive sequence information. This sequence is free from mutations, corruption, or N nucleotides, representing a pure recombined sequence.\n"
   ]
  },
  {
   "cell_type": "code",
   "execution_count": 6,
   "id": "4e34ad7167f95f98",
   "metadata": {
    "ExecuteTime": {
     "end_time": "2025-05-21T13:09:21.551978Z",
     "start_time": "2025-05-21T13:09:21.541783Z"
    }
   },
   "outputs": [
    {
     "name": "stdout",
     "output_type": "stream",
     "text": [
      "VAllele(name='IGHVF1-G1*01', sequence='...gcatggatac', length=301, ungapped_len=301, family='IGHVF1', gene='IGHVF1-G1')\n",
      "DAllele(name='IGHD1-1*01', sequence='...ctggaacgac', length=17, ungapped_len=17, family='IGHD1', gene='IGHD1-1')\n",
      "JAllele(name='IGHJ1*01', sequence='...gtctcctcag', length=52, ungapped_len=52, family='IGHJ1', gene='IGHJ1')\n",
      "CAllele(name='IGHA1*01', sequence='...ctgagcctct', length=40, ungapped_len=40, family='IGHA1', gene='IGHA1')\n"
     ]
    }
   ],
   "source": [
    "print(naive_sequence.v_allele)\n",
    "print(naive_sequence.d_allele)\n",
    "print(naive_sequence.j_allele)\n",
    "print(naive_sequence.c_allele)\n",
    "# we can see that we can go back and see inside the resulting naive sequence what Allele objects were used in the recombination process and \n",
    "# access all the various Allele object attributes"
   ]
  },
  {
   "cell_type": "code",
   "execution_count": 7,
   "id": "4406ca900353bde4",
   "metadata": {
    "ExecuteTime": {
     "end_time": "2025-05-21T13:09:21.826190Z",
     "start_time": "2025-05-21T13:09:21.818861Z"
    }
   },
   "outputs": [
    {
     "name": "stdout",
     "output_type": "stream",
     "text": [
      "V Allele 3' Trim Length =  4\n",
      "V Allele 5' Trim Length =  0\n",
      "D Allele 3' Trim Length =  12\n",
      "D Allele 5' Trim Length =  4\n",
      "J Allele 3' Trim Length =  0\n",
      "J Allele 5' Trim Length =  1\n",
      "C Allele 3' Trim Length =  9\n",
      "C Allele 5' Trim Length =  0\n"
     ]
    }
   ],
   "source": [
    "print(\"V Allele 3' Trim Length = \", naive_sequence.v_trim_3)\n",
    "print(\"V Allele 5' Trim Length = \", naive_sequence.v_trim_5)\n",
    "print(\"D Allele 3' Trim Length = \", naive_sequence.d_trim_3)\n",
    "print(\"D Allele 5' Trim Length = \", naive_sequence.d_trim_5)\n",
    "print(\"J Allele 3' Trim Length = \", naive_sequence.j_trim_3)\n",
    "print(\"J Allele 5' Trim Length = \", naive_sequence.j_trim_5)\n",
    "print(\"C Allele 3' Trim Length = \", naive_sequence.c_trim_3)\n",
    "print(\"C Allele 5' Trim Length = \", naive_sequence.c_trim_5)\n",
    "\n",
    "# Also the naive sequence object allows us to access the information regarding the different trimmings that were simulated \n",
    "# on each side of eahc allele\n"
   ]
  },
  {
   "cell_type": "code",
   "execution_count": 8,
   "id": "130e4d318b2e5452",
   "metadata": {
    "ExecuteTime": {
     "end_time": "2025-05-21T13:09:22.234941Z",
     "start_time": "2025-05-21T13:09:22.222816Z"
    }
   },
   "outputs": [
    {
     "name": "stdout",
     "output_type": "stream",
     "text": [
      "Junction:  TGTGCATGGGTTCCCCCAGCCCCCCGGGCTGAATACTTCCAGCACTGG\n",
      "Is Functional: True\n"
     ]
    }
   ],
   "source": [
    "print('Junction: ',naive_sequence.junction)\n",
    "print('Is Functional:', naive_sequence.functional)\n",
    "# we can look at the junction sequence as well as the productivity status of the sequence "
   ]
  },
  {
   "cell_type": "code",
   "execution_count": 9,
   "id": "47f89dca4cfd1dff",
   "metadata": {
    "ExecuteTime": {
     "end_time": "2025-05-21T13:09:22.552933Z",
     "start_time": "2025-05-21T13:09:22.541836Z"
    }
   },
   "outputs": [
    {
     "name": "stdout",
     "output_type": "stream",
     "text": [
      "NP 1 Region Length:  6\n",
      "NP 1 Region Sequence:  gttccc\n",
      "NP 2 Region Length:  12\n",
      "NP 2 Region Sequence:  cagccccccggg\n"
     ]
    }
   ],
   "source": [
    "print('NP 1 Region Length: ',naive_sequence.NP1_length)\n",
    "print(\"NP 1 Region Sequence: \",naive_sequence.NP1_region)\n",
    "\n",
    "print('NP 2 Region Length: ',naive_sequence.NP2_length)\n",
    "print(\"NP 2 Region Sequence: \",naive_sequence.NP2_region)\n",
    "\n",
    "# we can look at the NP regions simulated"
   ]
  },
  {
   "cell_type": "code",
   "execution_count": 10,
   "id": "ffe5be6fb491370f",
   "metadata": {
    "ExecuteTime": {
     "end_time": "2025-05-21T13:09:22.794423Z",
     "start_time": "2025-05-21T13:09:22.783721Z"
    }
   },
   "outputs": [
    {
     "name": "stdout",
     "output_type": "stream",
     "text": [
      "Sequence:  CAGGTCACCTTGAAGGAGTCTGGTCCTGTGCTGGTGAAACCCACAGAGACCCTCACGCTGACCTGCACCGTCTCTGGGTTCTCACTCAGCAATGCTAGAATGGGTGTGAGCTGGATCCGTCAGCCCCCAGGGAAGGCCCTGGAGTGGCTTGCACACATTTTTTCGAATGACGAAAAATCCTACAGCACATCTCTGAAGAGCAGGCTCACCATCTCCAAGGACACCTCCAAAAGCCAGGTGGTCCTTACCATGACCAATATGGACCCTGTGGACACAGCCACATATTACTGTGCATGGGTTCCCCCAGCCCCCCGGGCTGAATACTTCCAGCACTGGGGCCAGGGCACCCTGGTCACCGTCTCCTCAGGCATCCCCGACCAGCCCCAAGGTCTTCCCGC\n"
     ]
    }
   ],
   "source": [
    "print('Sequence: ',naive_sequence.ungapped_seq)\n",
    "# and of course we can access the full simulated naive sequence"
   ]
  },
  {
   "cell_type": "markdown",
   "id": "bbad97bceee7105a",
   "metadata": {},
   "source": [
    "### Introducing Mutations to the Sequence\n",
    "In this section, we introduce mutations into the heavy chain sequence. This allows us to simulate more realistic scenarios where sequences are not perfect, reflecting the natural variability found in biological systems.\n"
   ]
  },
  {
   "cell_type": "code",
   "execution_count": 11,
   "id": "18a44b7c56d20eae",
   "metadata": {
    "ExecuteTime": {
     "end_time": "2025-05-21T13:09:23.325047Z",
     "start_time": "2025-05-21T13:09:23.310941Z"
    }
   },
   "outputs": [],
   "source": [
    "# now the next thing we would want to add to the naive sequence is mutations making it not naive anymore by simulating SHM\n",
    "# to do this you will need to choose a mutation model and apply it on the naive sequence\n",
    "# lets import the Uniform mutation model and apply it to our naive sequence\n",
    "from GenAIRR.mutation import Uniform\n",
    "mutation_model = Uniform(min_mutation_rate=0.03,max_mutation_rate=0.1) # where the mutation rate is the ratio of neuclitodes in the sequence that will be mutated\n",
    "\n",
    "# lets apply the mutations to the sequence\n",
    "naive_sequence.mutate(mutation_model)"
   ]
  },
  {
   "cell_type": "code",
   "execution_count": 12,
   "id": "2f3c1896175eb962",
   "metadata": {
    "ExecuteTime": {
     "end_time": "2025-05-21T13:09:23.780725Z",
     "start_time": "2025-05-21T13:09:23.772070Z"
    }
   },
   "outputs": [
    {
     "name": "stdout",
     "output_type": "stream",
     "text": [
      "Mutated Sequence:  CAGGTCACCTTGAGGGAGTCTGGTCCTGTGCCAGTGAAAACCACAGGCACCCTCACGCTGACCTGCACCGTCTCTGGGTTCCCAGTCAGCAATGCTAGAATGGGTGTGAGCTGGATCCGTCAGCCCCCAGGGAAGGCCCTGGAGAGGCTTGCACACATTTTTTCGAATGACGAAATAGCCTACCGAACATCTTTGAAGAACAGGCTCACCATCTTAAAGGAATCCTCCAAAAGCCAGGTGGTCCTTACCATGACCAATATGGACCCTGTGGACACAGCCACATATTACTGTGCATGGGTTCCCCCAGCCCCCCGGGCTGAATATTTCCACAACTGGGGCCAGGGCACCCTGGGCACCGTCTCCTCATGCATCCCCGACCAGCCCCAAGGTCTTCCCGC \n",
      "\n",
      "Simulated Mutations:  {352: 'T>G', 47: 'G>C', 84: 'C>G', 31: 'T>C', 39: 'C>A', 46: 'A>G', 177: 'T>G', 185: 'C>A', 144: 'T>A', 192: 'C>T', 221: 'C>A', 215: 'C>A', 13: 'A>G', 32: 'G>A', 183: 'A>C', 175: 'A>T', 366: 'G>T', 323: 'C>T', 214: 'C>T', 81: 'T>C', 222: 'A>T', 330: 'C>A', 329: 'G>C', 199: 'G>A'}\n"
     ]
    }
   ],
   "source": [
    "print('Mutated Sequence: ',naive_sequence.mutated_seq,'\\n')\n",
    "\n",
    "print('Simulated Mutations: ',naive_sequence.mutations)\n",
    "# the above return a dictionary that shows what poisition in the naive sequence (still located in naive_sequence.ungapped_seq) were mutated \n",
    "# to way to read the dictionary is as following : the key is the position, and the value tells you what neuclitodie was present in the naive sequence, \">\" makrs that it was change to and the\n",
    "# neutlitode to the right of \">\" is what it was changed to, so 144:T>G means that a T neuclitode in the 144 position was changed to a G.\n"
   ]
  },
  {
   "cell_type": "markdown",
   "id": "407504c8c09b558",
   "metadata": {},
   "source": [
    "Note that rerunning this line naive_sequence.mutate(mutation_model) will keep generating new mutated sequence, without chaning any of the naive sequence properties the only variable in the object that will keep changing will be the `mutated_seq` variable"
   ]
  },
  {
   "cell_type": "markdown",
   "id": "8f04c2d887d341f2",
   "metadata": {},
   "source": [
    "#### Controlling Allele Selection in Augmented Sequences\n",
    "\n",
    "In many cases, especially in benchmarking settings, you might want to control which alleles the augmentor uses. The `SimulateSequence` Step allows you to specify a particular V, D, J allele, or any combination of them as parameters. This forces the augmentor to use the specified alleles.\n",
    "\n",
    "The `specific_v`, `specific_d`, and `specific_j` arguments are optional. If any of these parameters are not provided, the augmentor will randomly sample an allele for that gene from the `DataConfig` provided during its initialization.\n",
    "\n",
    "If none of the three alleles are specified, the method will generate a completely random sequence. However, if you provide specific V and J alleles and run the method in a loop, aggregating the results in a list, you'll obtain multiple sequences with varying D alleles (as they are randomly sampled). These sequences will share the same V and J alleles but will have different mutations, noise, and corruption levels.\n"
   ]
  },
  {
   "cell_type": "code",
   "execution_count": 14,
   "id": "864c9485",
   "metadata": {
    "ExecuteTime": {
     "end_time": "2025-05-21T13:09:40.797606Z",
     "start_time": "2025-05-21T13:09:40.786583Z"
    }
   },
   "outputs": [],
   "source": [
    "from GenAIRR.pipeline import AugmentationPipeline\n",
    "from GenAIRR.data import builtin_heavy_chain_data_config,builtin_lambda_chain_data_config,builtin_kappa_chain_data_config\n",
    "from GenAIRR.steps import SimulateSequence,FixVPositionAfterTrimmingIndexAmbiguity,FixDPositionAfterTrimmingIndexAmbiguity,FixJPositionAfterTrimmingIndexAmbiguity\n",
    "from GenAIRR.steps import CorrectForVEndCut,CorrectForDTrims,CorruptSequenceBeginning,InsertNs,InsertIndels,ShortDValidation,DistillMutationRate\n",
    "from GenAIRR.mutation import S5F\n",
    "from GenAIRR.steps.StepBase import AugmentationStep\n",
    "from GenAIRR.parameters import ChainType,CHAIN_TYPE_INFO\n",
    "from GenAIRR.dataconfig import DataConfig\n",
    "\n",
    "from GenAIRR.data import builtin_heavy_chain_data_config,builtin_kappa_chain_data_config,builtin_lambda_chain_data_config"
   ]
  },
  {
   "cell_type": "code",
   "execution_count": 15,
   "id": "1662a590",
   "metadata": {
    "ExecuteTime": {
     "end_time": "2025-05-21T13:09:42.180852Z",
     "start_time": "2025-05-21T13:09:42.167673Z"
    }
   },
   "outputs": [],
   "source": [
    "specific_v = v_alleles[0]"
   ]
  },
  {
   "cell_type": "code",
   "execution_count": 17,
   "id": "c02eb7e7ff264a7f",
   "metadata": {
    "ExecuteTime": {
     "end_time": "2025-05-21T13:10:28.959983Z",
     "start_time": "2025-05-21T13:10:28.902941Z"
    }
   },
   "outputs": [
    {
     "name": "stdout",
     "output_type": "stream",
     "text": [
      "Simulated Heavy Chain Sequence: {'sequence': 'CCACACACCATCTCTCAAGTGAAGGCTCACCTTGTCTACGGACGCCGCCATAGGTCAAGTGATCGTTGTCACTACCATTTTGGACCCTGTGGACACAGTCACATCTTACTGAGCATGGAATGGTGCGTGTCCCGACTGGGGCCAGGTAAGACTGGTCACCGGCGCCTCAGACCTCGCCCAAGGGCCCATCGG', 'v_call': ['IGHVF1-G1*01'], 'd_call': ['Short-D'], 'j_call': ['IGHJ4*02'], 'c_call': ['IGHG1*14'], 'v_sequence_start': 0, 'v_sequence_end': 119, 'd_sequence_start': 119, 'd_sequence_end': 121, 'j_sequence_start': 124, 'j_sequence_end': 170, 'v_germline_start': 179, 'v_germline_end': 298, 'd_germline_start': 6, 'd_germline_end': 8, 'j_germline_start': 2, 'j_germline_end': 48, 'junction_sequence_start': 109, 'junction_sequence_end': 139, 'mutation_rate': 0.21875, 'mutations': {1: 'T>C', 5: 'G>C', 6: 'C>A', 7: 'A>C', 15: 'G>T>C', 19: 'A>T', 21: 'C>A', 31: 'A>T', 33: 'C>G', 36: 'C>T', 38: 'A>C', 43: 'A>G', 46: 'T>G', 50: 'A>T', 52: 'A>G', 54: 'C>T', 57: 'G>A', 61: 'G>T>A', 64: 'C>G', 67: 'A>G', 68: 'C>T', 71: 'T>C', 72: 'G>A>T', 77: 'A>T', 79: 'A>T', 98: 'C>T', 104: 'A>C', 111: 'T>A', 125: 'A>C', 126: 'C>G', 128: 'T>G', 130: 'G>C', 131: 'A>C', 133: 'T>G', 146: 'G>T', 149: 'C>G', 150: 'C>A', 161: 'T>G', 163: 'T>G', 170: 'G>A', 175: 'C>G', 176: 'A>C'}, 'indels': {}, 'Ns': {}, 'v_trim_5': 0, 'v_trim_3': 3, 'd_trim_5': 6, 'd_trim_3': 15, 'j_trim_5': 2, 'j_trim_3': 0, 'c_trim_3': 18, 'productive': False, 'stop_codon': True, 'vj_in_frame': False, 'note': 'Stop codon present.', 'corruption_event': 'remove', 'corruption_add_amount': 0, 'corruption_remove_amount': 179, 'corruption_removed_section': 'TCGGTCACCTTGAAGGAGTCTGGTCCTGTAGTGGCGCAACCCCCAGAATCCATCACATTGACGTGAACCGTCTCCGAGTTCTCAGTCAGAAGCATTAGATTGCCTGTGAGTTAGCTGCCCCGGGCCCCAGGGAAGGGCCTGGGTTGACTTGCATACACTCTCTCTATTGACGAAGCATT', 'corruption_added_section': ''}\n"
     ]
    }
   ],
   "source": [
    "# Set the dataconfig and the chain type for the simulations\n",
    "AugmentationStep.set_dataconfig(config=CHAIN_TYPE_INFO[ChainType.BCR_HEAVY].dataconfig,\n",
    "                                chain_type=ChainType.BCR_HEAVY)\n",
    "\n",
    "# Create the simulation pipeline\n",
    "pipeline = AugmentationPipeline([\n",
    "    SimulateSequence(mutation_model = S5F(min_mutation_rate=0.003,max_mutation_rate=0.25),productive = True,specific_v=specific_v), # <- notice here we specified the    v we want\n",
    "    FixVPositionAfterTrimmingIndexAmbiguity(),\n",
    "    FixDPositionAfterTrimmingIndexAmbiguity(),\n",
    "    FixJPositionAfterTrimmingIndexAmbiguity(),\n",
    "    CorrectForVEndCut(),\n",
    "    CorrectForDTrims(),\n",
    "    CorruptSequenceBeginning(corruption_probability = 0.7,corrupt_events_proba = [0.4,0.4,0.2],max_sequence_length = 576,nucleotide_add_coefficient = 210,\n",
    "                             nucleotide_remove_coefficient = 310,nucleotide_add_after_remove_coefficient = 50,random_sequence_add_proba = 1,\n",
    "                             single_base_stream_proba = 0,duplicate_leading_proba = 0,random_allele_proba = 0),\n",
    "    InsertNs(n_ratio = 0.02,proba = 0.5),\n",
    "    ShortDValidation(short_d_length= 5),\n",
    "    InsertIndels(indel_probability = 0.5,max_indels = 5,insertion_proba=0.5,deletion_proba=0.5),\n",
    "    DistillMutationRate()\n",
    "    ])\n",
    "\n",
    "\n",
    "\n",
    "# Simulate a heavy chain sequence\n",
    "heavy_sequence = pipeline.execute()\n",
    "\n",
    "# Print the simulated heavy chain sequence\n",
    "print(\"Simulated Heavy Chain Sequence:\", heavy_sequence.get_dict())\n"
   ]
  },
  {
   "cell_type": "code",
   "execution_count": null,
   "id": "24482351",
   "metadata": {},
   "outputs": [],
   "source": []
  }
 ],
 "metadata": {
  "kernelspec": {
   "display_name": "base",
   "language": "python",
   "name": "python3"
  },
  "language_info": {
   "codemirror_mode": {
    "name": "ipython",
    "version": 3
   },
   "file_extension": ".py",
   "mimetype": "text/x-python",
   "name": "python",
   "nbconvert_exporter": "python",
   "pygments_lexer": "ipython3",
   "version": "undefined.undefined.undefined"
  }
 },
 "nbformat": 4,
 "nbformat_minor": 5
}

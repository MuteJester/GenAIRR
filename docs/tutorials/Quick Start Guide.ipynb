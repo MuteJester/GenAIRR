{
 "cells": [
  {
   "cell_type": "markdown",
   "id": "83e2c6a8384477e1",
   "metadata": {
    "collapsed": false
   },
   "source": [
    "# Quick Start Guide to GenAIRR\n",
    "\n",
    "Welcome to the Quick Start Guide for GenAIRR, a Python module designed for generating synthetic Adaptive Immune Receptor Repertoire (AIRR) sequences. This guide will walk you through the basic usage of GenAIRR, including setting up your environment, simulating heavy and light chain sequences, and customizing your simulations.\n"
   ]
  },
  {
   "cell_type": "markdown",
   "id": "ed61a724084ddd1b",
   "metadata": {
    "collapsed": false
   },
   "source": [
    "## Installation\n",
    "\n",
    "Before you begin, ensure that you have Python 3.x installed on your system. GenAIRR can be installed using pip, Python's package installer. Execute the following command in your terminal:\n"
   ]
  },
  {
   "cell_type": "code",
   "execution_count": 1,
   "id": "null",
   "metadata": {
    "ExecuteTime": {
     "end_time": "2025-05-21T13:16:34.410588Z",
     "start_time": "2025-05-21T13:16:34.136054Z"
    },
    "collapsed": false,
    "is_executing": true
   },
   "outputs": [],
   "source": [
    "import pandas as pd\n",
    "# Install GenAIRR using pip\n",
    "#!pip install GenAIRR"
   ]
  },
  {
   "cell_type": "markdown",
   "id": "6fbbb7fe05f8830b",
   "metadata": {
    "collapsed": false
   },
   "source": [
    "## Setting Up\n",
    "\n",
    "To start using GenAIRR, you need to import the necessary classes from the module. We'll also set up a `DataConfig` object to specify our configuration.\n"
   ]
  },
  {
   "cell_type": "code",
   "execution_count": null,
   "id": "508742ea562446bc",
   "metadata": {
    "ExecuteTime": {
     "end_time": "2025-05-21T13:16:35.115498Z",
     "start_time": "2025-05-21T13:16:34.520495Z"
    },
    "collapsed": false
   },
   "outputs": [],
   "source": [
    "# Importing GenAIRR classes\n",
    "from GenAIRR.pipeline import AugmentationPipeline\n",
    "from GenAIRR.data import HUMAN_IGH_OGRDB, HUMAN_IGL_OGRDB, HUMAN_IGK_OGRDB\n",
    "from GenAIRR.steps import (SimulateSequence, FixVPositionAfterTrimmingIndexAmbiguity, \n",
    "                          FixDPositionAfterTrimmingIndexAmbiguity, FixJPositionAfterTrimmingIndexAmbiguity)\n",
    "from GenAIRR.steps import (CorrectForVEndCut, CorrectForDTrims, CorruptSequenceBeginning, \n",
    "                          InsertNs, InsertIndels, ShortDValidation, DistillMutationRate)\n",
    "from GenAIRR.mutation import S5F\n",
    "from GenAIRR.steps.StepBase import AugmentationStep\n",
    "from GenAIRR.simulation import HeavyChainSequenceAugmentor, LightChainSequenceAugmentor, SequenceAugmentorArguments\n",
    "from GenAIRR.dataconfig import DataConfig\n",
    "\n",
    "# Use built-in data configurations directly\n",
    "heavy_chain_config = HUMAN_IGH_OGRDB\n",
    "kappa_chain_config = HUMAN_IGK_OGRDB  \n",
    "lambda_chain_config = HUMAN_IGL_OGRDB"
   ]
  },
  {
   "cell_type": "markdown",
   "id": "b9f9c421437b8021",
   "metadata": {
    "collapsed": false
   },
   "source": [
    "## Simulating Heavy Chain Sequences\n",
    "\n",
    "Let's simulate a BCR heavy chain sequence using the default GenAIRR pipeline for BCR heavy chain sequences via the `AugmentationPipeline`. This example demonstrates a simple simulation with default settings.\n"
   ]
  },
  {
   "cell_type": "code",
   "execution_count": 3,
   "id": "166552dbc6c87aa1",
   "metadata": {
    "ExecuteTime": {
     "end_time": "2025-05-21T13:16:36.928559Z",
     "start_time": "2025-05-21T13:16:36.871271Z"
    },
    "collapsed": false
   },
   "outputs": [
    {
     "name": "stdout",
     "output_type": "stream",
     "text": [
      "Simulated Heavy Chain Sequence: {'sequence': 'GGGGGTCCCTGAGACTCTCCGGGGCAGTGTCTGGATTCACCNTCAGTAGCTATGGCATGCACTGGGTCTNCCAGGCTCCANGCAAGGGGCTGGAGTGGGTGACATTTACAACGGATAAAGGCAGTAATAAATACTATGCAGACTNCGTGAAGGGCCGATCCACCATCTCCAGAGACAATTCCAAGAACACGCTGTATGTTCAAATGAACAGCCTGAGACGTGAGGACACNGCTGTGTTTTACTGGCGAAAGATCCTGACTACACTAGTTCCACCAACTGGTTCCACCACTGGGGCCCGGGAACCCTGGNCACCGTCTCCTCAGGCATCCC', 'v_call': ['IGHVF10-G37*08'], 'd_call': ['IGHD4-4*01', 'IGHD4-11*01'], 'j_call': ['IGHJ5*02'], 'c_call': ['IGHA2*01'], 'v_sequence_start': 0, 'v_sequence_end': 252, 'd_sequence_start': 255, 'd_sequence_end': 266, 'j_sequence_start': 273, 'j_sequence_end': 323, 'v_germline_start': 43, 'v_germline_end': 296, 'd_germline_start': 0, 'd_germline_end': 11, 'j_germline_start': 1, 'j_germline_end': 51, 'junction_sequence_start': 242, 'junction_sequence_end': 292, 'mutation_rate': 0.07575757575757576, 'mutations': {20: 'T>G', 22: 'T>G', 27: 'C>T', 68: 'C>T', 101: 'G>A', 108: 'T>C', 116: 'G>A', 118: 'T>A', 121: 'A>C', 159: 'T>G>C', 197: 'C>G', 199: 'G>T', 218: 'G>C', 219: 'C>G', 237: 'A>T', 263: 'G>C', 283: 'G>C', 287: 'C>A', 296: 'A>C'}, 'indels': {110: 'I < A', 243: 'D > T', 113: 'D > T'}, 'Ns': {41: 'T > N', 69: 'G > N', 80: 'G > N', 144: 'C > N', 229: 'G > N', 308: 'T > N'}, 'v_trim_5': 0, 'v_trim_3': 0, 'd_trim_5': 0, 'd_trim_3': 5, 'j_trim_5': 1, 'j_trim_3': 0, 'c_trim_3': 33, 'productive': False, 'stop_codon': True, 'vj_in_frame': False, 'note': 'Stop codon present.Junction length not divisible by 3.', 'corruption_event': 'remove', 'corruption_add_amount': 0, 'corruption_remove_amount': 43, 'corruption_removed_section': 'CAGGTGCAGCTGGTGGAGTCTGGGGGAGGTGTGGTCCAGTCTG', 'corruption_added_section': ''}\n"
     ]
    }
   ],
   "source": [
    "# Set the dataconfig for the simulations\n",
    "AugmentationStep.set_dataconfig(heavy_chain_config)\n",
    "\n",
    "# Create the simulation pipeline\n",
    "pipeline = AugmentationPipeline([\n",
    "    SimulateSequence(S5F(min_mutation_rate=0.003, max_mutation_rate=0.25), True),\n",
    "    FixVPositionAfterTrimmingIndexAmbiguity(),\n",
    "    FixDPositionAfterTrimmingIndexAmbiguity(),\n",
    "    FixJPositionAfterTrimmingIndexAmbiguity(),\n",
    "    CorrectForVEndCut(),\n",
    "    CorrectForDTrims(),\n",
    "    CorruptSequenceBeginning(0.7, [0.4, 0.4, 0.2], 576, 210, 310, 50),\n",
    "    InsertNs(0.02, 0.5),\n",
    "    ShortDValidation(),\n",
    "    InsertIndels(0.5, 5, 0.5, 0.5),\n",
    "    DistillMutationRate()\n",
    "])\n",
    "\n",
    "# Simulate a heavy chain sequence\n",
    "heavy_sequence = pipeline.execute()\n",
    "\n",
    "# Print the simulated heavy chain sequence\n",
    "print(\"Simulated Heavy Chain Sequence:\", heavy_sequence.get_dict())"
   ]
  },
  {
   "cell_type": "markdown",
   "id": "dc2fb81c8ffec80f",
   "metadata": {
    "collapsed": false
   },
   "source": [
    "## Customizing Simulations\n",
    "\n",
    "GenAIRR allows for extensive customization to closely mimic the natural diversity of immune sequences. Below is an example of how to customize mutation rates and indel simulations.\n"
   ]
  },
  {
   "cell_type": "code",
   "execution_count": 4,
   "id": "dc899faeda4820c6",
   "metadata": {
    "ExecuteTime": {
     "end_time": "2025-05-21T13:16:37.311865Z",
     "start_time": "2025-05-21T13:16:37.198462Z"
    },
    "collapsed": false
   },
   "outputs": [
    {
     "name": "stdout",
     "output_type": "stream",
     "text": [
      "Customized Simulated Heavy Chain Sequence: {'sequence': 'CAGGTGCAGCTGCAGGAGTCGGGCCCAGGACTGGTGGAGCCTTGGGACACCCTGACCCTCACCTCCACTGTCTCTAGTTACCCCATCAGAAATATTATCAGGTTGGACTGGANCCGTCANCCCCCAGTGAAGAGACTGGAGTGGATTGGATACATCGATTATAGAGGGAGCATCAATCACAATCCGTCCCTGAACAGTCGAGTCACCATGTCAGTGGACACGTCCAAGANCCCGTTCTCCCTGAATCTGAACTCTGTGAGCGCCNTGGACACGACCCTGTATTATTGTGCGGGAATCGANTGGGGGGGGGCTTCAGAGAGNCANTACTACGAAATGGACGTCTGGGGCCAAGGGACCACGGTCACCGCCGCCTCAGG', 'v_call': ['IGHVF3-G9*03'], 'd_call': ['IGHD3-10*03'], 'j_call': ['IGHJ6*02'], 'c_call': ['IGHG1*07'], 'v_sequence_start': 0, 'v_sequence_end': 295, 'd_sequence_start': 311, 'd_sequence_end': 320, 'j_sequence_start': 321, 'j_sequence_end': 376, 'v_germline_start': 0, 'v_germline_end': 295, 'd_germline_start': 12, 'd_germline_end': 21, 'j_germline_start': 8, 'j_germline_end': 63, 'junction_sequence_start': 285, 'junction_sequence_end': 345, 'mutation_rate': 0.1246684350132626, 'mutations': {36: 'A>G', 43: 'C>G', 54: 'T>A', 64: 'G>C', 66: 'G>A', 75: 'G>A', 81: 'T>C', 89: 'C>A', 91: 'G>A', 94: 'G>T', 97: 'A>T', 99: 'T>A', 103: 'G>T', 106: 'G>A', 116: 'G>T', 127: 'G>T', 132: 'G>A', 149: 'G>A', 156: 'T>G', 164: 'T>A', 174: 'T>A', 176: 'C>T', 177: 'T>C', 182: 'C>T', 191: 'C>G', 194: 'G>C', 215: 'A>G', 232: 'A>C', 245: 'G>T', 250: 'G>A', 259: 'C>T>G', 273: 'G>A', 276: 'G>C', 284: 'C>T', 291: 'A>G', 316: 'G>A', 331: 'G>A', 332: 'T>A', 367: 'T>C', 369: 'T>G'}, 'indels': {}, 'Ns': {112: 'T > N', 119: 'G > N', 229: 'A > N', 264: 'G > N', 299: 'G > N', 320: 'A > N', 323: 'C > N'}, 'v_trim_5': 0, 'v_trim_3': 1, 'd_trim_5': 12, 'd_trim_3': 10, 'j_trim_5': 8, 'j_trim_3': 0, 'c_trim_3': 39, 'productive': True, 'stop_codon': False, 'vj_in_frame': True, 'note': '', 'corruption_event': 'no-corruption', 'corruption_add_amount': 0, 'corruption_remove_amount': 0, 'corruption_removed_section': '', 'corruption_added_section': ''}\n"
     ]
    }
   ],
   "source": [
    "# Customize augmentation arguments\n",
    "\n",
    "custom_mutation_model = S5F(min_mutation_rate=0.1,max_mutation_rate=0.5)\n",
    "custom_insert_indel_step = InsertIndels(indel_probability = 0.05,max_indels = 15,insertion_proba=0.7,deletion_proba=0.3)\n",
    "\n",
    "pipeline = AugmentationPipeline([\n",
    "    SimulateSequence(mutation_model = custom_mutation_model,productive = True), # notice here in the simulate sequence step we used the custom mutation model we defined\n",
    "    FixVPositionAfterTrimmingIndexAmbiguity(),\n",
    "    FixDPositionAfterTrimmingIndexAmbiguity(),\n",
    "    FixJPositionAfterTrimmingIndexAmbiguity(),\n",
    "    CorrectForVEndCut(),\n",
    "    CorrectForDTrims(),\n",
    "    CorruptSequenceBeginning(corruption_probability = 0.7,corrupt_events_proba = [0.4,0.4,0.2],max_sequence_length = 576,nucleotide_add_coefficient = 210,\n",
    "                             nucleotide_remove_coefficient = 310,nucleotide_add_after_remove_coefficient = 50,random_sequence_add_proba = 1,\n",
    "                             single_base_stream_proba = 0,duplicate_leading_proba = 0,random_allele_proba = 0),\n",
    "    InsertNs(n_ratio = 0.02,proba = 0.5),\n",
    "    ShortDValidation(short_d_length= 5),\n",
    "    custom_insert_indel_step, # notice here we used the custom insert indel step we have created above\n",
    "    DistillMutationRate()\n",
    "    ])\n",
    "\n",
    "\n",
    "\n",
    "# Simulate a heavy chain sequence\n",
    "heavy_sequence = pipeline.execute()\n",
    "\n",
    "# Print the simulated heavy chain sequence\n",
    "print(\"Customized Simulated Heavy Chain Sequence:\", heavy_sequence.get_dict())\n"
   ]
  },
  {
   "cell_type": "markdown",
   "id": "3e9677c49f998f6e",
   "metadata": {
    "collapsed": false
   },
   "source": [
    "## Generating Naïve Sequences\n",
    "\n",
    "In immunogenetics, a naïve sequence refers to an antibody sequence that has not undergone the process of somatic hypermutation. GenAIRR allows you to simulate such naïve sequences using the `HeavyChainSequence` class. Let's start by generating a naïve heavy chain sequence.\n"
   ]
  },
  {
   "cell_type": "code",
   "execution_count": 5,
   "id": "16de2d6c937f79e",
   "metadata": {
    "ExecuteTime": {
     "end_time": "2025-05-21T13:16:37.540385Z",
     "start_time": "2025-05-21T13:16:37.521236Z"
    },
    "collapsed": false
   },
   "outputs": [
    {
     "name": "stdout",
     "output_type": "stream",
     "text": [
      "Naïve Heavy Chain Sequence: 0|-----------------------------------------------------------------------V(IGHVF10-G42*05)|298336|----------J(IGHJ4*02)|378|378|---------C(IGHG1*08)|416\n",
      "Ungapped Sequence: \n",
      "GAAGTGCAGCTGGTGGAGTCTGGGGGAGGCGTGGTACAGCCTGGGGGGTCCCTGAGACTCTCCTGTGCAGCCTCTGGATTCACCTTTGATGATTATGCCATGCACTGGGTCCGTCAAGCTCCAGGGAAGGGTCTGGAGTGGGTCTCTCTTATTAGTGGGGATGGTGGTAGCACATACTATGCAGACTCTGTGAAGGGCCGATTCACCATCTCCAGAGACAACAGCAAAAACTCCCTGTATCTGCAAATGAACAGTCTGAGAACTGAGGACACCGCCTTGTATTACTGTGCAAAAGATATCGTAGGGGACTCAATATGGTCTGTGAAGTACAGGCAATTGACTACTGGGGCCAGGGAACCCTGGTCACCGTCTCCTCAGGCCTCCACCAAGGGCCCATCGGTCTTCCCCCTGGCACC\n"
     ]
    }
   ],
   "source": [
    "from GenAIRR.sequence import HeavyChainSequence\n",
    "\n",
    "# Create a naive heavy chain sequence\n",
    "naive_heavy_sequence = HeavyChainSequence.create_random(data_config_builtin)\n",
    "\n",
    "# Access the generated naive sequence\n",
    "naive_sequence = naive_heavy_sequence\n",
    "\n",
    "print(\"Naïve Heavy Chain Sequence:\", naive_sequence)\n",
    "print('Ungapped Sequence: ')\n",
    "print(naive_sequence.ungapped_seq)\n"
   ]
  },
  {
   "cell_type": "markdown",
   "id": "fc1b9914d8e8366a",
   "metadata": {
    "collapsed": false
   },
   "source": [
    "## Applying Mutations\n",
    "\n",
    "To mimic the natural diversity and evolution of immune sequences, GenAIRR supports the simulation of mutations through various models. Here, we demonstrate how to apply mutations to a naïve sequence using the `S5F` and `Uniform` mutation models from the mutations submodule.\n"
   ]
  },
  {
   "cell_type": "markdown",
   "id": "fe2c0067f2ec7dc3",
   "metadata": {
    "collapsed": false
   },
   "source": [
    "### Using the S5F Mutation Model\n",
    "\n",
    "The `S5F` model is a sophisticated mutation model that considers context-dependent mutation probabilities. It's particularly useful for simulating realistic somatic hypermutations.\n"
   ]
  },
  {
   "cell_type": "code",
   "execution_count": 6,
   "id": "d6e8d59addc75159",
   "metadata": {
    "ExecuteTime": {
     "end_time": "2025-05-21T13:16:38.504867Z",
     "start_time": "2025-05-21T13:16:38.449915Z"
    },
    "collapsed": false
   },
   "outputs": [
    {
     "name": "stdout",
     "output_type": "stream",
     "text": [
      "S5F Mutated Heavy Chain Sequence: GAAGCGCAGCTGGTGAAGTCTGGGGGAGGCGTGGTACAGCCTGGGGGGTCCCTGAGACTCTCCTGTGCAGCCTCTGGATTCACCTTTGATAATTATGCCATACACTGGGTCCGTCAAGCTCCAGGGAAGGGTCTGGAGTGGGTCTCTCTTTTTACTGGGGATGTTGGTAGAACATACTATGCAGACTCTGCGAAGGGCCGATTCACCATCTCCAGAGACAACAGAAAAAACTCCCTGTATCTGCAAATGAACAGTGTGAGAACTGAGGACAGCGCCTTGTATTACTGTGCAAAAGATATCGTAGGGGACTCACTATGGTCTGTGAAGTACAGGCGATTGACTACTGGGGCCAGGGAACCCTGGTCACCGTCTCCTCAGGCCTCCACGAAGGGCCCATCGGTCTTCCCCCTGGCACC\n",
      "S5F Mutation Details: {312: 'A>C', 154: 'G>C', 224: 'C>A', 150: 'A>T', 90: 'G>A', 255: 'C>G', 170: 'C>A', 101: 'G>A', 271: 'C>G', 190: 'T>C', 163: 'G>T', 4: 'T>C', 15: 'G>A', 334: 'A>G', 386: 'C>G'}\n",
      "S5F Mutation Rate: 0.036575814563128965\n"
     ]
    }
   ],
   "source": [
    "from GenAIRR.mutation import S5F\n",
    "\n",
    "# Initialize the S5F mutation model with custom mutation rates\n",
    "s5f_model = S5F(min_mutation_rate=0.01, max_mutation_rate=0.05)\n",
    "\n",
    "# Apply mutations to the naive sequence using the S5F model\n",
    "s5f_mutated_sequence, mutations, mutation_rate = s5f_model.apply_mutation(naive_heavy_sequence)\n",
    "\n",
    "print(\"S5F Mutated Heavy Chain Sequence:\", s5f_mutated_sequence)\n",
    "print(\"S5F Mutation Details:\", mutations)\n",
    "print(\"S5F Mutation Rate:\", mutation_rate)\n"
   ]
  },
  {
   "cell_type": "markdown",
   "id": "2be1586a5cef8f37",
   "metadata": {
    "collapsed": false
   },
   "source": [
    "### Using the Uniform Mutation Model\n",
    "\n",
    "The `Uniform` mutation model applies mutations at a uniform rate across the sequence, providing a simpler alternative to the context-dependent models.\n"
   ]
  },
  {
   "cell_type": "code",
   "execution_count": 7,
   "id": "8c077e1172ba16e4",
   "metadata": {
    "ExecuteTime": {
     "end_time": "2025-05-21T13:16:39.125411Z",
     "start_time": "2025-05-21T13:16:39.112860Z"
    },
    "collapsed": false
   },
   "outputs": [
    {
     "name": "stdout",
     "output_type": "stream",
     "text": [
      "Uniform Mutated Heavy Chain Sequence: GAAGTGCAGCTGGTGGAGTCTGGGGGAGGCGTGGTTCATCCTGGGGGGTCGCTGAGACTCTCCTGTGCAGCCTCTGGATTCACCTTTGATAATTATGCCACGCACTGGGTCAGTCAAGCTCCGGGGAAGTGTCTGGAGTGGGTCTCTCTTATTAGTGGGGATTGTCGTAGCACATACTATGCAGAGTCTGTGAAGGGCCGATTCACCATCTCCCGAGACAACAGCAAAAACTCCCTGTATCTGCATATGTACAGTCTGAGATCTGAGGACACCGCGTTGTATCACTGTGCAAAAGATATCGTAGGGGACTCAATATGGTCTGTGAAGTACAGGCAATTGACTTCTGGGGCTAGGGAACCCTGGTCACTGTCTCCTCAGGCCTCCACCAAGGGCCCATCGGTCTTCCCCCTGGCACC\n",
      "Uniform Mutation Details: {38: 'G>T', 165: 'G>C', 111: 'C>A', 213: 'A>C', 185: 'C>G', 282: 'T>C', 245: 'A>T', 342: 'A>T', 122: 'A>G', 100: 'T>C', 249: 'A>T', 275: 'C>G', 261: 'A>T', 162: 'G>T', 90: 'G>A', 367: 'C>T', 350: 'C>T', 50: 'C>G', 35: 'A>T', 129: 'G>T'}\n",
      "Uniform Mutation Rate: 0.04850801933682698\n"
     ]
    }
   ],
   "source": [
    "from GenAIRR.mutation import Uniform\n",
    "\n",
    "# Initialize the Uniform mutation model with custom mutation rates\n",
    "uniform_model = Uniform(min_mutation_rate=0.01, max_mutation_rate=0.05)\n",
    "\n",
    "# Apply mutations to the naive sequence using the Uniform model\n",
    "uniform_mutated_sequence, mutations, mutation_rate = uniform_model.apply_mutation(naive_heavy_sequence)\n",
    "\n",
    "print(\"Uniform Mutated Heavy Chain Sequence:\", uniform_mutated_sequence)\n",
    "print(\"Uniform Mutation Details:\", mutations)\n",
    "print(\"Uniform Mutation Rate:\", mutation_rate)\n"
   ]
  },
  {
   "cell_type": "markdown",
   "id": "4441a709b198ed43",
   "metadata": {
    "collapsed": false
   },
   "source": [
    "## Common Use Cases\n",
    "\n",
    "GenAIRR is a versatile tool designed to meet a broad range of needs in immunogenetics research. This section provides examples and explanations for some common use cases, including generating multiple sequences, simulating specific allele combinations, and more.\n"
   ]
  },
  {
   "cell_type": "markdown",
   "id": "9fda30883909be54",
   "metadata": {
    "collapsed": false
   },
   "source": [
    "### Generating Many Sequences\n",
    "\n",
    "One common requirement is to generate a large dataset of synthetic AIRR sequences for analysis or benchmarking. Below is an example of how to generate multiple sequences using GenAIRR in a loop.\n"
   ]
  },
  {
   "cell_type": "code",
   "execution_count": 8,
   "id": "8e11eb63c589589c",
   "metadata": {
    "ExecuteTime": {
     "end_time": "2025-05-21T13:16:40.210251Z",
     "start_time": "2025-05-21T13:16:40.142823Z"
    },
    "collapsed": false
   },
   "outputs": [
    {
     "name": "stdout",
     "output_type": "stream",
     "text": [
      "Heavy Chain Sequence 1: {'sequence': 'TGACGGAATAATCCCTTTCGAGTGGGTTGAAGCCCAGGGAAGAGATCAGACGATTCATTGTTAACAGCTAAGGGTGTGGCGNTTGTGTGGGGGACACGCGATGNCGTTTGGGAGAGGCCNGATCTGGCCGGGAGAGTCCCAGCGAGTCTCTGGTGCAGCTTCTCACTTGACCTTGCGAGGTCTCATATCAGACTGGGTCCNCCGGACTCCNGANAAGGGACTGGCCGGAGTCTCGTCCCGANTTAGGCCAAGCGGTCGCAAGTGGTGCACAAAGGCGCTCACGGGCCCCCTCGTCGTTTCCATAGACTCGGTCAGACGGTCTCTGNCTTCGCAGTTGGAGAGGCGGACGGGCGATGACACAAGTGGNCCGTAATTCTCGTGACTGGGAATGTAACGACGCGGGGCTGAGCCCGACATATGATGTGCTAGGGGCGTCGGGGTCAACGGGACGTCGGACAATGGCCCGCGAGGCCTGCGTCCCGGGCCCGTC', 'v_call': ['IGHVF10-G51*05'], 'd_call': ['IGHD5-5*01', 'IGHD5-18*01'], 'j_call': ['IGHJ6*03'], 'c_call': ['IGHG2*12'], 'v_sequence_start': 88, 'v_sequence_end': 384, 'd_sequence_start': 400, 'd_sequence_end': 407, 'j_sequence_start': 413, 'j_sequence_end': 470, 'v_germline_start': 0, 'v_germline_end': 296, 'd_germline_start': 2, 'd_germline_end': 9, 'j_germline_start': 6, 'j_germline_end': 63, 'junction_sequence_start': 373, 'junction_sequence_end': 439, 'mutation_rate': 0.3408163265306122, 'mutations': {89: 'A>G', 92: 'T>A>G', 93: 'G>A', 96: 'G>A>C', 97: 'C>G', 98: 'T>C', 100: 'G>A', 103: 'G>C', 104: 'A>C', 107: 'C>A>T', 112: 'G>A', 119: 'T>G', 121: 'G>A>T>C>A', 124: 'A>T', 125: 'A>C>G', 129: 'T>G', 132: 'G>A', 134: 'G>A', 140: 'T>A', 142: 'A>C', 145: 'C>G', 150: 'C>T', 151: 'T>G', 159: 'C>T', 163: 'G>C', 164: 'G>A', 165: 'A>T>G>C', 168: 'C>G', 174: 'C>T>G', 175: 'A>C', 177: 'T>A', 178: 'A>G', 180: 'C>A>G>T', 181: 'T>A>C', 182: 'A>T', 183: 'T>C', 185: 'G>T', 186: 'C>A', 187: 'A>T', 188: 'T>C', 189: 'G>A', 190: 'A>G', 203: 'A>G', 205: 'G>C>A', 212: 'G>A', 213: 'G>A>T', 219: 'G>A', 224: 'A>C', 225: 'G>A>C', 226: 'T>G', 228: 'G>A', 234: 'A>G', 238: 'A>T>G>C', 239: 'T>A>G', 240: 'T>C>A', 242: 'G>A>C>T', 246: 'T>G', 247: 'A>C', 248: 'G>C', 249: 'T>C>A', 252: 'T>C', 253: 'A>G', 256: 'T>C', 257: 'A>T>G', 260: 'T>C>A', 261: 'A>G', 263: 'A>C>G', 264: 'C>G', 266: 'A>G', 268: 'G>A', 271: 'G>A', 273: 'C>T>G', 274: 'T>G', 276: 'A>G', 277: 'G>A>C', 279: 'G>C', 281: 'A>C', 287: 'G>C', 288: 'A>C', 289: 'T>C', 292: 'A>G', 293: 'C>T', 295: 'A>G', 297: 'C>T', 302: 'G>T', 307: 'A>T', 308: 'A>G>T>C', 309: 'C>A>G', 311: 'C>T', 314: 'A>G', 315: 'G>A', 316: 'A>C', 317: 'A>G', 318: 'C>G', 321: 'A>T', 326: 'A>T>C', 328: 'C>T', 329: 'T>C', 333: 'A>G', 334: 'A>C>T', 337: 'A>G', 339: 'C>G', 342: 'C>G', 344: 'T>G', 347: 'G>C', 348: 'A>G', 350: 'C>G', 354: 'G>C>A>T', 361: 'G>A', 362: 'C>G', 365: 'T>G', 366: 'G>A', 367: 'T>C', 368: 'A>C', 369: 'T>G', 372: 'C>A', 374: 'G>T', 375: 'T>A>C', 376: 'G>T', 379: 'A>C>T', 382: 'G>C', 383: 'A>C>T', 402: 'A>G', 403: 'T>G', 404: 'A>C', 405: 'C>T', 406: 'A>G', 415: 'T>A', 416: 'A>G>T', 417: 'C>G>A', 419: 'A>G', 420: 'C>G>A', 422: 'A>G', 423: 'C>T>G>T', 424: 'T>G', 425: 'A>C', 426: 'C>A>T', 428: 'T>G', 431: 'A>G', 436: 'T>G', 440: 'G>T', 444: 'A>T>C', 450: 'C>G', 451: 'A>G>T', 455: 'T>A', 458: 'C>A', 459: 'C>T', 461: 'T>G', 463: 'T>C', 465: 'C>G', 466: 'T>C', 467: 'C>G', 474: 'C>G>A>G', 476: 'A>G', 477: 'C>T', 479: 'A>T>C', 480: 'A>C', 487: 'A>G'}, 'indels': {}, 'Ns': {81: 'A > N', 103: 'C > N', 119: 'G > N', 200: 'G > N', 210: 'A > N', 213: 'T > N', 241: 'A > N', 325: 'T > N', 366: 'A > N'}, 'v_trim_5': 0, 'v_trim_3': 0, 'd_trim_5': 2, 'd_trim_3': 11, 'j_trim_5': 6, 'j_trim_3': 0, 'c_trim_3': 20, 'productive': False, 'stop_codon': True, 'vj_in_frame': False, 'note': 'Stop codon present.', 'corruption_event': 'add', 'corruption_add_amount': 88, 'corruption_remove_amount': 0, 'corruption_removed_section': '', 'corruption_added_section': 'TGACGGAATAATCCCTTTCGAGTGGGTTGAAGCCCAGGGAAGAGATCAGACGATTCATTGTTAACAGCTAAGGGTGTGGCGATTGTGT'}\n",
      "Heavy Chain Sequence 2: {'sequence': 'GATGACGTCAAGAGGTCCCCAGACAAGCGCTTCAGTGAACGTCAGAAGGAGCACCATTGAGGGACGCGATCAAATATAAACGAACTCTACGGGACGCACTCAGCATGGTNCGGCACAGGCATAAAACGCCAGCCTTTAGCGACTTGAGANGCCTGAACCGTGAGGACAGTTCNGTGTTCCGGACGGCGACAGGGTAACCTGAACTTTAGCCGTGGCTTAACCACGACGTCTGGGGCCGGGGGGTCGCCTTNACCGCGCTCTCAGNCTCATTCCACGGGCCCGTCA', 'v_call': ['IGHVF6-G20*02'], 'd_call': ['IGHD3-3*01'], 'j_call': ['IGHJ6*02'], 'c_call': ['IGHG3*26'], 'v_sequence_start': 12, 'v_sequence_end': 191, 'd_sequence_start': 196, 'd_sequence_end': 215, 'j_sequence_start': 218, 'j_sequence_end': 264, 'v_germline_start': 115, 'v_germline_end': 294, 'd_germline_start': 2, 'd_germline_end': 21, 'j_germline_start': 17, 'j_germline_end': 63, 'junction_sequence_start': 182, 'junction_sequence_end': 233, 'mutation_rate': 0.3929824561403509, 'mutations': {32: 'G>T>C', 37: 'G>C>A', 39: 'T>C', 41: 'G>T', 42: 'G>A>C', 44: 'T>G', 45: 'G>A', 46: 'G>A', 47: 'A>G', 48: 'T>G', 49: 'C>A', 50: 'A>G', 55: 'T>A', 58: 'C>T>G', 60: 'A>G', 61: 'T>A>G', 63: 'G>A', 64: 'T>C', 65: 'A>G', 66: 'A>G>C', 67: 'C>T>G', 69: 'C>T', 73: 'C>A>G>A', 76: 'C>T', 77: 'G>A', 78: 'C>A', 81: 'A>G', 82: 'G>A', 84: 'A>T>C', 85: 'A>G>T', 86: 'T>C', 88: 'C>A', 90: 'A>G', 95: 'A>T>G', 96: 'G>C', 98: 'G>C', 102: 'C>G', 106: 'T>C>G', 107: 'A>G', 108: 'C>G>T', 110: 'A>C', 113: 'G>C', 119: 'T>C', 120: 'C>A', 123: 'T>A', 124: 'G>A', 126: 'G>C', 127: 'C>A>G', 128: 'A>C', 135: 'A>T', 136: 'C>T', 138: 'T>G', 139: 'G>C', 142: 'G>A>C', 143: 'C>T', 148: 'C>A', 156: 'G>A', 157: 'A>C', 158: 'T>C', 159: 'C>G', 168: 'C>G', 169: 'A>C>T', 170: 'G>A>T', 173: 'A>G>C>G', 177: 'A>T', 178: 'T>C>G>C>G>C', 179: 'T>C', 180: 'A>G', 181: 'C>G', 182: 'T>A', 183: 'G>C', 184: 'T>G', 187: 'A>G', 189: 'G>C', 197: 'T>C', 198: 'T>C', 199: 'A>T', 200: 'C>G', 201: 'G>C>A', 203: 'T>C', 207: 'T>A', 209: 'G>C', 210: 'A>C', 219: 'G>A', 220: 'T>C', 221: 'A>C', 222: 'T>A', 223: 'G>C', 237: 'A>G', 238: 'A>T>G', 242: 'A>G', 243: 'C>T', 245: 'A>G', 247: 'G>A>C', 248: 'G>T', 255: 'T>G>C', 256: 'C>G', 257: 'T>G>C', 258: 'C>T', 264: 'G>C', 267: 'T>C', 268: 'C>A', 269: 'C>T', 270: 'A>T', 274: 'A>C', 281: 'A>C>G', 284: 'G>A'}, 'indels': {}, 'Ns': {109: 'C > N', 149: 'A > N', 172: 'C > N', 250: 'C > N', 264: 'C > N'}, 'v_trim_5': 0, 'v_trim_3': 2, 'd_trim_5': 2, 'd_trim_3': 10, 'j_trim_5': 17, 'j_trim_3': 0, 'c_trim_3': 19, 'productive': False, 'stop_codon': True, 'vj_in_frame': False, 'note': 'Stop codon present.', 'corruption_event': 'remove_before_add', 'corruption_add_amount': 15, 'corruption_remove_amount': 115, 'corruption_removed_section': 'GACAACCACTTGGCGCAGTGCCGGGCTGTGGATAAAGTGCCTGGACGGTCGGGGAAGAATTTTTACACGCCCTTCATCTGTTAGTTCACATCTCTTAATGTGATACGCGCGCGGCCGG', 'corruption_added_section': 'GATGACGTCAAGAGG'}\n",
      "Heavy Chain Sequence 3: {'sequence': 'GCTCTAAACAGTAATTATGCCGTCCGTNCACCAGTCCCCAGGCAAGGGGCTGGGACGTATTGGGGATCTCCATCCTGTAGGGAGGANCCTATCTAATCCGTCCCTCNAGACTCGAGACATCTTGTCTATAGTCGCGTCCAGGAGAAACTTGTCCCTGGGGTTGACCTGCCTGACCCCCACGGACACGGNAGTCATTTNTTCAGCGAGACCGGGAACCTCGCGCGCACTNGGTCTCGCTGAACATCATGACGCCGGCGTCTGGGGTCACGGGACCCAGGTCACCGTCCCTCCTGGCCTCGACACCGAGCCCATCCGGCTT', 'v_call': ['IGHVF3-G10*03'], 'd_call': ['IGHD3-22*01'], 'j_call': ['IGHJ6*02'], 'c_call': ['IGHE*04'], 'v_sequence_start': 25, 'v_sequence_end': 208, 'd_sequence_start': 223, 'd_sequence_end': 232, 'j_sequence_start': 233, 'j_sequence_end': 293, 'v_germline_start': 114, 'v_germline_end': 297, 'd_germline_start': 13, 'd_germline_end': 22, 'j_germline_start': 3, 'j_germline_end': 63, 'junction_sequence_start': 199, 'junction_sequence_end': 262, 'mutation_rate': 0.29153605015673983, 'mutations': {29: 'G>A', 34: 'C>T', 42: 'G>A>C', 53: 'A>G', 54: 'G>A', 55: 'T>C', 57: 'G>A>T', 64: 'A>G', 65: 'G>A', 67: 'A>C', 70: 'T>C', 73: 'T>G>C', 74: 'A>C', 76: 'A>T>G', 77: 'G>T', 78: 'T>A', 84: 'C>G', 86: 'C>G>T', 88: 'T>C', 89: 'A>T', 90: 'C>A', 92: 'A>C', 93: 'C>T', 96: 'C>T', 106: 'A>C', 110: 'G>C', 116: 'T>A', 119: 'C>T', 121: 'A>T', 123: 'A>G', 126: 'A>T', 127: 'G>A', 131: 'A>G>T', 133: 'A>G', 140: 'A>G', 143: 'A>G', 144: 'C>A', 145: 'C>A', 147: 'G>C', 150: 'C>T>G', 157: 'A>G', 158: 'A>G', 160: 'C>T', 164: 'G>C', 167: 'C>G', 168: 'T>C', 169: 'G>C', 175: 'G>C', 178: 'G>A', 189: 'C>A', 192: 'G>C', 193: 'T>A', 194: 'A>T', 198: 'C>T', 200: 'G>C', 201: 'T>A', 224: 'G>C', 225: 'T>C>A', 226: 'A>C', 227: 'G>T', 231: 'G>T', 235: 'T>G', 236: 'A>C', 237: 'C>T', 238: 'T>A>G', 240: 'C>G>A', 241: 'T>C', 243: 'C>T', 244: 'T>C', 246: 'C>T', 248: 'G>A', 249: 'T>C', 250: 'A>G', 251: 'T>G>A>C', 252: 'G>A>C', 254: 'A>G', 264: 'C>T', 267: 'A>C', 274: 'A>C', 275: 'C>A', 286: 'T>C', 288: 'C>T', 289: 'T>C', 291: 'A>T', 298: 'C>G', 303: 'A>C', 315: 'T>G'}, 'indels': {}, 'Ns': {27: 'C > N', 86: 'T > N', 106: 'C > N', 188: 'C > N', 197: 'A > N', 228: 'T > N'}, 'v_trim_5': 0, 'v_trim_3': 2, 'd_trim_5': 13, 'd_trim_3': 9, 'j_trim_5': 3, 'j_trim_3': 0, 'c_trim_3': 14, 'productive': False, 'stop_codon': False, 'vj_in_frame': True, 'note': 'V second C not present.', 'corruption_event': 'remove_before_add', 'corruption_add_amount': 25, 'corruption_remove_amount': 114, 'corruption_removed_section': 'TAATTTCATCTGCAGGGGTCGGGCCCAGGGCTAGGGAAGCCTCTCGAGACCAAGTTCCGCACCGACTCTGTCTCCGGCGGCTCCGTAAGCTCTCTGACTGTGTGATGGGCCTGG', 'corruption_added_section': 'GCTCTAAACAGTAATTATGCCGTCC'}\n",
      "Heavy Chain Sequence 4: {'sequence': 'GAGGTGCAGTTGATGGAGTCGGGGAGTGACTTGGTCCGGCCGGCAGGGTACCGAGACTCTTCCGCGCGGACTGGGGACTAACCCTTATCAGGACTTGAATGGATTGGGTCCGCCAGCTTCCAGGGAAGGGACTGGGAGTGGCGGGCCAACCTCGAACAAGATGGAAATGAGAAATGTTGATATGGACTCTGCGAAGGGACCCTTCACGATCTCCAGAGACCACGCCTATAAATCACTGTGTCTACAGTTGAACGGCCTGAGAACCGGAGACACGGCCCGCTGTTACTGTGCGAGAGACATCGCGAAGTCCGCGGGCATCAGGACTATGTGGGGCCAAGGGACTTGGTCACCGGCTTACGTCCGACCTCGATCAAGGGCCCACCGGTCTCCC', 'v_call': ['IGHVF10-G49*04'], 'd_call': ['IGHD5-18*01', 'IGHD5-5*01'], 'j_call': ['IGHJ3*02'], 'c_call': ['IGHG3*25'], 'v_sequence_start': 0, 'v_sequence_end': 297, 'd_sequence_start': 313, 'd_sequence_end': 321, 'j_sequence_start': 324, 'j_sequence_end': 363, 'v_germline_start': 0, 'v_germline_end': 296, 'd_germline_start': 2, 'd_germline_end': 10, 'j_germline_start': 12, 'j_germline_end': 50, 'junction_sequence_start': 286, 'junction_sequence_end': 331, 'mutation_rate': 0.20460358056265984, 'mutations': {9: 'C>T', 12: 'G>A', 20: 'T>G', 24: 'G>A', 26: 'A>T', 28: 'G>A', 37: 'A>G', 41: 'T>G', 43: 'G>C', 44: 'G>A', 49: 'C>A', 60: 'C>T', 62: 'T>C', 64: 'T>C', 67: 'A>G', 69: 'C>A', 72: 'C>G', 73: 'T>A>G', 77: 'T>C', 79: 'C>A', 83: 'T>C', 87: 'G>C>T', 88: 'T>C', 91: 'C>G', 92: 'T>A', 93: 'A>C', 97: 'G>A', 101: 'A>G', 102: 'G>A', 103: 'C>T', 116: 'G>C', 117: 'C>T', 130: 'G>A', 141: 'G>C', 142: 'T>G', 150: 'A>C', 152: 'A>C', 153: 'A>G', 155: 'G>A', 166: 'G>A', 175: 'A>G', 176: 'C>T', 181: 'G>A', 191: 'T>C', 198: 'C>A', 200: 'G>C', 201: 'A>C', 207: 'C>G', 220: 'A>C', 226: 'A>T', 228: 'G>A>T', 231: 'C>T>A', 239: 'A>G', 243: 'G>A', 246: 'A>G', 247: 'A>C>T', 253: 'A>G', 262: 'G>A', 266: 'A>G', 267: 'G>A', 277: 'G>C', 278: 'T>G', 279: 'G>C', 281: 'A>G', 296: 'T>A', 315: 'A>C', 316: 'T>A>G>A', 317: 'A>T', 327: 'C>A>G', 342: 'A>T', 353: 'T>C', 354: 'C>T', 358: 'T>C>G', 361: 'A>C', 363: 'G>A', 365: 'T>C', 368: 'C>G', 370: 'C>T', 381: 'T>C', 388: 'T>C'}, 'indels': {178: 'I < G', 135: 'I < G', 351: 'I < G', 356: 'I < A', 51: 'D > T', 342: 'D > A'}, 'Ns': {}, 'v_trim_5': 0, 'v_trim_3': 0, 'd_trim_5': 2, 'd_trim_3': 10, 'j_trim_5': 12, 'j_trim_3': 0, 'c_trim_3': 12, 'productive': False, 'stop_codon': True, 'vj_in_frame': False, 'note': 'Stop codon present.', 'corruption_event': 'no-corruption', 'corruption_add_amount': 0, 'corruption_remove_amount': 0, 'corruption_removed_section': '', 'corruption_added_section': ''}\n",
      "Heavy Chain Sequence 5: {'sequence': 'GGGCCTGGGAGTGGGTCTCATCCGATAGTGATGGAAGCACGCAGTGGACAGACTACAGAGAAGGCCAGATAACCATTCCAAGAGACCCGTCCAAGATCCCCTGGCTTCCTTAAATGAACAACCTGACAATTGAGGTCACGGCCAAAAATCTCTGTGCCCGATATCCACCCGAACAGAGGATTTATATGGACGTCTGGGACAAAGGGACCACGGTCACCATCGCCTCAGGCCTGCACAAAGGGCC', 'v_call': ['IGHVF10-G35*02'], 'd_call': ['IGHD1-14*01'], 'j_call': ['IGHJ6*03'], 'c_call': ['IGHG1*13'], 'v_sequence_start': 0, 'v_sequence_end': 164, 'd_sequence_start': 166, 'd_sequence_end': 174, 'j_sequence_start': 180, 'j_sequence_end': 228, 'v_germline_start': 128, 'v_germline_end': 291, 'd_germline_start': 6, 'd_germline_end': 14, 'j_germline_start': 15, 'j_germline_end': 63, 'junction_sequence_start': 152, 'junction_sequence_end': 197, 'mutation_rate': 0.19262295081967212, 'mutations': {3: 'T>C', 23: 'A>G', 24: 'T>A', 30: 'G>A', 34: 'T>A', 40: 'A>G', 41: 'T>C', 43: 'C>G', 45: 'A>G', 46: 'C>G', 47: 'G>A', 64: 'G>C', 70: 'C>A', 76: 'C>A>T', 77: 'T>C', 79: 'C>A', 86: 'A>C', 87: 'A>C', 88: 'T>C>A>G', 96: 'A>T', 98: 'A>C', 100: 'G>C', 101: 'C>T', 102: 'T>G', 104: 'T>C', 105: 'A>T', 108: 'T>C', 110: 'C>T', 126: 'G>C', 128: 'G>A', 129: 'C>T', 135: 'G>T', 143: 'G>A', 144: 'T>A', 145: 'G>A', 146: 'T>A', 149: 'T>C', 150: 'A>T', 158: 'A>C', 169: 'G>C', 181: 'C>T', 184: 'C>T', 198: 'G>A', 218: 'G>A', 221: 'T>G', 232: 'C>G', 236: 'C>A'}, 'indels': {54: 'I < A', 69: 'D > T', 53: 'D > C', 7: 'I < G', 58: 'I < A'}, 'Ns': {}, 'v_trim_5': 0, 'v_trim_3': 1, 'd_trim_5': 6, 'd_trim_3': 3, 'j_trim_5': 15, 'j_trim_3': 0, 'c_trim_3': 24, 'productive': False, 'stop_codon': True, 'vj_in_frame': False, 'note': 'Stop codon present.Stop codon present.', 'corruption_event': 'remove', 'corruption_add_amount': 0, 'corruption_remove_amount': 128, 'corruption_removed_section': 'GGGGTGCACCTGGCGGTGTCTGGGGCAGAGTTGGTTCAGCCTGGAGGGTCCCTGAGAACGTCCTTTGCAGCCTCTGGATTCACCGTCGCCAGAAGTGAGATGACCTTGAACCACCAGGGTCCAGAGAA', 'corruption_added_section': ''}\n"
     ]
    }
   ],
   "source": [
    "num_sequences = 5  # Number of sequences to generate\n",
    "\n",
    "heavy_sequences = []\n",
    "for _ in range(num_sequences):\n",
    "    # Simulate a heavy chain sequence\n",
    "    heavy_sequence = pipeline.execute().get_dict()\n",
    "    heavy_sequences.append(heavy_sequence)\n",
    "\n",
    "# Display the generated sequences\n",
    "for i, seq in enumerate(heavy_sequences, start=1):\n",
    "    print(f\"Heavy Chain Sequence {i}: {seq}\")\n"
   ]
  },
  {
   "cell_type": "code",
   "execution_count": 9,
   "id": "c6e596c6d66fe79",
   "metadata": {
    "ExecuteTime": {
     "end_time": "2025-05-21T13:16:40.990141Z",
     "start_time": "2025-05-21T13:16:40.964150Z"
    },
    "collapsed": false
   },
   "outputs": [
    {
     "data": {
      "text/html": [
       "<div>\n",
       "<style scoped>\n",
       "    .dataframe tbody tr th:only-of-type {\n",
       "        vertical-align: middle;\n",
       "    }\n",
       "\n",
       "    .dataframe tbody tr th {\n",
       "        vertical-align: top;\n",
       "    }\n",
       "\n",
       "    .dataframe thead th {\n",
       "        text-align: right;\n",
       "    }\n",
       "</style>\n",
       "<table border=\"1\" class=\"dataframe\">\n",
       "  <thead>\n",
       "    <tr style=\"text-align: right;\">\n",
       "      <th></th>\n",
       "      <th>sequence</th>\n",
       "      <th>v_call</th>\n",
       "      <th>d_call</th>\n",
       "      <th>j_call</th>\n",
       "      <th>c_call</th>\n",
       "      <th>v_sequence_start</th>\n",
       "      <th>v_sequence_end</th>\n",
       "      <th>d_sequence_start</th>\n",
       "      <th>d_sequence_end</th>\n",
       "      <th>j_sequence_start</th>\n",
       "      <th>...</th>\n",
       "      <th>c_trim_3</th>\n",
       "      <th>productive</th>\n",
       "      <th>stop_codon</th>\n",
       "      <th>vj_in_frame</th>\n",
       "      <th>note</th>\n",
       "      <th>corruption_event</th>\n",
       "      <th>corruption_add_amount</th>\n",
       "      <th>corruption_remove_amount</th>\n",
       "      <th>corruption_removed_section</th>\n",
       "      <th>corruption_added_section</th>\n",
       "    </tr>\n",
       "  </thead>\n",
       "  <tbody>\n",
       "    <tr>\n",
       "      <th>0</th>\n",
       "      <td>TGACGGAATAATCCCTTTCGAGTGGGTTGAAGCCCAGGGAAGAGAT...</td>\n",
       "      <td>[IGHVF10-G51*05]</td>\n",
       "      <td>[IGHD5-5*01, IGHD5-18*01]</td>\n",
       "      <td>[IGHJ6*03]</td>\n",
       "      <td>[IGHG2*12]</td>\n",
       "      <td>88</td>\n",
       "      <td>384</td>\n",
       "      <td>400</td>\n",
       "      <td>407</td>\n",
       "      <td>413</td>\n",
       "      <td>...</td>\n",
       "      <td>20</td>\n",
       "      <td>False</td>\n",
       "      <td>True</td>\n",
       "      <td>False</td>\n",
       "      <td>Stop codon present.</td>\n",
       "      <td>add</td>\n",
       "      <td>88</td>\n",
       "      <td>0</td>\n",
       "      <td></td>\n",
       "      <td>TGACGGAATAATCCCTTTCGAGTGGGTTGAAGCCCAGGGAAGAGAT...</td>\n",
       "    </tr>\n",
       "    <tr>\n",
       "      <th>1</th>\n",
       "      <td>GATGACGTCAAGAGGTCCCCAGACAAGCGCTTCAGTGAACGTCAGA...</td>\n",
       "      <td>[IGHVF6-G20*02]</td>\n",
       "      <td>[IGHD3-3*01]</td>\n",
       "      <td>[IGHJ6*02]</td>\n",
       "      <td>[IGHG3*26]</td>\n",
       "      <td>12</td>\n",
       "      <td>191</td>\n",
       "      <td>196</td>\n",
       "      <td>215</td>\n",
       "      <td>218</td>\n",
       "      <td>...</td>\n",
       "      <td>19</td>\n",
       "      <td>False</td>\n",
       "      <td>True</td>\n",
       "      <td>False</td>\n",
       "      <td>Stop codon present.</td>\n",
       "      <td>remove_before_add</td>\n",
       "      <td>15</td>\n",
       "      <td>115</td>\n",
       "      <td>GACAACCACTTGGCGCAGTGCCGGGCTGTGGATAAAGTGCCTGGAC...</td>\n",
       "      <td>GATGACGTCAAGAGG</td>\n",
       "    </tr>\n",
       "    <tr>\n",
       "      <th>2</th>\n",
       "      <td>GCTCTAAACAGTAATTATGCCGTCCGTNCACCAGTCCCCAGGCAAG...</td>\n",
       "      <td>[IGHVF3-G10*03]</td>\n",
       "      <td>[IGHD3-22*01]</td>\n",
       "      <td>[IGHJ6*02]</td>\n",
       "      <td>[IGHE*04]</td>\n",
       "      <td>25</td>\n",
       "      <td>208</td>\n",
       "      <td>223</td>\n",
       "      <td>232</td>\n",
       "      <td>233</td>\n",
       "      <td>...</td>\n",
       "      <td>14</td>\n",
       "      <td>False</td>\n",
       "      <td>False</td>\n",
       "      <td>True</td>\n",
       "      <td>V second C not present.</td>\n",
       "      <td>remove_before_add</td>\n",
       "      <td>25</td>\n",
       "      <td>114</td>\n",
       "      <td>TAATTTCATCTGCAGGGGTCGGGCCCAGGGCTAGGGAAGCCTCTCG...</td>\n",
       "      <td>GCTCTAAACAGTAATTATGCCGTCC</td>\n",
       "    </tr>\n",
       "    <tr>\n",
       "      <th>3</th>\n",
       "      <td>GAGGTGCAGTTGATGGAGTCGGGGAGTGACTTGGTCCGGCCGGCAG...</td>\n",
       "      <td>[IGHVF10-G49*04]</td>\n",
       "      <td>[IGHD5-18*01, IGHD5-5*01]</td>\n",
       "      <td>[IGHJ3*02]</td>\n",
       "      <td>[IGHG3*25]</td>\n",
       "      <td>0</td>\n",
       "      <td>297</td>\n",
       "      <td>313</td>\n",
       "      <td>321</td>\n",
       "      <td>324</td>\n",
       "      <td>...</td>\n",
       "      <td>12</td>\n",
       "      <td>False</td>\n",
       "      <td>True</td>\n",
       "      <td>False</td>\n",
       "      <td>Stop codon present.</td>\n",
       "      <td>no-corruption</td>\n",
       "      <td>0</td>\n",
       "      <td>0</td>\n",
       "      <td></td>\n",
       "      <td></td>\n",
       "    </tr>\n",
       "    <tr>\n",
       "      <th>4</th>\n",
       "      <td>GGGCCTGGGAGTGGGTCTCATCCGATAGTGATGGAAGCACGCAGTG...</td>\n",
       "      <td>[IGHVF10-G35*02]</td>\n",
       "      <td>[IGHD1-14*01]</td>\n",
       "      <td>[IGHJ6*03]</td>\n",
       "      <td>[IGHG1*13]</td>\n",
       "      <td>0</td>\n",
       "      <td>164</td>\n",
       "      <td>166</td>\n",
       "      <td>174</td>\n",
       "      <td>180</td>\n",
       "      <td>...</td>\n",
       "      <td>24</td>\n",
       "      <td>False</td>\n",
       "      <td>True</td>\n",
       "      <td>False</td>\n",
       "      <td>Stop codon present.Stop codon present.</td>\n",
       "      <td>remove</td>\n",
       "      <td>0</td>\n",
       "      <td>128</td>\n",
       "      <td>GGGGTGCACCTGGCGGTGTCTGGGGCAGAGTTGGTTCAGCCTGGAG...</td>\n",
       "      <td></td>\n",
       "    </tr>\n",
       "  </tbody>\n",
       "</table>\n",
       "<p>5 rows × 39 columns</p>\n",
       "</div>"
      ],
      "text/plain": [
       "                                            sequence            v_call  \\\n",
       "0  TGACGGAATAATCCCTTTCGAGTGGGTTGAAGCCCAGGGAAGAGAT...  [IGHVF10-G51*05]   \n",
       "1  GATGACGTCAAGAGGTCCCCAGACAAGCGCTTCAGTGAACGTCAGA...   [IGHVF6-G20*02]   \n",
       "2  GCTCTAAACAGTAATTATGCCGTCCGTNCACCAGTCCCCAGGCAAG...   [IGHVF3-G10*03]   \n",
       "3  GAGGTGCAGTTGATGGAGTCGGGGAGTGACTTGGTCCGGCCGGCAG...  [IGHVF10-G49*04]   \n",
       "4  GGGCCTGGGAGTGGGTCTCATCCGATAGTGATGGAAGCACGCAGTG...  [IGHVF10-G35*02]   \n",
       "\n",
       "                      d_call      j_call      c_call  v_sequence_start  \\\n",
       "0  [IGHD5-5*01, IGHD5-18*01]  [IGHJ6*03]  [IGHG2*12]                88   \n",
       "1               [IGHD3-3*01]  [IGHJ6*02]  [IGHG3*26]                12   \n",
       "2              [IGHD3-22*01]  [IGHJ6*02]   [IGHE*04]                25   \n",
       "3  [IGHD5-18*01, IGHD5-5*01]  [IGHJ3*02]  [IGHG3*25]                 0   \n",
       "4              [IGHD1-14*01]  [IGHJ6*03]  [IGHG1*13]                 0   \n",
       "\n",
       "   v_sequence_end  d_sequence_start  d_sequence_end  j_sequence_start  ...  \\\n",
       "0             384               400             407               413  ...   \n",
       "1             191               196             215               218  ...   \n",
       "2             208               223             232               233  ...   \n",
       "3             297               313             321               324  ...   \n",
       "4             164               166             174               180  ...   \n",
       "\n",
       "   c_trim_3  productive  stop_codon  vj_in_frame  \\\n",
       "0        20       False        True        False   \n",
       "1        19       False        True        False   \n",
       "2        14       False       False         True   \n",
       "3        12       False        True        False   \n",
       "4        24       False        True        False   \n",
       "\n",
       "                                     note   corruption_event  \\\n",
       "0                     Stop codon present.                add   \n",
       "1                     Stop codon present.  remove_before_add   \n",
       "2                 V second C not present.  remove_before_add   \n",
       "3                     Stop codon present.      no-corruption   \n",
       "4  Stop codon present.Stop codon present.             remove   \n",
       "\n",
       "   corruption_add_amount  corruption_remove_amount  \\\n",
       "0                     88                         0   \n",
       "1                     15                       115   \n",
       "2                     25                       114   \n",
       "3                      0                         0   \n",
       "4                      0                       128   \n",
       "\n",
       "                          corruption_removed_section  \\\n",
       "0                                                      \n",
       "1  GACAACCACTTGGCGCAGTGCCGGGCTGTGGATAAAGTGCCTGGAC...   \n",
       "2  TAATTTCATCTGCAGGGGTCGGGCCCAGGGCTAGGGAAGCCTCTCG...   \n",
       "3                                                      \n",
       "4  GGGGTGCACCTGGCGGTGTCTGGGGCAGAGTTGGTTCAGCCTGGAG...   \n",
       "\n",
       "                            corruption_added_section  \n",
       "0  TGACGGAATAATCCCTTTCGAGTGGGTTGAAGCCCAGGGAAGAGAT...  \n",
       "1                                    GATGACGTCAAGAGG  \n",
       "2                          GCTCTAAACAGTAATTATGCCGTCC  \n",
       "3                                                     \n",
       "4                                                     \n",
       "\n",
       "[5 rows x 39 columns]"
      ]
     },
     "execution_count": 9,
     "metadata": {},
     "output_type": "execute_result"
    }
   ],
   "source": [
    "import pandas as pd\n",
    "pd.DataFrame(heavy_sequences)"
   ]
  },
  {
   "cell_type": "markdown",
   "id": "6602fbb859b7c053",
   "metadata": {
    "collapsed": false
   },
   "source": [
    "### Generating a Specific Allele Combination Sequence\n",
    "\n",
    "In some cases, you might want to simulate sequences with specific V, D, and J allele combinations. Here's how to specify alleles for your simulations.\n"
   ]
  },
  {
   "cell_type": "code",
   "execution_count": 13,
   "id": "742db83ce86050e2",
   "metadata": {
    "ExecuteTime": {
     "end_time": "2025-05-21T13:18:14.609607Z",
     "start_time": "2025-05-21T13:18:14.597575Z"
    },
    "collapsed": false
   },
   "outputs": [
    {
     "name": "stdout",
     "output_type": "stream",
     "text": [
      "Specific Allele Combination Sequence: CAGGTGCAGGTGGTGCAGTATGGGGCTGAGGTGAAGAAGCCTGGGTCCGCGGTGAAGGTCTCCTGCAAGGCTTCTGGAGGCACCTTCAGCAGCTATGCTATCAGCTGGGTGCGACAGGCCCCTGGACAAGGGCTTGAGTGGATGGGAGGGATCATCCCTATCTTTGGTACAGCCAACTACGCACAGAAGTTCCAGGACAGAGTCACGATTACCGCGGGTGAATCCACGAGCACAGCCTACATGGAGCTGAGCAGCCTGAGATCTGAGGACACGGCCGTGTATTACTGTGCGAGAGATCGGAAGCTACTACTACTACATGGACGTCTGGGGCAAAGGGACCACGGTCACCGTCTCCTCAGGCAGCCC\n"
     ]
    }
   ],
   "source": [
    "# Define your specific alleles\n",
    "v_allele = 'IGHVF6-G21*01'\n",
    "d_allele = 'IGHD5-18*01'\n",
    "j_allele = 'IGHJ6*03'\n",
    "c_allele = 'IGHA1*01'\n",
    "\n",
    "# Extract the allele objects from data_config\n",
    "v_allele = next((allele for family in data_config_builtin.v_alleles.values() for allele in family if allele.name == v_allele), None)\n",
    "d_allele = next((allele for family in data_config_builtin.d_alleles.values() for allele in family if allele.name == d_allele), None)\n",
    "j_allele = next((allele for family in data_config_builtin.j_alleles.values() for allele in family if allele.name == j_allele), None)\n",
    "c_allele =  next((allele for family in data_config_builtin.c_alleles.values() for allele in family if allele.name == c_allele), None)\n",
    "\n",
    "# Check if all alleles were found\n",
    "if not v_allele or not d_allele or not j_allele:\n",
    "    raise ValueError(\"One or more specified alleles could not be found in the data config.\")\n",
    "\n",
    "\n",
    "# Generate a sequence with the specified allele combination\n",
    "specific_allele_sequence = HeavyChainSequence([v_allele, d_allele, j_allele,c_allele], data_config_builtin)\n",
    "specific_allele_sequence.mutate(s5f_model)\n",
    "\n",
    "\n",
    "\n",
    "print(\"Specific Allele Combination Sequence:\", specific_allele_sequence.mutated_seq)\n"
   ]
  },
  {
   "cell_type": "markdown",
   "id": "e995d61b194da97d",
   "metadata": {
    "collapsed": false
   },
   "source": [
    "### Generating Naïve vs. Mutated Sequence Pairs\n",
    "\n",
    "Comparing naïve and mutated versions of the same sequence can be useful for studying somatic hypermutation effects. Here's how to generate such pairs with GenAIRR.\n"
   ]
  },
  {
   "cell_type": "code",
   "execution_count": 15,
   "id": "dbff7d10ebd89616",
   "metadata": {
    "ExecuteTime": {
     "end_time": "2025-05-21T13:18:26.553770Z",
     "start_time": "2025-05-21T13:18:26.541956Z"
    },
    "collapsed": false
   },
   "outputs": [
    {
     "name": "stdout",
     "output_type": "stream",
     "text": [
      "Naïve Sequence: GAGGTGCAGCTGGTGGAGTCTGGGGGAGGCTTGGTCCAGCCTGGGGGGTCCCTGAAACTCTCCTGTGCAGCCTCTGGGTTCACCTTCAGTGGCTCTGCTATGCACTGGGTCCGCCAGGCTTCCGGGAAAGGGCTGGAGTGGGTTGGCCGTATTAGAAGCAAAGCTAACAGTTACGCGACAGCATATGCTGCGTCGGTGAAAGGCAGGTTCACCATCTCCAGAGATGATTCAAAGAACACGGCGTATCTGCAAATGAACAGCCTGAAAACCGAGGACACGGCCGTGTATTACTGTACTAGCTTGGGGGTTATAGCAGCGGCCGGACTACTGGGGCCAGGGAACCCTGGTCACCGTCTCCTCAGGCTTCCACCAAGGGCC\n",
      "Mutated Sequence: GAGGTGCAGCTGGTGGAGTCTGGGGGAGGCTTGGTCCAGCCTGGGGGGTCCCTGAAACTCTCCTGTGCAGCCTCTGGGTTAACCTTCAGTGGCTCTGCTATGCACTGGGTCCGCCAGGCTTCCGAGAAAGGGCTGGAGTGGGTTGGCCGTATTAGAAGCAAAGCTAACAGTTACGCGACAGCATCTGCTGCGTCGGTGAAAGGCAGGTTCACCATCTCCAGAGATGATTCAAAGAACACGGCGTATCTGCAAATGAACAGCCTGAAAACCGAGGACACGGCCGTGTCTTATTGTACTAGGTCGGGGGCTATAGAAGCGGCCCGACTACTGGGGCCAGGGAACCCTGGTCACCGTCTCCTCAGGCTGCAACCAAGGGCC\n"
     ]
    }
   ],
   "source": [
    "# Generate a naive sequence\n",
    "sequence_object = HeavyChainSequence.create_random(data_config_builtin)\n",
    "sequence_object.mutate(s5f_model)\n",
    "\n",
    "print(\"Naïve Sequence:\", sequence_object.ungapped_seq)\n",
    "print(\"Mutated Sequence:\", sequence_object.mutated_seq)\n"
   ]
  },
  {
   "cell_type": "markdown",
   "id": "e68d3e618c5a3aeb",
   "metadata": {
    "collapsed": false
   },
   "source": [
    "## Conclusion\n",
    "\n",
    "This section highlighted some common use cases for GenAIRR, demonstrating its flexibility in simulating AIRR sequences for various research purposes. Whether you need large datasets, specific allele combinations, custom mutation rates, or comparative analyses of naïve and mutated sequences, GenAIRR provides the necessary tools to achieve your objectives.\n"
   ]
  }
 ],
 "metadata": {
  "kernelspec": {
   "display_name": "base",
   "language": "python",
   "name": "python3"
  },
  "language_info": {
   "codemirror_mode": {
    "name": "ipython",
    "version": 3
   },
   "file_extension": ".py",
   "mimetype": "text/x-python",
   "name": "python",
   "nbconvert_exporter": "python",
   "pygments_lexer": "ipython3",
   "version": "3.9.19"
  }
 },
 "nbformat": 4,
 "nbformat_minor": 5
}

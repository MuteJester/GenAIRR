{
 "cells": [
  {
   "cell_type": "markdown",
   "id": "83e2c6a8384477e1",
   "metadata": {
    "collapsed": false
   },
   "source": [
    "# Quick Start Guide to GenAIRR\n",
    "\n",
    "Welcome to the Quick Start Guide for GenAIRR, a Python module designed for generating synthetic Adaptive Immune Receptor Repertoire (AIRR) sequences. This guide will walk you through the basic usage of GenAIRR, including setting up your environment, simulating heavy and light chain sequences, and customizing your simulations.\n"
   ]
  },
  {
   "cell_type": "markdown",
   "id": "ed61a724084ddd1b",
   "metadata": {
    "collapsed": false
   },
   "source": [
    "## Installation\n",
    "\n",
    "Before you begin, ensure that you have Python 3.x installed on your system. GenAIRR can be installed using pip, Python's package installer. Execute the following command in your terminal:\n"
   ]
  },
  {
   "cell_type": "code",
   "execution_count": null,
   "id": "null",
   "metadata": {
    "collapsed": false,
    "is_executing": true
   },
   "outputs": [],
   "source": [
    "import pandas as pd\n",
    "# Install GenAIRR using pip\n",
    "#!pip install GenAIRR"
   ]
  },
  {
   "cell_type": "markdown",
   "id": "6fbbb7fe05f8830b",
   "metadata": {
    "collapsed": false
   },
   "source": [
    "## Setting Up\n",
    "\n",
    "To start using GenAIRR, you need to import the necessary classes from the module. We'll also set up a `DataConfig` object to specify our configuration.\n"
   ]
  },
  {
   "cell_type": "code",
   "execution_count": 1,
   "id": "508742ea562446bc",
   "metadata": {
    "ExecuteTime": {
     "end_time": "2024-03-10T10:40:21.127700Z",
     "start_time": "2024-03-10T10:40:20.268172Z"
    },
    "collapsed": false
   },
   "outputs": [],
   "source": [
    "# Importing GenAIRR classes\n",
    "from GenAIRR.pipeline import AugmentationPipeline\n",
    "from GenAIRR.data import builtin_heavy_chain_data_config,builtin_lambda_chain_data_config,builtin_kappa_chain_data_config\n",
    "from GenAIRR.steps import SimulateSequence,FixVPositionAfterTrimmingIndexAmbiguity,FixDPositionAfterTrimmingIndexAmbiguity,FixJPositionAfterTrimmingIndexAmbiguity\n",
    "from GenAIRR.steps import CorrectForVEndCut,CorrectForDTrims,CorruptSequenceBeginning,InsertNs,InsertIndels,ShortDValidation,DistillMutationRate\n",
    "from GenAIRR.mutation import S5F\n",
    "from GenAIRR.steps.StepBase import AugmentationStep\n",
    "from GenAIRR.pipeline import CHAIN_TYPE_BCR_HEAVY,CHAIN_TYPE_BCR_LIGHT_KAPPA,CHAIN_TYPE_BCR_LIGHT_LAMBDA\n",
    "from GenAIRR.simulation import HeavyChainSequenceAugmentor, LightChainSequenceAugmentor, SequenceAugmentorArguments\n",
    "from GenAIRR.utilities import DataConfig\n",
    "from GenAIRR.data import builtin_heavy_chain_data_config,builtin_kappa_chain_data_config,builtin_lambda_chain_data_config\n",
    "# Initialize DataConfig with the path to your configuration\n",
    "#data_config = DataConfig('/path/to/your/config')\n",
    "# Or Use one of Our Builtin Data Configs\n",
    "data_config_builtin = builtin_heavy_chain_data_config()\n",
    "\n"
   ]
  },
  {
   "cell_type": "markdown",
   "id": "b9f9c421437b8021",
   "metadata": {
    "collapsed": false
   },
   "source": [
    "## Simulating Heavy Chain Sequences\n",
    "\n",
    "Let's simulate a BCR heavy chain sequence using the default GenAIRR pipeline for BCR heavy chain sequences via the `AugmentationPipeline`. This example demonstrates a simple simulation with default settings.\n"
   ]
  },
  {
   "cell_type": "code",
   "execution_count": 3,
   "id": "166552dbc6c87aa1",
   "metadata": {
    "ExecuteTime": {
     "end_time": "2024-03-10T10:40:21.143739Z",
     "start_time": "2024-03-10T10:40:21.128777Z"
    },
    "collapsed": false
   },
   "outputs": [
    {
     "name": "stdout",
     "output_type": "stream",
     "text": [
      "Simulated Heavy Chain Sequence: {'sequence': 'CGNGNCCAGGTTATGCAGTCTGGGGCTCAGGTGACCAAGTATGGGGCCTCCGTAAAGGCTTTCTGTACGGCCTCTGGAGATACCTTCACTAGCCATACTATGCATTGGGNGCGCCTGGCCCCCGGACAGAGGCTTAAGGGAATGGGCTGGATTTAAAGTGACGATGGTTANACCGTCTGGTCACGGAGGCTACAGGNCAGAGTNACCCTTACCAGGGCCATGTTCGCGGGAAGAGCCTAGAGGGACTTCAGAAGCCTGAGATTCGAAGACACGGCTTTGNGTTAATGCGCGCGAGGTTGTGTTAAAATTCGGAGGTTTCCGGGCGGAGTTACTCTTGATGTCGGGGGCGAAGGAACCCTGGCACCGACTCCTCAGCCCTTCACCACGA', 'v_call': ['IGHVF6-G26*04'], 'd_call': ['IGHD3-10*01'], 'j_call': ['IGHJ3*02'], 'c_call': ['IGHG4*01'], 'v_sequence_start': 0, 'v_sequence_end': 295, 'd_sequence_start': 297, 'd_sequence_end': 317, 'j_sequence_start': 329, 'j_sequence_end': 375, 'v_germline_start': 0, 'v_germline_end': 295, 'd_germline_start': 3, 'd_germline_end': 23, 'j_germline_start': 3, 'j_germline_end': 50, 'junction_sequence_start': 285, 'junction_sequence_end': 345, 'mutation_rate': 0.23969072164948454, 'mutations': {1: 'A>G', 9: 'C>G', 12: 'G>A', 27: 'G>C', 34: 'A>C', 35: 'G>C', 39: 'C>T', 40: 'C>A', 50: 'A>C', 53: 'G>A', 58: 'T>C', 61: 'C>T', 65: 'C>T', 67: 'A>C', 71: 'T>C', 78: 'T>G', 80: 'C>T', 93: 'T>C', 96: 'G>A', 115: 'A>T', 128: 'A>G', 135: 'G>A', 138: 'T>G', 140: 'G>A', 146: 'A>C', 152: 'C>T', 153: 'A>T', 155: 'C>A', 157: 'C>G', 160: 'G>A', 162: 'A>G', 168: 'A>C>T', 173: 'A>G>C', 174: 'A>G', 175: 'A>T', 176: 'A>C', 178: 'A>G', 179: 'T>C>G', 184: 'A>G', 187: 'A>G', 189: 'T>C', 191: 'C>G>A', 196: 'G>T', 207: 'A>C', 217: 'A>C', 220: 'C>T', 221: 'A>G', 223: 'C>A>G>T', 228: 'A>G', 230: 'C>A', 232: 'C>G', 239: 'C>G', 241: 'T>G', 245: 'G>A>C', 246: 'C>T', 248: 'G>C', 251: 'C>A', 262: 'C>T', 263: 'T>G>C', 276: 'G>T', 279: 'T>A', 280: 'A>G', 284: 'C>A', 287: 'T>C', 291: 'A>C', 300: 'A>G', 301: 'C>T', 304: 'T>A', 305: 'G>A', 306: 'G>A', 312: 'G>A', 330: 'G>C>A', 333: 'T>C', 339: 'A>G', 342: 'T>G', 348: 'C>G', 353: 'G>A', 356: 'A>C', 357: 'A>C', 366: 'T>A', 370: 'T>C', 375: 'G>C', 377: 'T>C', 379: 'C>T', 385: 'A>C', 387: 'G>A'}, 'indels': {298: 'I < G', 313: 'D > A', 360: 'D > T'}, 'Ns': {2: 'G > N', 4: 'T > N', 109: 'T > N', 170: 'C > N', 196: 'T > N', 203: 'C > N', 279: 'A > N'}, 'v_trim_5': 0, 'v_trim_3': 0, 'd_trim_5': 3, 'd_trim_3': 8, 'j_trim_5': 3, 'j_trim_3': 0, 'c_trim_3': 27, 'productive': False, 'stop_codon': True, 'vj_in_frame': False, 'note': 'Stop codon present.', 'corruption_event': 'no-corruption', 'corruption_add_amount': 0, 'corruption_remove_amount': 0, 'corruption_removed_section': '', 'corruption_added_section': ''}\n"
     ]
    }
   ],
   "source": [
    "# Set the dataconfig and the chain type for the simulations\n",
    "AugmentationStep.set_dataconfig(builtin_heavy_chain_data_config(),chain_type=CHAIN_TYPE_BCR_HEAVY)\n",
    "\n",
    "# Create the simulation pipeline\n",
    "pipeline = AugmentationPipeline([\n",
    "    SimulateSequence(mutation_model = S5F(min_mutation_rate=0.003,max_mutation_rate=0.25),productive = True),\n",
    "    FixVPositionAfterTrimmingIndexAmbiguity(),\n",
    "    FixDPositionAfterTrimmingIndexAmbiguity(),\n",
    "    FixJPositionAfterTrimmingIndexAmbiguity(),\n",
    "    CorrectForVEndCut(),\n",
    "    CorrectForDTrims(),\n",
    "    CorruptSequenceBeginning(corruption_probability = 0.7,corrupt_events_proba = [0.4,0.4,0.2],max_sequence_length = 576,nucleotide_add_coefficient = 210,\n",
    "                             nucleotide_remove_coefficient = 310,nucleotide_add_after_remove_coefficient = 50,random_sequence_add_proba = 1,\n",
    "                             single_base_stream_proba = 0,duplicate_leading_proba = 0,random_allele_proba = 0),\n",
    "    InsertNs(n_ratio = 0.02,proba = 0.5),\n",
    "    ShortDValidation(short_d_length= 5),\n",
    "    InsertIndels(indel_probability = 0.5,max_indels = 5,insertion_proba=0.5,deletion_proba=0.5),\n",
    "    DistillMutationRate()\n",
    "    ])\n",
    "\n",
    "\n",
    "\n",
    "# Simulate a heavy chain sequence\n",
    "heavy_sequence = pipeline.execute()\n",
    "\n",
    "# Print the simulated heavy chain sequence\n",
    "print(\"Simulated Heavy Chain Sequence:\", heavy_sequence.get_dict())\n"
   ]
  },
  {
   "cell_type": "markdown",
   "id": "dc2fb81c8ffec80f",
   "metadata": {
    "collapsed": false
   },
   "source": [
    "## Customizing Simulations\n",
    "\n",
    "GenAIRR allows for extensive customization to closely mimic the natural diversity of immune sequences. Below is an example of how to customize mutation rates and indel simulations.\n"
   ]
  },
  {
   "cell_type": "code",
   "execution_count": null,
   "id": "dc899faeda4820c6",
   "metadata": {
    "ExecuteTime": {
     "end_time": "2024-03-10T10:40:21.179017Z",
     "start_time": "2024-03-10T10:40:21.144803Z"
    },
    "collapsed": false
   },
   "outputs": [
    {
     "name": "stdout",
     "output_type": "stream",
     "text": [
      "Customized Simulated Heavy Chain Sequence: {'sequence': 'ACGACGTTACGTTGAATCTAGATGACCGCAGCCACGGCCGCCTCCTTGATAACGGCGGACATTGACGTGAGAAGAGTTAGATAAGGGGAAACGCCCCCTAGTCATTCTGCGCGCGAGCGACTTCTTATTATGGATATCCTCTTTGTCTCGCGGGGCAGGACGCACCTTTTCAACGTCTCGCCCGGCACACCTGAGCAGGGACAAGGTCCTT', 'v_call': ['IGHVF6-G21*11', 'IGHVF6-G21*09', 'IGHVF6-G21*07', 'IGHVF6-G21*06'], 'd_call': ['IGHD5-24*01'], 'j_call': ['IGHJ4*02'], 'c_call': ['IGHA2*02'], 'v_sequence_start': 16, 'v_sequence_end': 116, 'd_sequence_start': 127, 'd_sequence_end': 136, 'j_sequence_start': 140, 'j_sequence_end': 184, 'v_germline_start': 196, 'v_germline_end': 296, 'd_germline_start': 4, 'd_germline_end': 13, 'j_germline_start': 4, 'j_germline_end': 48, 'junction_sequence_start': 105, 'junction_sequence_end': 153, 'mutation_rate': 0.33649289099526064, 'mutations': {18: 'A>T', 19: 'G>A', 20: 'A>G', 21: 'G>A', 23: 'C>T>G', 26: 'G>C', 27: 'A>G', 28: 'T>C', 29: 'T>A', 30: 'A>G', 33: 'G>A', 37: 'A>G>C', 40: 'A>C', 41: 'A>C', 45: 'A>T', 46: 'C>G>T', 49: 'G>A>T', 50: 'C>A', 53: 'A>G', 56: 'C>G', 57: 'T>G', 62: 'G>T', 65: 'G>C', 66: 'C>G', 71: 'C>A', 74: 'C>G>A', 75: 'C>G', 77: 'G>A>C>T', 82: 'C>T>G>A', 83: 'T>A', 85: 'A>G', 89: 'C>A', 93: 'G>C', 96: 'G>C', 97: 'T>C', 98: 'G>A>T>A>T', 99: 'T>A', 100: 'A>G', 102: 'T>C', 104: 'C>T', 106: 'G>C', 111: 'A>C', 113: 'A>C', 128: 'G>A>C>T', 133: 'C>G>A', 145: 'A>G>C>T', 148: 'A>C', 149: 'C>A>G', 150: 'T>C', 156: 'C>A', 157: 'A>G', 159: 'G>A', 160: 'G>C', 161: 'A>G', 162: 'A>G>C', 163: 'C>A', 167: 'G>A>T', 168: 'G>T', 172: 'C>A', 179: 'C>A>G', 180: 'T>C', 182: 'A>C>T>C', 187: 'T>C', 188: 'C>A', 191: 'C>T', 194: 'C>G', 198: 'C>T>G', 199: 'C>G', 200: 'C>G>A>G>A', 208: 'T>C', 210: 'C>T'}, 'indels': {}, 'Ns': {}, 'v_trim_5': 0, 'v_trim_3': 0, 'd_trim_5': 4, 'd_trim_3': 7, 'j_trim_5': 4, 'j_trim_3': 0, 'c_trim_3': 13, 'productive': False, 'stop_codon': True, 'vj_in_frame': False, 'note': 'Stop codon present.', 'corruption_event': 'remove_before_add', 'corruption_add_amount': 16, 'corruption_remove_amount': 196, 'corruption_removed_section': 'GAGGTCCAAGTGACGCCGTTTTGGGCTCAGGTGCCTATGCCTGGTTCCTCGGCGAATGCCTCCTTGCGGAGCTTAAGAGGAACCCTGCATAGACTTACCGCCCAATGGGTCCGTCAGCCCCCTCGACACGGACCTGGCAGCATGCAAGGCGCCATCCCCCCGCTTGCGGTTGAAGACGTTAATATGGTCTGGCGGG', 'corruption_added_section': 'ACGACGTTACGTTGAA'}\n"
     ]
    }
   ],
   "source": [
    "# Customize augmentation arguments\n",
    "\n",
    "custom_mutation_model = S5F(min_mutation_rate=0.1,max_mutation_rate=0.5)\n",
    "custom_insert_indel_step = InsertIndels(indel_probability = 0.05,max_indels = 15,insertion_proba=0.7,deletion_proba=0.3)\n",
    "\n",
    "pipeline = AugmentationPipeline([\n",
    "    SimulateSequence(mutation_model = custom_mutation_model,productive = True), # notice here in the simulate sequence step we used the custom mutation model we defined\n",
    "    FixVPositionAfterTrimmingIndexAmbiguity(),\n",
    "    FixDPositionAfterTrimmingIndexAmbiguity(),\n",
    "    FixJPositionAfterTrimmingIndexAmbiguity(),\n",
    "    CorrectForVEndCut(),\n",
    "    CorrectForDTrims(),\n",
    "    CorruptSequenceBeginning(corruption_probability = 0.7,corrupt_events_proba = [0.4,0.4,0.2],max_sequence_length = 576,nucleotide_add_coefficient = 210,\n",
    "                             nucleotide_remove_coefficient = 310,nucleotide_add_after_remove_coefficient = 50,random_sequence_add_proba = 1,\n",
    "                             single_base_stream_proba = 0,duplicate_leading_proba = 0,random_allele_proba = 0),\n",
    "    InsertNs(n_ratio = 0.02,proba = 0.5),\n",
    "    ShortDValidation(short_d_length= 5),\n",
    "    custom_insert_indel_step, # notice here we used the custom insert indel step we have created above\n",
    "    DistillMutationRate()\n",
    "    ])\n",
    "\n",
    "\n",
    "\n",
    "# Simulate a heavy chain sequence\n",
    "heavy_sequence = pipeline.execute()\n",
    "\n",
    "# Print the simulated heavy chain sequence\n",
    "print(\"Customized Simulated Heavy Chain Sequence:\", heavy_sequence.get_dict())\n"
   ]
  },
  {
   "cell_type": "markdown",
   "id": "3e9677c49f998f6e",
   "metadata": {
    "collapsed": false
   },
   "source": [
    "## Generating Naïve Sequences\n",
    "\n",
    "In immunogenetics, a naïve sequence refers to an antibody sequence that has not undergone the process of somatic hypermutation. GenAIRR allows you to simulate such naïve sequences using the `HeavyChainSequence` class. Let's start by generating a naïve heavy chain sequence.\n"
   ]
  },
  {
   "cell_type": "code",
   "execution_count": 52,
   "id": "16de2d6c937f79e",
   "metadata": {
    "ExecuteTime": {
     "end_time": "2024-03-10T10:40:21.185725Z",
     "start_time": "2024-03-10T10:40:21.181191Z"
    },
    "collapsed": false
   },
   "outputs": [
    {
     "name": "stdout",
     "output_type": "stream",
     "text": [
      "Naïve Heavy Chain Sequence: 0|-----------------------------------------------------------------------------V(IGHVF3-G8*01)|294|296|----D(IGHD2-8*02)|312|332|------------J(IGHJ2*01)|381\n",
      "Ungapped Sequence: \n",
      "CAGGTGCAGCTGCAGGAGTCGGGCCCAGGACTGGTGAAGCCTCCGGGGACCCTGTCCCTCACCTGCGCTGTCTCTGGTGGCTCCATCAGCAGTAGTAACTGGTGGAGTTGGGTCCGCCAGCCCCCAGGGAAGGGGCTGGAGTGGATTGGGGAAATCTATCATAGTGGGAGCACCAACTACAACCCGTCCCTCAAGAGTCGAGTCACCATATCAGTAGACAAGTCCAAGAACCAGTTCTCCCTGAAGCTGAGCTCTGTGACCGCCGCGGACACGGCCGTGTATTGCTGTGCGAGAAAACTGGTGGTGTATGCTCCTATCTCCCACATAGGGCTTGGTACTTCGATCTCTGGGGCCGTGGCACCCTGGTCACTGTCTCCTCAG\n"
     ]
    }
   ],
   "source": [
    "from GenAIRR.sequence import HeavyChainSequence\n",
    "\n",
    "# Create a naive heavy chain sequence\n",
    "naive_heavy_sequence = HeavyChainSequence.create_random(data_config_builtin)\n",
    "\n",
    "# Access the generated naive sequence\n",
    "naive_sequence = naive_heavy_sequence\n",
    "\n",
    "print(\"Naïve Heavy Chain Sequence:\", naive_sequence)\n",
    "print('Ungapped Sequence: ')\n",
    "print(naive_sequence.ungapped_seq)\n"
   ]
  },
  {
   "cell_type": "markdown",
   "id": "fc1b9914d8e8366a",
   "metadata": {
    "collapsed": false
   },
   "source": [
    "## Applying Mutations\n",
    "\n",
    "To mimic the natural diversity and evolution of immune sequences, GenAIRR supports the simulation of mutations through various models. Here, we demonstrate how to apply mutations to a naïve sequence using the `S5F` and `Uniform` mutation models from the mutations submodule.\n"
   ]
  },
  {
   "cell_type": "markdown",
   "id": "fe2c0067f2ec7dc3",
   "metadata": {
    "collapsed": false
   },
   "source": [
    "### Using the S5F Mutation Model\n",
    "\n",
    "The `S5F` model is a sophisticated mutation model that considers context-dependent mutation probabilities. It's particularly useful for simulating realistic somatic hypermutations.\n"
   ]
  },
  {
   "cell_type": "code",
   "execution_count": 53,
   "id": "d6e8d59addc75159",
   "metadata": {
    "ExecuteTime": {
     "end_time": "2024-03-10T10:40:21.209833Z",
     "start_time": "2024-03-10T10:40:21.187730Z"
    },
    "collapsed": false
   },
   "outputs": [
    {
     "name": "stdout",
     "output_type": "stream",
     "text": [
      "S5F Mutated Heavy Chain Sequence: CAGGTGCAGCTGCAGGAGTCGGGCCCAGGACTGGTGAAGCCTCCGGGGACCCTGTCCCTCACCTGCGCTGTCTCTGCTGGCTCCATCAGCAGTAGTAACTGGTGGAGTTGGGTCCGCCAGCCCCCAGGGAAGGGGCTGGAGTGGATTGGGGAAATCTATCATAGTGGGAGCACCAACTACAACCCGTCCCTCTAGAGTCGAGTCACCATATCAGTAGACAAGTCCAAGAACCAGTTCTCCCTGAAGCAGAGCTCTGTGACCGCCGCGGACTCGGCCGTGTATTGCTGTGCGAGAAAACTGGTGGTGTATGCTCCTATCTCCCACATAGGGCTTGGTACTTCGATCTCTGGGGCCGTGGCACCCTGGTCACTGTCTCCTCAG\n",
      "S5F Mutation Details: {270: 'A>T', 192: 'A>T', 247: 'T>A', 76: 'G>C'}\n",
      "S5F Mutation Rate: 0.011222406361310347\n"
     ]
    }
   ],
   "source": [
    "from GenAIRR.mutation import S5F\n",
    "\n",
    "# Initialize the S5F mutation model with custom mutation rates\n",
    "s5f_model = S5F(min_mutation_rate=0.01, max_mutation_rate=0.05)\n",
    "\n",
    "# Apply mutations to the naive sequence using the S5F model\n",
    "s5f_mutated_sequence, mutations, mutation_rate = s5f_model.apply_mutation(naive_heavy_sequence)\n",
    "\n",
    "print(\"S5F Mutated Heavy Chain Sequence:\", s5f_mutated_sequence)\n",
    "print(\"S5F Mutation Details:\", mutations)\n",
    "print(\"S5F Mutation Rate:\", mutation_rate)\n"
   ]
  },
  {
   "cell_type": "markdown",
   "id": "2be1586a5cef8f37",
   "metadata": {
    "collapsed": false
   },
   "source": [
    "### Using the Uniform Mutation Model\n",
    "\n",
    "The `Uniform` mutation model applies mutations at a uniform rate across the sequence, providing a simpler alternative to the context-dependent models.\n"
   ]
  },
  {
   "cell_type": "code",
   "execution_count": 54,
   "id": "8c077e1172ba16e4",
   "metadata": {
    "ExecuteTime": {
     "end_time": "2024-03-10T10:40:21.217823Z",
     "start_time": "2024-03-10T10:40:21.210912Z"
    },
    "collapsed": false
   },
   "outputs": [
    {
     "name": "stdout",
     "output_type": "stream",
     "text": [
      "Uniform Mutated Heavy Chain Sequence: CAGGTGCACCTGCAGGAGTCGGGCCGAGGAGTGGTGAAGCCTCCGGGGACCCTGTCCCTCACCTGCGCTGTCTCTGGTGGCTCCATCAGCAGTAGTTACTTGTGGAGTTGGGTCCGCCAGCCACCAGGGAAGGGGCTGGAGTGGATTGGGGAAATCTATCATAGTGGGAGCACCAACTACAACCCGTCCCTCAAGAGTCGAGTCACCATATCAGTAGACAAGTCCAAGAACCAGTTCTCCCTGAAGCTGAGCTCTGTGACCGCCGCGGACACGGCCGTGTATTGCTGTGCGAGAAAACTGGTGGTGTATGCTCCTATCTCCCACATAGGGCTTGGTACTTCGATCTGTGGGGCCGTGGCACCCTGGTCACTGTCTCCTCAG\n",
      "Uniform Mutation Details: {122: 'C>A', 8: 'G>C', 100: 'G>T', 96: 'A>T', 25: 'C>G', 346: 'C>G', 30: 'C>G'}\n",
      "Uniform Mutation Rate: 0.019802269687583134\n"
     ]
    }
   ],
   "source": [
    "from GenAIRR.mutation import Uniform\n",
    "\n",
    "# Initialize the Uniform mutation model with custom mutation rates\n",
    "uniform_model = Uniform(min_mutation_rate=0.01, max_mutation_rate=0.05)\n",
    "\n",
    "# Apply mutations to the naive sequence using the Uniform model\n",
    "uniform_mutated_sequence, mutations, mutation_rate = uniform_model.apply_mutation(naive_heavy_sequence)\n",
    "\n",
    "print(\"Uniform Mutated Heavy Chain Sequence:\", uniform_mutated_sequence)\n",
    "print(\"Uniform Mutation Details:\", mutations)\n",
    "print(\"Uniform Mutation Rate:\", mutation_rate)\n"
   ]
  },
  {
   "cell_type": "markdown",
   "id": "4441a709b198ed43",
   "metadata": {
    "collapsed": false
   },
   "source": [
    "## Common Use Cases\n",
    "\n",
    "GenAIRR is a versatile tool designed to meet a broad range of needs in immunogenetics research. This section provides examples and explanations for some common use cases, including generating multiple sequences, simulating specific allele combinations, and more.\n"
   ]
  },
  {
   "cell_type": "markdown",
   "id": "9fda30883909be54",
   "metadata": {
    "collapsed": false
   },
   "source": [
    "### Generating Many Sequences\n",
    "\n",
    "One common requirement is to generate a large dataset of synthetic AIRR sequences for analysis or benchmarking. Below is an example of how to generate multiple sequences using GenAIRR in a loop.\n"
   ]
  },
  {
   "cell_type": "code",
   "execution_count": 55,
   "id": "8e11eb63c589589c",
   "metadata": {
    "ExecuteTime": {
     "end_time": "2024-03-10T10:40:21.338573Z",
     "start_time": "2024-03-10T10:40:21.220839Z"
    },
    "collapsed": false
   },
   "outputs": [
    {
     "name": "stdout",
     "output_type": "stream",
     "text": [
      "Heavy Chain Sequence 1: {'sequence': 'TTGGNAAGCCAGGCCCTGGAGTGACTTTCACACACTGATCGGTGCGANGCTGAACTCCACAACGCCTCCCTCAAAACCTGACCCACCACGTCCAGGGACCCGTCCGGTAGTCACATGGTCCTGACACTGTCGAACATGGACCCTGTGGACACAGTCACACATTACTGTGCACCGATNCCCCCCCCTACGANGATTCCGGCCGGGCCCTGGCTAATCCAATCACTTGTTGGAGGTCTGGGGCAAAGGGACCACGGCCACCGACTCNTAAG', 'v_sequence_start': 9, 'v_sequence_end': 176, 'd_sequence_start': 185, 'd_sequence_end': 199, 'j_sequence_start': 207, 'j_sequence_end': 269, 'v_call': 'IGHVF1-G3*06,IGHVF1-G3*05,IGHVF1-G3*04', 'd_call': 'IGHD3-10*03', 'j_call': 'IGHJ6*03', 'mutation_rate': 0.241635687732342, 'v_trim_5': 0, 'v_trim_3': 2, 'd_trim_5': 4, 'd_trim_3': 13, 'j_trim_5': 2, 'j_trim_3': 0, 'corruption_event': 'remove_before_add', 'corruption_add_amount': 9, 'corruption_remove_amount': 132, 'indels': {}}\n",
      "Heavy Chain Sequence 2: {'sequence': 'CAGCTGCAGTTGCAGGAGTCGGGCCCNGGACTGGTGAAGCCTTTGGAGGCCCAGTCCCTCTCGTACCCTGTCTCTGGTGACTCCATCAGCAATAGTGGTTACTCCTGGGGCTGAATCCGTCCCCCCNCAGGGAAGGGGCTGGAGTGGATNGCGACTATANATTATAGGGGCAGCTCCTGCTACAACCCGTCCCTCAAGAGTCGAGTCACCATCTCCACAGACACGTCCAAGAAGCAGGTCTCCCTGATGCTGAGCTCTATGACCGCCGCANACACGACTGTNTATTACTGTGCGAGAGTCATGGTTCTGATGTTTTGGAGCAACTGGTTCGACCCCTGGGACCAGGGAAGCCTGGTCACCCTCTCCTCAN', 'v_sequence_start': 0, 'v_sequence_end': 297, 'd_sequence_start': 308, 'd_sequence_end': 317, 'j_sequence_start': 320, 'j_sequence_end': 370, 'v_call': 'IGHVF3-G10*06', 'd_call': 'IGHD3-9*01', 'j_call': 'IGHJ5*02', 'mutation_rate': 0.11621621621621622, 'v_trim_5': 0, 'v_trim_3': 2, 'd_trim_5': 8, 'd_trim_3': 15, 'j_trim_5': 1, 'j_trim_3': 0, 'corruption_event': 'no-corruption', 'corruption_add_amount': 0, 'corruption_remove_amount': 0, 'indels': {}}\n",
      "Heavy Chain Sequence 3: {'sequence': 'CAGAAGAGACTGGTGCAGTCTGGGGTTGACATGAAGACGACTGGGTCGTAATTGAAACTTTCACGAAAGACTTCTGAATACACTCGCACANACCGCTATCTGCACTGGGTCCGACAGGCCCCCAGACGGGCGTTTGAGTGGGTGGGGNGGATCACGCCTTTCAGTGGTAACACCCACTACGTGCAGACGTCCCAGGACAGAGTCCCCATTACCAGGNACAAGTNTACGAGTCCAGCCTATATAGAACTGAACACCCTNAAATGCGAGGACACAGACATATATTAATGCGCANGATCCACGGGAACCCCAGCNGAGAACTGGTACTTCGATCTTTGGGGCCGTGGCCCCCTGATCACCGTCTACTCTG', 'v_sequence_start': 0, 'v_sequence_end': 295, 'd_sequence_start': 295, 'd_sequence_end': 305, 'j_sequence_start': 316, 'j_sequence_end': 367, 'v_call': 'IGHVF6-G20*02', 'd_call': 'IGHD4-11*01,IGHD4-4*01', 'j_call': 'IGHJ2*01', 'mutation_rate': 0.1989100817438692, 'v_trim_5': 0, 'v_trim_3': 1, 'd_trim_5': 3, 'd_trim_3': 3, 'j_trim_5': 3, 'j_trim_3': 0, 'corruption_event': 'no-corruption', 'corruption_add_amount': 0, 'corruption_remove_amount': 0, 'indels': {}}\n",
      "Heavy Chain Sequence 4: {'sequence': 'CAGTTTCAGCTGGTGCCGTCTGGAGCTGAGGTGAAGAAGNCTGNGGCCTCAGTGAAGGTCTCCTGCAAGGCTTCTGANTACACCTTCACCAGGTATGATATNAGCTNGGTTCGACAGGCCCCTGGACAAGGGCTTGAGTGGGTGGGATGGATCAGCGCTTACAAGGGTAACACAAACTATGAACAGAAGCTCCAGGGCAGAGTCACCATGACCACTGACACATCCACGAGCACAGCCTACATAGAGCTGAGGAGTCTGAGATCTGACGACACGGCCGTGTATCACTGTGCGAGAATCGGCGGCAGGGACGAGTCCGCAGATATCTCGCATCCCTATTGCTACTCCGGTATGGACGTCTGGGGCCAAGNNACCACGGTCACCGTCTCCTCAG', 'v_sequence_start': 0, 'v_sequence_end': 294, 'd_sequence_start': 316, 'd_sequence_end': 323, 'j_sequence_start': 332, 'j_sequence_end': 391, 'v_call': 'IGHVF6-G25*02', 'd_call': 'IGHD5-18*01,IGHD5-5*01', 'j_call': 'IGHJ6*02', 'mutation_rate': 0.0639386189258312, 'v_trim_5': 0, 'v_trim_3': 2, 'd_trim_5': 8, 'd_trim_3': 6, 'j_trim_5': 4, 'j_trim_3': 0, 'corruption_event': 'no-corruption', 'corruption_add_amount': 0, 'corruption_remove_amount': 0, 'indels': {}}\n",
      "Heavy Chain Sequence 5: {'sequence': 'GAGGTGCAACTGCTGCAGACCGGGTCAGACTTGATACAGCCAGGGGAGTCCCTCANACTGCCCTGTGCAGCCTCTGGATTCACCTGGTGAANGNATGCCGTGAATTGGGGCCGGCGGCCTCCAGGGATGGGACTTGATTGGGTCTCAGTTCTNAGTGCTAGTGGTGAGAGAACNTTCTCCATAGACTCCATGAAGGGCCGGGTCACCACCTCCAGGGTCAATTGCAAGAGTACGCTGTATCTGAAAATGAAGGGCCTGAGAGCCGAGGACGCGGCTGTTTATTATTGAGCGAGAGAGGCCTTAGGGTCGGATTACTACTCCTTTTACATGGACGTCTGGGGCACAGGGACCGCGGNCACCGTCTCGTCAC', 'v_sequence_start': 0, 'v_sequence_end': 296, 'd_sequence_start': 302, 'd_sequence_end': 306, 'j_sequence_start': 310, 'j_sequence_end': 370, 'v_call': 'IGHVF10-G41*02', 'd_call': 'Short-D', 'j_call': 'IGHJ6*03', 'mutation_rate': 0.1972972972972973, 'v_trim_5': 0, 'v_trim_3': 0, 'd_trim_5': 7, 'd_trim_3': 6, 'j_trim_5': 4, 'j_trim_3': 0, 'corruption_event': 'no-corruption', 'corruption_add_amount': 0, 'corruption_remove_amount': 0, 'indels': {}}\n"
     ]
    }
   ],
   "source": [
    "num_sequences = 5  # Number of sequences to generate\n",
    "\n",
    "heavy_sequences = []\n",
    "for _ in range(num_sequences):\n",
    "    # Simulate a heavy chain sequence\n",
    "    heavy_sequence = heavy_augmentor.simulate_augmented_sequence()\n",
    "    heavy_sequences.append(heavy_sequence)\n",
    "\n",
    "# Display the generated sequences\n",
    "for i, seq in enumerate(heavy_sequences, start=1):\n",
    "    print(f\"Heavy Chain Sequence {i}: {seq}\")\n"
   ]
  },
  {
   "cell_type": "code",
   "execution_count": 56,
   "id": "c6e596c6d66fe79",
   "metadata": {
    "ExecuteTime": {
     "end_time": "2024-03-10T10:40:21.358691Z",
     "start_time": "2024-03-10T10:40:21.339647Z"
    },
    "collapsed": false
   },
   "outputs": [
    {
     "data": {
      "text/html": [
       "<div>\n",
       "<style scoped>\n",
       "    .dataframe tbody tr th:only-of-type {\n",
       "        vertical-align: middle;\n",
       "    }\n",
       "\n",
       "    .dataframe tbody tr th {\n",
       "        vertical-align: top;\n",
       "    }\n",
       "\n",
       "    .dataframe thead th {\n",
       "        text-align: right;\n",
       "    }\n",
       "</style>\n",
       "<table border=\"1\" class=\"dataframe\">\n",
       "  <thead>\n",
       "    <tr style=\"text-align: right;\">\n",
       "      <th></th>\n",
       "      <th>sequence</th>\n",
       "      <th>v_sequence_start</th>\n",
       "      <th>v_sequence_end</th>\n",
       "      <th>d_sequence_start</th>\n",
       "      <th>d_sequence_end</th>\n",
       "      <th>j_sequence_start</th>\n",
       "      <th>j_sequence_end</th>\n",
       "      <th>v_call</th>\n",
       "      <th>d_call</th>\n",
       "      <th>j_call</th>\n",
       "      <th>...</th>\n",
       "      <th>v_trim_5</th>\n",
       "      <th>v_trim_3</th>\n",
       "      <th>d_trim_5</th>\n",
       "      <th>d_trim_3</th>\n",
       "      <th>j_trim_5</th>\n",
       "      <th>j_trim_3</th>\n",
       "      <th>corruption_event</th>\n",
       "      <th>corruption_add_amount</th>\n",
       "      <th>corruption_remove_amount</th>\n",
       "      <th>indels</th>\n",
       "    </tr>\n",
       "  </thead>\n",
       "  <tbody>\n",
       "    <tr>\n",
       "      <th>0</th>\n",
       "      <td>TTGGNAAGCCAGGCCCTGGAGTGACTTTCACACACTGATCGGTGCG...</td>\n",
       "      <td>9</td>\n",
       "      <td>176</td>\n",
       "      <td>185</td>\n",
       "      <td>199</td>\n",
       "      <td>207</td>\n",
       "      <td>269</td>\n",
       "      <td>IGHVF1-G3*06,IGHVF1-G3*05,IGHVF1-G3*04</td>\n",
       "      <td>IGHD3-10*03</td>\n",
       "      <td>IGHJ6*03</td>\n",
       "      <td>...</td>\n",
       "      <td>0</td>\n",
       "      <td>2</td>\n",
       "      <td>4</td>\n",
       "      <td>13</td>\n",
       "      <td>2</td>\n",
       "      <td>0</td>\n",
       "      <td>remove_before_add</td>\n",
       "      <td>9</td>\n",
       "      <td>132</td>\n",
       "      <td>{}</td>\n",
       "    </tr>\n",
       "    <tr>\n",
       "      <th>1</th>\n",
       "      <td>CAGCTGCAGTTGCAGGAGTCGGGCCCNGGACTGGTGAAGCCTTTGG...</td>\n",
       "      <td>0</td>\n",
       "      <td>297</td>\n",
       "      <td>308</td>\n",
       "      <td>317</td>\n",
       "      <td>320</td>\n",
       "      <td>370</td>\n",
       "      <td>IGHVF3-G10*06</td>\n",
       "      <td>IGHD3-9*01</td>\n",
       "      <td>IGHJ5*02</td>\n",
       "      <td>...</td>\n",
       "      <td>0</td>\n",
       "      <td>2</td>\n",
       "      <td>8</td>\n",
       "      <td>15</td>\n",
       "      <td>1</td>\n",
       "      <td>0</td>\n",
       "      <td>no-corruption</td>\n",
       "      <td>0</td>\n",
       "      <td>0</td>\n",
       "      <td>{}</td>\n",
       "    </tr>\n",
       "    <tr>\n",
       "      <th>2</th>\n",
       "      <td>CAGAAGAGACTGGTGCAGTCTGGGGTTGACATGAAGACGACTGGGT...</td>\n",
       "      <td>0</td>\n",
       "      <td>295</td>\n",
       "      <td>295</td>\n",
       "      <td>305</td>\n",
       "      <td>316</td>\n",
       "      <td>367</td>\n",
       "      <td>IGHVF6-G20*02</td>\n",
       "      <td>IGHD4-11*01,IGHD4-4*01</td>\n",
       "      <td>IGHJ2*01</td>\n",
       "      <td>...</td>\n",
       "      <td>0</td>\n",
       "      <td>1</td>\n",
       "      <td>3</td>\n",
       "      <td>3</td>\n",
       "      <td>3</td>\n",
       "      <td>0</td>\n",
       "      <td>no-corruption</td>\n",
       "      <td>0</td>\n",
       "      <td>0</td>\n",
       "      <td>{}</td>\n",
       "    </tr>\n",
       "    <tr>\n",
       "      <th>3</th>\n",
       "      <td>CAGTTTCAGCTGGTGCCGTCTGGAGCTGAGGTGAAGAAGNCTGNGG...</td>\n",
       "      <td>0</td>\n",
       "      <td>294</td>\n",
       "      <td>316</td>\n",
       "      <td>323</td>\n",
       "      <td>332</td>\n",
       "      <td>391</td>\n",
       "      <td>IGHVF6-G25*02</td>\n",
       "      <td>IGHD5-18*01,IGHD5-5*01</td>\n",
       "      <td>IGHJ6*02</td>\n",
       "      <td>...</td>\n",
       "      <td>0</td>\n",
       "      <td>2</td>\n",
       "      <td>8</td>\n",
       "      <td>6</td>\n",
       "      <td>4</td>\n",
       "      <td>0</td>\n",
       "      <td>no-corruption</td>\n",
       "      <td>0</td>\n",
       "      <td>0</td>\n",
       "      <td>{}</td>\n",
       "    </tr>\n",
       "    <tr>\n",
       "      <th>4</th>\n",
       "      <td>GAGGTGCAACTGCTGCAGACCGGGTCAGACTTGATACAGCCAGGGG...</td>\n",
       "      <td>0</td>\n",
       "      <td>296</td>\n",
       "      <td>302</td>\n",
       "      <td>306</td>\n",
       "      <td>310</td>\n",
       "      <td>370</td>\n",
       "      <td>IGHVF10-G41*02</td>\n",
       "      <td>Short-D</td>\n",
       "      <td>IGHJ6*03</td>\n",
       "      <td>...</td>\n",
       "      <td>0</td>\n",
       "      <td>0</td>\n",
       "      <td>7</td>\n",
       "      <td>6</td>\n",
       "      <td>4</td>\n",
       "      <td>0</td>\n",
       "      <td>no-corruption</td>\n",
       "      <td>0</td>\n",
       "      <td>0</td>\n",
       "      <td>{}</td>\n",
       "    </tr>\n",
       "  </tbody>\n",
       "</table>\n",
       "<p>5 rows × 21 columns</p>\n",
       "</div>"
      ],
      "text/plain": [
       "                                            sequence  v_sequence_start  \\\n",
       "0  TTGGNAAGCCAGGCCCTGGAGTGACTTTCACACACTGATCGGTGCG...                 9   \n",
       "1  CAGCTGCAGTTGCAGGAGTCGGGCCCNGGACTGGTGAAGCCTTTGG...                 0   \n",
       "2  CAGAAGAGACTGGTGCAGTCTGGGGTTGACATGAAGACGACTGGGT...                 0   \n",
       "3  CAGTTTCAGCTGGTGCCGTCTGGAGCTGAGGTGAAGAAGNCTGNGG...                 0   \n",
       "4  GAGGTGCAACTGCTGCAGACCGGGTCAGACTTGATACAGCCAGGGG...                 0   \n",
       "\n",
       "   v_sequence_end  d_sequence_start  d_sequence_end  j_sequence_start  \\\n",
       "0             176               185             199               207   \n",
       "1             297               308             317               320   \n",
       "2             295               295             305               316   \n",
       "3             294               316             323               332   \n",
       "4             296               302             306               310   \n",
       "\n",
       "   j_sequence_end                                  v_call  \\\n",
       "0             269  IGHVF1-G3*06,IGHVF1-G3*05,IGHVF1-G3*04   \n",
       "1             370                           IGHVF3-G10*06   \n",
       "2             367                           IGHVF6-G20*02   \n",
       "3             391                           IGHVF6-G25*02   \n",
       "4             370                          IGHVF10-G41*02   \n",
       "\n",
       "                   d_call    j_call  ...  v_trim_5  v_trim_3  d_trim_5  \\\n",
       "0             IGHD3-10*03  IGHJ6*03  ...         0         2         4   \n",
       "1              IGHD3-9*01  IGHJ5*02  ...         0         2         8   \n",
       "2  IGHD4-11*01,IGHD4-4*01  IGHJ2*01  ...         0         1         3   \n",
       "3  IGHD5-18*01,IGHD5-5*01  IGHJ6*02  ...         0         2         8   \n",
       "4                 Short-D  IGHJ6*03  ...         0         0         7   \n",
       "\n",
       "   d_trim_3  j_trim_5  j_trim_3   corruption_event corruption_add_amount  \\\n",
       "0        13         2         0  remove_before_add                     9   \n",
       "1        15         1         0      no-corruption                     0   \n",
       "2         3         3         0      no-corruption                     0   \n",
       "3         6         4         0      no-corruption                     0   \n",
       "4         6         4         0      no-corruption                     0   \n",
       "\n",
       "   corruption_remove_amount  indels  \n",
       "0                       132      {}  \n",
       "1                         0      {}  \n",
       "2                         0      {}  \n",
       "3                         0      {}  \n",
       "4                         0      {}  \n",
       "\n",
       "[5 rows x 21 columns]"
      ]
     },
     "execution_count": 56,
     "metadata": {},
     "output_type": "execute_result"
    }
   ],
   "source": [
    "import pandas as pd\n",
    "pd.DataFrame(heavy_sequences)"
   ]
  },
  {
   "cell_type": "markdown",
   "id": "6602fbb859b7c053",
   "metadata": {
    "collapsed": false
   },
   "source": [
    "### Generating a Specific Allele Combination Sequence\n",
    "\n",
    "In some cases, you might want to simulate sequences with specific V, D, and J allele combinations. Here's how to specify alleles for your simulations.\n"
   ]
  },
  {
   "cell_type": "code",
   "execution_count": 57,
   "id": "742db83ce86050e2",
   "metadata": {
    "ExecuteTime": {
     "end_time": "2024-03-10T10:40:21.371960Z",
     "start_time": "2024-03-10T10:40:21.360839Z"
    },
    "collapsed": false
   },
   "outputs": [
    {
     "name": "stdout",
     "output_type": "stream",
     "text": [
      "Specific Allele Combination Sequence: CAGGTGCAGTTGGTGCAGTCTGGGACTGAGTTGAAGACGCCTGGGTCCTCGGTGAAGGTCTCCTGCAAGGCTTCTAGAGGCACCTTCAGCAGCTCTGCTATCAGCTGGGTGCGACAGGCCCCTGGACAAGGGCTTGAGTGGATGGGAGGGATCATCCCTATCTTTGGTACAGCAAACTACGCACAGAAGTTCCAGGGCAGAGTCACGATTACCGCGGATAAATCCACGAGCACAGCCTACATGGAGCTGAGCAGCCTGAGATCTGAGGATACGGCCGTGTATTACTGTGCGAGAGAGGATGGGTCCGGATCCCACCCCATTTACTATTACTACTACTACATGGACGTCTGGGGCAAAGGGACCACGGTCACCGTCTCCTCAG\n"
     ]
    }
   ],
   "source": [
    "# Define your specific alleles\n",
    "v_allele = 'IGHVF6-G21*01'\n",
    "d_allele = 'IGHD5-18*01'\n",
    "j_allele = 'IGHJ6*03'\n",
    "\n",
    "# Extract the allele objects from data_config\n",
    "v_allele = next((allele for family in data_config_builtin.v_alleles.values() for allele in family if allele.name == v_allele), None)\n",
    "d_allele = next((allele for family in data_config_builtin.d_alleles.values() for allele in family if allele.name == d_allele), None)\n",
    "j_allele = next((allele for family in data_config_builtin.j_alleles.values() for allele in family if allele.name == j_allele), None)\n",
    "\n",
    "# Check if all alleles were found\n",
    "if not v_allele or not d_allele or not j_allele:\n",
    "    raise ValueError(\"One or more specified alleles could not be found in the data config.\")\n",
    "\n",
    "\n",
    "# Generate a sequence with the specified allele combination\n",
    "specific_allele_sequence = HeavyChainSequence([v_allele, d_allele, j_allele], data_config_builtin)\n",
    "specific_allele_sequence.mutate(s5f_model)\n",
    "\n",
    "\n",
    "\n",
    "print(\"Specific Allele Combination Sequence:\", specific_allele_sequence.mutated_seq)\n"
   ]
  },
  {
   "cell_type": "markdown",
   "id": "e995d61b194da97d",
   "metadata": {
    "collapsed": false
   },
   "source": [
    "### Generating Naïve vs. Mutated Sequence Pairs\n",
    "\n",
    "Comparing naïve and mutated versions of the same sequence can be useful for studying somatic hypermutation effects. Here's how to generate such pairs with GenAIRR.\n"
   ]
  },
  {
   "cell_type": "code",
   "execution_count": 59,
   "id": "dbff7d10ebd89616",
   "metadata": {
    "ExecuteTime": {
     "end_time": "2024-03-10T10:40:21.434293Z",
     "start_time": "2024-03-10T10:40:21.425151Z"
    },
    "collapsed": false
   },
   "outputs": [
    {
     "name": "stdout",
     "output_type": "stream",
     "text": [
      "Naïve Sequence: CAGGTGCAGCTGCAGGAGTCGGGCCCAGGACTGGTGAAGCCTTCGGACACCCTGTCCCTCACCTGCGCTGTCTCTGGTTACTCCATCAGCAGTAGTAACTGGTGGGGCTGGATCCGGCAGCCCCCAGGGAAGGGACTGGAGTGGATTGGGTACATCTATTATAGTGGGAGCATCTACTACAACCCGTCCCTCAAGAGTCGAGTCACCATGTCAGTAGACACGTCCAAGAACCAGTTCTCCCTGAAGCTGAGCTCTGTGACCGCCGTGGACACGGCCGTGTATTACTGTGCGAGAAAGCCACTCGGTCACACTACGGTGGTAACTCATGCTTTTGATATCTGGGGCCAAGGGACAATGGTCACCGTCTCTTCAG\n",
      "Mutated Sequence: CAGGTGCAGCTGCAGGAGTCGGGCCCAGGACTGGTGAAGCCTTCGGACACCCTGTCCCTCACCTGCGCTGTCTCTGGTTACTCCATCAGCAGTAGTAACTGGTGGGGCTGGATCCGGCAGCCCCCAGGGAAGGGACTGGAGTGGATTGGGAACATCCATTATAGTGGGAGCATCTACTACAACCCGTCCCTCAAGAGTCGAGTCACCATGTCACTAGACACGTCCAAGAACCAGTTCTCCCTGAAACTGAGCTCTGTGGCCGCCGTGGACACGGCCGTGTATTACTGTGCGAGAACGCCACTCGGTCACACTACGGTGGTAATTCATGCTTTTGATATCTGGGGCCAAGGGACAATGGTCACCGTCTCTTCAG\n"
     ]
    }
   ],
   "source": [
    "# Generate a naive sequence\n",
    "sequence_object = HeavyChainSequence.create_random(data_config_builtin)\n",
    "sequence_object.mutate(s5f_model)\n",
    "\n",
    "print(\"Naïve Sequence:\", sequence_object.ungapped_seq)\n",
    "print(\"Mutated Sequence:\", sequence_object.mutated_seq)\n"
   ]
  },
  {
   "cell_type": "markdown",
   "id": "e68d3e618c5a3aeb",
   "metadata": {
    "collapsed": false
   },
   "source": [
    "## Conclusion\n",
    "\n",
    "This section highlighted some common use cases for GenAIRR, demonstrating its flexibility in simulating AIRR sequences for various research purposes. Whether you need large datasets, specific allele combinations, custom mutation rates, or comparative analyses of naïve and mutated sequences, GenAIRR provides the necessary tools to achieve your objectives.\n"
   ]
  }
 ],
 "metadata": {
  "kernelspec": {
   "display_name": "base",
   "language": "python",
   "name": "python3"
  },
  "language_info": {
   "codemirror_mode": {
    "name": "ipython",
    "version": 3
   },
   "file_extension": ".py",
   "mimetype": "text/x-python",
   "name": "python",
   "nbconvert_exporter": "python",
   "pygments_lexer": "ipython3",
   "version": "3.9.19"
  }
 },
 "nbformat": 4,
 "nbformat_minor": 5
}
